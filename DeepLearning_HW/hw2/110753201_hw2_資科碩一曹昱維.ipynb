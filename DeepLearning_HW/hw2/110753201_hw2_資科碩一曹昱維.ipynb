{
 "cells": [
  {
   "cell_type": "code",
   "execution_count": 13,
   "metadata": {},
   "outputs": [],
   "source": [
    "import scipy.io \n",
    "import numpy as np\n",
    "import matplotlib.pyplot as plt\n",
    "from sklearn.preprocessing import PolynomialFeatures\n",
    "train = scipy.io.loadmat('train.mat') \n",
    "train_x = np.concatenate((train['x1'],train['x2']), axis=1)\n",
    "train_X = PolynomialFeatures(degree=1).fit_transform(train_x)\n",
    "train_y = train['y']\n",
    "test = scipy.io.loadmat('test.mat') \n",
    "test_x = np.concatenate((test['x1'],test['x2']), axis=1)\n",
    "test_X = PolynomialFeatures(degree=1).fit_transform(test_x)\n",
    "test_y = test['y']\n",
    "# display(test_X[:5])\n",
    "# display(test_y[:5])\n",
    "# display(train_X[:5])\n",
    "# display(train_y[:5])"
   ]
  },
  {
   "cell_type": "code",
   "execution_count": 19,
   "metadata": {},
   "outputs": [
    {
     "name": "stdout",
     "output_type": "stream",
     "text": [
      "[[0.19003304 0.80996696]\n",
      " [0.275543   0.724457  ]\n",
      " [0.19182308 0.80817692]\n",
      " [0.07853787 0.92146213]\n",
      " [0.15034323 0.84965677]\n",
      " [0.09437235 0.90562765]\n",
      " [0.42317749 0.57682251]\n",
      " [0.04727084 0.95272916]\n",
      " [0.09437235 0.90562765]\n",
      " [0.05657101 0.94342899]\n",
      " [0.19362594 0.80637406]\n",
      " [0.05657101 0.94342899]\n",
      " [0.07687694 0.92312306]\n",
      " [0.11653956 0.88346044]\n",
      " [0.15182948 0.84817052]\n",
      " [0.64532471 0.35467529]\n",
      " [0.96168028 0.03831972]\n",
      " [0.98727251 0.01272749]\n",
      " [0.65586087 0.34413913]\n",
      " [0.85050959 0.14949041]\n",
      " [0.81276466 0.18723534]\n",
      " [0.87430864 0.12569136]\n",
      " [0.90420937 0.09579063]\n",
      " [0.72809098 0.27190902]\n",
      " [0.81099483 0.18900517]\n",
      " [0.71173859 0.28826141]\n",
      " [0.76393421 0.23606579]\n",
      " [0.92194505 0.07805495]\n",
      " [0.66881765 0.33118235]\n",
      " [0.8092122  0.1907878 ]]\n",
      "1.0\n"
     ]
    },
    {
     "name": "stderr",
     "output_type": "stream",
     "text": [
      "/usr/local/lib/python3.6/dist-packages/sklearn/utils/validation.py:63: DataConversionWarning: A column-vector y was passed when a 1d array was expected. Please change the shape of y to (n_samples, ), for example using ravel().\n",
      "  return f(*args, **kwargs)\n"
     ]
    }
   ],
   "source": [
    "from sklearn.linear_model import LogisticRegression\n",
    "from sklearn.metrics import accuracy_score\n",
    "model = LogisticRegression()\n",
    "model.fit(train_X,train_y)\n",
    "print(model.predict_proba(test_X))\n",
    "print(accuracy_score(test_y,model.predict(test_X)))"
   ]
  },
  {
   "cell_type": "code",
   "execution_count": 2,
   "metadata": {},
   "outputs": [
    {
     "data": {
      "text/plain": [
       "array([[0.0096],\n",
       "       [0.0089],\n",
       "       [0.0089],\n",
       "       [0.0087],\n",
       "       [0.0096],\n",
       "       [0.0103],\n",
       "       [0.009 ],\n",
       "       [0.0094],\n",
       "       [0.0083],\n",
       "       [0.009 ],\n",
       "       [0.0101],\n",
       "       [0.0092],\n",
       "       [0.0088],\n",
       "       [0.0083],\n",
       "       [0.0108],\n",
       "       [0.0111],\n",
       "       [0.0103],\n",
       "       [0.0096],\n",
       "       [0.0105],\n",
       "       [0.0099],\n",
       "       [0.0098],\n",
       "       [0.0098],\n",
       "       [0.0092],\n",
       "       [0.0094],\n",
       "       [0.0092],\n",
       "       [0.009 ],\n",
       "       [0.0094],\n",
       "       [0.0097],\n",
       "       [0.0096],\n",
       "       [0.0089],\n",
       "       [0.0089],\n",
       "       [0.0098],\n",
       "       [0.0103],\n",
       "       [0.0107],\n",
       "       [0.009 ],\n",
       "       [0.0112],\n",
       "       [0.0106],\n",
       "       [0.011 ],\n",
       "       [0.0088],\n",
       "       [0.0103],\n",
       "       [0.0095],\n",
       "       [0.0106],\n",
       "       [0.0083],\n",
       "       [0.0105],\n",
       "       [0.0089],\n",
       "       [0.008 ],\n",
       "       [0.0099],\n",
       "       [0.0092],\n",
       "       [0.01  ],\n",
       "       [0.0095],\n",
       "       [0.0108],\n",
       "       [0.0096],\n",
       "       [0.0095],\n",
       "       [0.0094],\n",
       "       [0.0091],\n",
       "       [0.0101],\n",
       "       [0.0099],\n",
       "       [0.0098],\n",
       "       [0.0099],\n",
       "       [0.0103],\n",
       "       [0.0106],\n",
       "       [0.0106],\n",
       "       [0.0107],\n",
       "       [0.0099],\n",
       "       [0.0093],\n",
       "       [0.0089],\n",
       "       [0.0089],\n",
       "       [0.0095],\n",
       "       [0.0097],\n",
       "       [0.0094]])"
      ]
     },
     "execution_count": 2,
     "metadata": {},
     "output_type": "execute_result"
    }
   ],
   "source": [
    "theta0 = 0.001; theta1 = 0.001; theta2 = 0.001\n",
    "init_weight = np.array([[theta0], [theta1], [theta2]])\n",
    "def gradient():\n",
    "    \n",
    "    decision_boundary = X.dot(init_weight)                                              \n",
    "    sig_h = 1/(1 + np.exp(-1*(decision_boundary)))\n",
    "    return ((y-sig_h)*X)"
   ]
  },
  {
   "cell_type": "code",
   "execution_count": null,
   "metadata": {},
   "outputs": [],
   "source": [
    "decision_boundary = X.dot(init_weight)                                              \n",
    "print(decision_boundary[:5])"
   ]
  },
  {
   "cell_type": "code",
   "execution_count": null,
   "metadata": {},
   "outputs": [],
   "source": []
  }
 ],
 "metadata": {
  "kernelspec": {
   "display_name": "Python 3",
   "language": "python",
   "name": "python3"
  },
  "language_info": {
   "codemirror_mode": {
    "name": "ipython",
    "version": 3
   },
   "file_extension": ".py",
   "mimetype": "text/x-python",
   "name": "python",
   "nbconvert_exporter": "python",
   "pygments_lexer": "ipython3",
   "version": "3.6.9"
  }
 },
 "nbformat": 4,
 "nbformat_minor": 2
}
