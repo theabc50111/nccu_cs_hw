{
 "cells": [
  {
   "cell_type": "markdown",
   "metadata": {},
   "source": [
    "# 1. \n",
    "# In ‘train.mat,’ you can find 2-D points X=[x1, x2] and their corresponding labels Y=y. "
   ]
  },
  {
   "cell_type": "markdown",
   "metadata": {},
   "source": [
    "## load and observe data"
   ]
  },
  {
   "cell_type": "code",
   "execution_count": 1,
   "metadata": {},
   "outputs": [
    {
     "name": "stdout",
     "output_type": "stream",
     "text": [
      "(70, 3) (70, 1)\n"
     ]
    },
    {
     "data": {
      "image/png": "[encoded data removed]",
      "text/plain": [
       "<Figure size 432x288 with 1 Axes>"
      ]
     },
     "metadata": {},
     "output_type": "display_data"
    }
   ],
   "source": [
    "import scipy.io \n",
    "import numpy as np\n",
    "import matplotlib.pyplot as plt\n",
    "from sklearn.preprocessing import PolynomialFeatures\n",
    "train = scipy.io.loadmat('train.mat') \n",
    "train_x = np.concatenate((train['x1'],train['x2']), axis=1)\n",
    "train_X = PolynomialFeatures(degree=1).fit_transform(train_x)\n",
    "train_y = train['y']\n",
    "test = scipy.io.loadmat('test.mat') \n",
    "test_x = np.concatenate((test['x1'],test['x2']), axis=1)\n",
    "test_X = PolynomialFeatures(degree=1).fit_transform(test_x)\n",
    "test_y = test['y']\n",
    "\n",
    "print(train_X.shape, train_y.shape)\n",
    "plt.scatter(train['x1'][:35], train['x2'][:35], c='g')\n",
    "plt.scatter(train['x1'][35:], train['x2'][35:], c='r')\n",
    "plt.show()"
   ]
  },
  {
   "cell_type": "markdown",
   "metadata": {},
   "source": [
    "## Please use logistic regression $ℎ(𝜽) = \\frac{1}{1+e^{- \\theta^Tx}}$  to find the decision boundary(optimal $𝜽^*$ ) based on ‘train.mat.” \n",
    "## Please use a gradient descent method to solve it"
   ]
  },
  {
   "cell_type": "code",
   "execution_count": 2,
   "metadata": {},
   "outputs": [
    {
     "name": "stdout",
     "output_type": "stream",
     "text": [
      "[0.28653464] [-1.74841799] [2.98028924]\n"
     ]
    },
    {
     "data": {
      "image/png": "[encoded data removed]",
      "text/plain": [
       "<Figure size 432x288 with 1 Axes>"
      ]
     },
     "metadata": {},
     "output_type": "display_data"
    }
   ],
   "source": [
    "def gradient(x,y,weight):\n",
    "    theta_d_x = x.dot(weight)                                              \n",
    "    sig_h = 1/(1 + np.exp(-1*(theta_d_x)))\n",
    "    return -1*((y-sig_h)*x).sum(axis=0).reshape(-1,1)\n",
    "\n",
    "\n",
    "def gradient_descent(x, y, gradient, init_weight, learn_rate, n_iter=40000, tolerance=1e-6):\n",
    "    weight = init_weight\n",
    "    for _ in range(n_iter):\n",
    "        diff = -learn_rate * gradient(x, y, weight)\n",
    "        if np.all(np.abs(diff) <= tolerance):\n",
    "            break\n",
    "        weight += diff\n",
    "    return weight\n",
    "\n",
    "theta0 = 0.001; theta1 = 0.001; theta2 = 0.001\n",
    "init_weight = np.array([[theta0], [theta1], [theta2]])\n",
    "final_weights = gradient_descent(train_X, train_y, gradient, init_weight, 1e-5)\n",
    "decision_boundary = (np.linspace(4,8,50),-1*(final_weights[1]/final_weights[2])*np.linspace(4,8,50)-(final_weights[0]/final_weights[2]))\n",
    "\n",
    "print(final_weights[0], final_weights[1], final_weights[2])\n",
    "plt.plot(decision_boundary[0], decision_boundary[1])\n",
    "plt.scatter(test['x1'][:15], test['x2'][:15], c='g')\n",
    "plt.scatter(test['x1'][15:], test['x2'][15:], c='r')\n",
    "plt.show()"
   ]
  },
  {
   "cell_type": "markdown",
   "metadata": {},
   "source": [
    "## use a gradient descent method to solve it and report the test error on the test dataset ‘test.mat.’ (percentage of misclassified test samples)"
   ]
  },
  {
   "cell_type": "code",
   "execution_count": 4,
   "metadata": {},
   "outputs": [
    {
     "name": "stdout",
     "output_type": "stream",
     "text": [
      "0.9666666666666667\n"
     ]
    }
   ],
   "source": [
    "from sklearn.metrics import accuracy_score\n",
    "theta_d_x = test_X.dot(final_weights)                                              \n",
    "pred = 1/(1 + np.exp(-1*(theta_d_x)))\n",
    "pred = np.round(pred, decimals=0)\n",
    "print(accuracy_score(test_y, pred))"
   ]
  },
  {
   "cell_type": "markdown",
   "metadata": {},
   "source": [
    "### check the result of using sklearn"
   ]
  },
  {
   "cell_type": "code",
   "execution_count": 5,
   "metadata": {},
   "outputs": [
    {
     "name": "stdout",
     "output_type": "stream",
     "text": [
      "[[ 6.36289705e-06 -2.58940281e+00  2.70528217e+00]]\n",
      "1.0\n"
     ]
    },
    {
     "name": "stderr",
     "output_type": "stream",
     "text": [
      "/usr/local/lib/python3.6/dist-packages/sklearn/utils/validation.py:63: DataConversionWarning: A column-vector y was passed when a 1d array was expected. Please change the shape of y to (n_samples, ), for example using ravel().\n",
      "  return f(*args, **kwargs)\n"
     ]
    }
   ],
   "source": [
    "from sklearn.linear_model import LogisticRegression\n",
    "from sklearn.metrics import accuracy_score\n",
    "model = LogisticRegression()\n",
    "model.fit(train_X,train_y)\n",
    "print(model.coef_)\n",
    "print(accuracy_score(test_y,model.predict(test_X)))"
   ]
  },
  {
   "cell_type": "markdown",
   "metadata": {},
   "source": [
    "# 2.\n",
    "# Download the MNIST dataset using the following example code:\n",
    "# Please randomly choose 1,000 different handwritten images from either the training or the testing dataset to construct your own dataset, where each digit has 100 data samples."
   ]
  },
  {
   "cell_type": "markdown",
   "metadata": {},
   "source": [
    "## 2.1 Use the following code to show 50 images in your own dataset."
   ]
  },
  {
   "cell_type": "code",
   "execution_count": 16,
   "metadata": {},
   "outputs": [
    {
     "name": "stdout",
     "output_type": "stream",
     "text": [
      "(60000, 28, 28) (60000,) (10000, 28, 28) (10000,)\n"
     ]
    }
   ],
   "source": [
    "from __future__ import print_function\n",
    "from tensorflow import keras\n",
    "from tensorflow.keras.datasets import mnist\n",
    "# input image dimensions 28x28\n",
    "img_rows, img_cols = 28, 28\n",
    "# the data, split between train and test sets\n",
    "(x_train, y_train), (x_test, y_test) = mnist.load_data()\n",
    "x_train = x_train.astype('float32')\n",
    "x_test = x_test.astype('float32')\n",
    "x_train /= 255\n",
    "x_test /= 255\n",
    "print(x_train.shape, y_train.shape, x_test.shape, y_test.shape)"
   ]
  },
  {
   "cell_type": "code",
   "execution_count": 17,
   "metadata": {},
   "outputs": [
    {
     "name": "stderr",
     "output_type": "stream",
     "text": [
      "/usr/local/lib/python3.6/dist-packages/ipykernel_launcher.py:28: MatplotlibDeprecationWarning: Passing the minor parameter of set_ticks() positionally is deprecated since Matplotlib 3.2; the parameter will become keyword-only two minor releases later.\n",
      "/usr/local/lib/python3.6/dist-packages/ipykernel_launcher.py:29: MatplotlibDeprecationWarning: Passing the minor parameter of set_ticks() positionally is deprecated since Matplotlib 3.2; the parameter will become keyword-only two minor releases later.\n"
     ]
    },
    {
     "data": {
      "image/png": "[encoded data removed]",
      "text/plain": [
       "<Figure size 432x288 with 50 Axes>"
      ]
     },
     "metadata": {},
     "output_type": "display_data"
    }
   ],
   "source": [
    "import numpy as np\n",
    "import matplotlib.pyplot as plt\n",
    "\n",
    "np.random.seed(42)\n",
    "\n",
    "def gen_1000_pic(x, y):\n",
    "    for i in range(10): \n",
    "        ind = np.where(y==i)\n",
    "        if i == 0:\n",
    "            new_X = x[np.random.choice(ind[0], 100)]\n",
    "        else:\n",
    "            new_X = np.concatenate((new_X,x[np.random.choice(ind[0],100)]), axis=0)\n",
    "    return new_X\n",
    "\n",
    "def print_pic(x):\n",
    "    amount= 50; lines = 5; columns = 10; number = np.zeros(amount)\n",
    "\n",
    "    for i in range(amount):\n",
    "        number[i] = y_test[i]\n",
    "        # print(number[0])\n",
    "\n",
    "    fig = plt.figure()\n",
    "\n",
    "    for i in range(amount):\n",
    "        ax = fig.add_subplot(lines, columns, 1 + i)\n",
    "        plt.imshow(x[i*20,:,:], cmap='binary')\n",
    "        plt.sca(ax)\n",
    "        ax.set_xticks([], [])\n",
    "        ax.set_yticks([], [])\n",
    "\n",
    "    plt.show()\n",
    "    \n",
    "x_train = gen_1000_pic(x_train, y_train)\n",
    "print_pic(x_train)"
   ]
  },
  {
   "cell_type": "markdown",
   "metadata": {},
   "source": [
    "## 2.2. Normalize the data (subtracting the mean from it and then dividing it by the standard deviation) and compute the eigenpairs for the covariance of the data (sorted in a descending order based on eigenvalues)."
   ]
  },
  {
   "cell_type": "code",
   "execution_count": 20,
   "metadata": {},
   "outputs": [
    {
     "data": {
      "text/plain": [
       "array([[0.        , 0.        , 0.        , 0.        , 0.        ,\n",
       "        0.        , 0.        , 0.        , 0.        , 0.        ,\n",
       "        0.        , 0.        , 0.        , 0.        , 0.        ,\n",
       "        0.        , 0.        , 0.        , 0.        , 0.        ,\n",
       "        0.        , 0.        , 0.        , 0.        , 0.        ,\n",
       "        0.        , 0.        , 0.        ],\n",
       "       [0.        , 0.        , 0.        , 0.        , 0.        ,\n",
       "        0.        , 0.        , 0.        , 0.        , 0.        ,\n",
       "        0.        , 0.        , 0.        , 0.        , 0.        ,\n",
       "        0.        , 0.        , 0.        , 0.        , 0.        ,\n",
       "        0.        , 0.        , 0.        , 0.        , 0.        ,\n",
       "        0.        , 0.        , 0.        ],\n",
       "       [0.        , 0.        , 0.        , 0.        , 0.        ,\n",
       "        0.        , 0.        , 0.        , 0.        , 0.        ,\n",
       "        0.        , 0.        , 0.        , 0.        , 0.        ,\n",
       "        0.        , 0.        , 0.        , 0.        , 0.        ,\n",
       "        0.        , 0.        , 0.        , 0.        , 0.        ,\n",
       "        0.        , 0.        , 0.        ],\n",
       "       [0.        , 0.        , 0.        , 0.        , 0.        ,\n",
       "        0.        , 0.        , 0.        , 0.        , 0.        ,\n",
       "        0.        , 0.        , 0.        , 0.        , 0.        ,\n",
       "        0.        , 0.        , 0.        , 0.        , 0.        ,\n",
       "        0.        , 0.        , 0.        , 0.        , 0.        ,\n",
       "        0.        , 0.        , 0.        ],\n",
       "       [0.        , 0.        , 0.        , 0.        , 0.        ,\n",
       "        0.        , 0.        , 0.        , 0.        , 0.        ,\n",
       "        0.        , 0.        , 0.        , 0.        , 0.        ,\n",
       "        0.        , 0.        , 0.        , 0.        , 0.        ,\n",
       "        0.        , 0.        , 0.        , 0.        , 0.        ,\n",
       "        0.        , 0.        , 0.        ],\n",
       "       [0.        , 0.        , 0.        , 0.        , 0.        ,\n",
       "        0.        , 0.        , 0.        , 0.        , 0.        ,\n",
       "        0.        , 0.        , 0.1882353 , 0.3764706 , 0.3764706 ,\n",
       "        0.60784316, 0.99215686, 0.99215686, 0.44705883, 0.7607843 ,\n",
       "        0.7647059 , 0.09411765, 0.        , 0.        , 0.        ,\n",
       "        0.        , 0.        , 0.        ],\n",
       "       [0.        , 0.        , 0.        , 0.        , 0.        ,\n",
       "        0.        , 0.        , 0.        , 0.        , 0.07843138,\n",
       "        0.36078432, 0.74509805, 0.8666667 , 0.9843137 , 0.9843137 ,\n",
       "        0.99215686, 0.9843137 , 0.9843137 , 0.9843137 , 0.9843137 ,\n",
       "        0.99215686, 0.7254902 , 0.0627451 , 0.        , 0.        ,\n",
       "        0.        , 0.        , 0.        ],\n",
       "       [0.        , 0.        , 0.        , 0.        , 0.        ,\n",
       "        0.        , 0.        , 0.        , 0.        , 0.61960787,\n",
       "        0.99215686, 0.9843137 , 0.9843137 , 0.9843137 , 0.9843137 ,\n",
       "        0.99215686, 0.9843137 , 0.9843137 , 0.9843137 , 0.9843137 ,\n",
       "        0.99215686, 0.9843137 , 0.49411765, 0.        , 0.        ,\n",
       "        0.        , 0.        , 0.        ],\n",
       "       [0.        , 0.        , 0.        , 0.        , 0.        ,\n",
       "        0.        , 0.        , 0.        , 0.        , 0.61960787,\n",
       "        0.99215686, 0.9843137 , 0.9843137 , 0.9843137 , 0.9843137 ,\n",
       "        0.99215686, 0.9843137 , 0.9843137 , 0.9843137 , 0.9843137 ,\n",
       "        0.99215686, 0.9843137 , 0.9254902 , 0.10588235, 0.        ,\n",
       "        0.        , 0.        , 0.        ],\n",
       "       [0.        , 0.        , 0.        , 0.        , 0.        ,\n",
       "        0.        , 0.        , 0.        , 0.        , 0.23137255,\n",
       "        0.99215686, 0.9843137 , 0.9843137 , 0.9843137 , 0.9843137 ,\n",
       "        0.99215686, 0.9843137 , 0.9843137 , 0.9843137 , 0.9843137 ,\n",
       "        0.99215686, 0.9843137 , 0.9843137 , 0.5058824 , 0.        ,\n",
       "        0.        , 0.        , 0.        ],\n",
       "       [0.        , 0.        , 0.        , 0.        , 0.        ,\n",
       "        0.        , 0.        , 0.        , 0.        , 0.        ,\n",
       "        0.3764706 , 0.99215686, 0.99215686, 0.99215686, 0.99215686,\n",
       "        1.        , 0.8666667 , 0.        , 0.15686275, 0.85490197,\n",
       "        1.        , 0.99215686, 0.99215686, 0.8352941 , 0.14117648,\n",
       "        0.        , 0.        , 0.        ],\n",
       "       [0.        , 0.        , 0.        , 0.        , 0.        ,\n",
       "        0.        , 0.        , 0.        , 0.        , 0.07843138,\n",
       "        0.8392157 , 0.9843137 , 0.9843137 , 0.9843137 , 0.9843137 ,\n",
       "        0.99215686, 0.8627451 , 0.        , 0.        , 0.5411765 ,\n",
       "        0.99215686, 0.9843137 , 0.9843137 , 0.9843137 , 0.36862746,\n",
       "        0.        , 0.        , 0.        ],\n",
       "       [0.        , 0.        , 0.        , 0.        , 0.        ,\n",
       "        0.        , 0.        , 0.        , 0.        , 0.61960787,\n",
       "        0.99215686, 0.9843137 , 0.9843137 , 0.9843137 , 0.9843137 ,\n",
       "        0.49411765, 0.43137255, 0.        , 0.        , 0.        ,\n",
       "        0.99215686, 0.9843137 , 0.9843137 , 0.9843137 , 0.36862746,\n",
       "        0.        , 0.        , 0.        ],\n",
       "       [0.        , 0.        , 0.        , 0.        , 0.        ,\n",
       "        0.        , 0.        , 0.1254902 , 0.40784314, 0.9411765 ,\n",
       "        0.99215686, 0.9843137 , 0.9843137 , 0.6117647 , 0.12156863,\n",
       "        0.        , 0.        , 0.        , 0.        , 0.        ,\n",
       "        0.99215686, 0.9843137 , 0.9843137 , 0.92156863, 0.27450982,\n",
       "        0.        , 0.        , 0.        ],\n",
       "       [0.        , 0.        , 0.        , 0.        , 0.        ,\n",
       "        0.        , 0.        , 0.49803922, 0.9843137 , 0.9843137 ,\n",
       "        0.99215686, 0.9843137 , 0.9843137 , 0.12156863, 0.        ,\n",
       "        0.        , 0.        , 0.        , 0.        , 0.        ,\n",
       "        0.99215686, 0.9843137 , 0.9843137 , 0.7372549 , 0.        ,\n",
       "        0.        , 0.        , 0.        ],\n",
       "       [0.        , 0.        , 0.        , 0.        , 0.        ,\n",
       "        0.        , 0.        , 0.5019608 , 0.99215686, 0.99215686,\n",
       "        1.        , 0.94509804, 0.30980393, 0.        , 0.        ,\n",
       "        0.        , 0.        , 0.        , 0.09411765, 0.7607843 ,\n",
       "        1.        , 0.99215686, 0.99215686, 0.5058824 , 0.        ,\n",
       "        0.        , 0.        , 0.        ],\n",
       "       [0.        , 0.        , 0.        , 0.        , 0.        ,\n",
       "        0.        , 0.17254902, 0.8666667 , 0.9843137 , 0.9843137 ,\n",
       "        0.99215686, 0.39607844, 0.        , 0.        , 0.        ,\n",
       "        0.        , 0.        , 0.0627451 , 0.7294118 , 0.9843137 ,\n",
       "        0.99215686, 0.9843137 , 0.6117647 , 0.03137255, 0.        ,\n",
       "        0.        , 0.        , 0.        ],\n",
       "       [0.        , 0.        , 0.        , 0.        , 0.        ,\n",
       "        0.        , 0.74509805, 0.9843137 , 0.9843137 , 0.9843137 ,\n",
       "        0.99215686, 0.24313726, 0.        , 0.        , 0.        ,\n",
       "        0.        , 0.3764706 , 0.7411765 , 0.9843137 , 0.9843137 ,\n",
       "        0.99215686, 0.92156863, 0.24705882, 0.        , 0.        ,\n",
       "        0.        , 0.        , 0.        ],\n",
       "       [0.        , 0.        , 0.        , 0.        , 0.        ,\n",
       "        0.32941177, 0.95686275, 0.9843137 , 0.9843137 , 0.9843137 ,\n",
       "        0.6627451 , 0.03137255, 0.        , 0.21960784, 0.2509804 ,\n",
       "        0.8745098 , 0.95686275, 0.9843137 , 0.9843137 , 0.9843137 ,\n",
       "        0.99215686, 0.7058824 , 0.        , 0.        , 0.        ,\n",
       "        0.        , 0.        , 0.        ],\n",
       "       [0.        , 0.        , 0.        , 0.        , 0.        ,\n",
       "        0.3764706 , 0.9843137 , 0.9843137 , 0.9843137 , 0.9843137 ,\n",
       "        0.23137255, 0.47058824, 0.61960787, 0.9411765 , 0.9843137 ,\n",
       "        0.99215686, 0.9843137 , 0.9843137 , 0.9843137 , 0.9843137 ,\n",
       "        0.75686276, 0.09019608, 0.        , 0.        , 0.        ,\n",
       "        0.        , 0.        , 0.        ],\n",
       "       [0.        , 0.        , 0.        , 0.        , 0.        ,\n",
       "        0.3764706 , 0.99215686, 0.99215686, 0.99215686, 0.99215686,\n",
       "        0.60784316, 0.99215686, 0.99215686, 0.99215686, 0.99215686,\n",
       "        1.        , 0.99215686, 0.99215686, 0.99215686, 0.75686276,\n",
       "        0.39215687, 0.        , 0.        , 0.        , 0.        ,\n",
       "        0.        , 0.        , 0.        ],\n",
       "       [0.        , 0.        , 0.        , 0.        , 0.        ,\n",
       "        0.3764706 , 0.9843137 , 0.9843137 , 0.9843137 , 0.9843137 ,\n",
       "        0.99215686, 0.9843137 , 0.9843137 , 0.9843137 , 0.9843137 ,\n",
       "        0.99215686, 0.9843137 , 0.92156863, 0.7058824 , 0.09019608,\n",
       "        0.        , 0.        , 0.        , 0.        , 0.        ,\n",
       "        0.        , 0.        , 0.        ],\n",
       "       [0.        , 0.        , 0.        , 0.        , 0.        ,\n",
       "        0.3764706 , 0.9843137 , 0.9843137 , 0.9843137 , 0.9843137 ,\n",
       "        0.99215686, 0.9843137 , 0.9843137 , 0.9843137 , 0.9843137 ,\n",
       "        0.99215686, 0.92156863, 0.24705882, 0.        , 0.        ,\n",
       "        0.        , 0.        , 0.        , 0.        , 0.        ,\n",
       "        0.        , 0.        , 0.        ],\n",
       "       [0.        , 0.        , 0.        , 0.        , 0.        ,\n",
       "        0.28235295, 0.76862746, 0.9843137 , 0.9843137 , 0.9843137 ,\n",
       "        0.99215686, 0.9843137 , 0.9843137 , 0.76862746, 0.7372549 ,\n",
       "        0.12156863, 0.10588235, 0.        , 0.        , 0.        ,\n",
       "        0.        , 0.        , 0.        , 0.        , 0.        ,\n",
       "        0.        , 0.        , 0.        ],\n",
       "       [0.        , 0.        , 0.        , 0.        , 0.        ,\n",
       "        0.        , 0.04705882, 0.36862746, 0.52156866, 0.9843137 ,\n",
       "        0.99215686, 0.5176471 , 0.36862746, 0.04705882, 0.        ,\n",
       "        0.        , 0.        , 0.        , 0.        , 0.        ,\n",
       "        0.        , 0.        , 0.        , 0.        , 0.        ,\n",
       "        0.        , 0.        , 0.        ],\n",
       "       [0.        , 0.        , 0.        , 0.        , 0.        ,\n",
       "        0.        , 0.        , 0.        , 0.        , 0.        ,\n",
       "        0.        , 0.        , 0.        , 0.        , 0.        ,\n",
       "        0.        , 0.        , 0.        , 0.        , 0.        ,\n",
       "        0.        , 0.        , 0.        , 0.        , 0.        ,\n",
       "        0.        , 0.        , 0.        ],\n",
       "       [0.        , 0.        , 0.        , 0.        , 0.        ,\n",
       "        0.        , 0.        , 0.        , 0.        , 0.        ,\n",
       "        0.        , 0.        , 0.        , 0.        , 0.        ,\n",
       "        0.        , 0.        , 0.        , 0.        , 0.        ,\n",
       "        0.        , 0.        , 0.        , 0.        , 0.        ,\n",
       "        0.        , 0.        , 0.        ],\n",
       "       [0.        , 0.        , 0.        , 0.        , 0.        ,\n",
       "        0.        , 0.        , 0.        , 0.        , 0.        ,\n",
       "        0.        , 0.        , 0.        , 0.        , 0.        ,\n",
       "        0.        , 0.        , 0.        , 0.        , 0.        ,\n",
       "        0.        , 0.        , 0.        , 0.        , 0.        ,\n",
       "        0.        , 0.        , 0.        ]], dtype=float32)"
      ]
     },
     "execution_count": 20,
     "metadata": {},
     "output_type": "execute_result"
    }
   ],
   "source": [
    "x_train[0]"
   ]
  },
  {
   "cell_type": "code",
   "execution_count": null,
   "metadata": {},
   "outputs": [],
   "source": []
  }
 ],
 "metadata": {
  "kernelspec": {
   "display_name": "Python 3",
   "language": "python",
   "name": "python3"
  },
  "language_info": {
   "codemirror_mode": {
    "name": "ipython",
    "version": 3
   },
   "file_extension": ".py",
   "mimetype": "text/x-python",
   "name": "python",
   "nbconvert_exporter": "python",
   "pygments_lexer": "ipython3",
   "version": "3.6.9"
  }
 },
 "nbformat": 4,
 "nbformat_minor": 2
}
