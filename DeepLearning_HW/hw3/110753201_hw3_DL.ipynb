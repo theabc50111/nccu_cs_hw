{
 "cells": [
  {
   "cell_type": "code",
   "execution_count": 1,
   "metadata": {
    "tags": []
   },
   "outputs": [
    {
     "name": "stderr",
     "output_type": "stream",
     "text": [
      "2021-12-17 04:50:05.540712: I tensorflow/stream_executor/cuda/cuda_gpu_executor.cc:939] successful NUMA node read from SysFS had negative value (-1), but there must be at least one NUMA node, so returning NUMA node zero\n"
     ]
    },
    {
     "data": {
      "text/plain": [
       "[PhysicalDevice(name='/physical_device:GPU:0', device_type='GPU'),\n",
       " PhysicalDevice(name='/physical_device:GPU:1', device_type='GPU')]"
      ]
     },
     "execution_count": 1,
     "metadata": {},
     "output_type": "execute_result"
    },
    {
     "name": "stdout",
     "output_type": "stream",
     "text": [
      "time: 1.11 s (started: 2021-12-17 04:50:04 +00:00)\n"
     ]
    },
    {
     "name": "stderr",
     "output_type": "stream",
     "text": [
      "2021-12-17 04:50:05.541169: I tensorflow/stream_executor/cuda/cuda_gpu_executor.cc:939] successful NUMA node read from SysFS had negative value (-1), but there must be at least one NUMA node, so returning NUMA node zero\n",
      "2021-12-17 04:50:05.544807: I tensorflow/stream_executor/cuda/cuda_gpu_executor.cc:939] successful NUMA node read from SysFS had negative value (-1), but there must be at least one NUMA node, so returning NUMA node zero\n",
      "2021-12-17 04:50:05.545236: I tensorflow/stream_executor/cuda/cuda_gpu_executor.cc:939] successful NUMA node read from SysFS had negative value (-1), but there must be at least one NUMA node, so returning NUMA node zero\n",
      "2021-12-17 04:50:05.545657: I tensorflow/stream_executor/cuda/cuda_gpu_executor.cc:939] successful NUMA node read from SysFS had negative value (-1), but there must be at least one NUMA node, so returning NUMA node zero\n",
      "2021-12-17 04:50:05.546079: I tensorflow/stream_executor/cuda/cuda_gpu_executor.cc:939] successful NUMA node read from SysFS had negative value (-1), but there must be at least one NUMA node, so returning NUMA node zero\n"
     ]
    }
   ],
   "source": [
    "import tensorflow as tf\n",
    "import warnings\n",
    "warnings.filterwarnings('ignore')\n",
    "\n",
    "tf.test.is_built_with_cuda()\n",
    "tf.config.list_physical_devices('GPU') "
   ]
  },
  {
   "cell_type": "code",
   "execution_count": 2,
   "metadata": {
    "tags": []
   },
   "outputs": [
    {
     "name": "stdout",
     "output_type": "stream",
     "text": [
      "WARNING:tensorflow:From /tmp/ipykernel_19239/337460670.py:1: is_gpu_available (from tensorflow.python.framework.test_util) is deprecated and will be removed in a future version.\n",
      "Instructions for updating:\n",
      "Use `tf.config.list_physical_devices('GPU')` instead.\n"
     ]
    },
    {
     "name": "stderr",
     "output_type": "stream",
     "text": [
      "2021-12-17 04:50:05.583617: I tensorflow/core/platform/cpu_feature_guard.cc:151] This TensorFlow binary is optimized with oneAPI Deep Neural Network Library (oneDNN) to use the following CPU instructions in performance-critical operations:  AVX2 FMA\n",
      "To enable them in other operations, rebuild TensorFlow with the appropriate compiler flags.\n"
     ]
    },
    {
     "data": {
      "text/plain": [
       "True"
      ]
     },
     "execution_count": 2,
     "metadata": {},
     "output_type": "execute_result"
    },
    {
     "name": "stdout",
     "output_type": "stream",
     "text": [
      "time: 699 ms (started: 2021-12-17 04:50:05 +00:00)\n"
     ]
    },
    {
     "name": "stderr",
     "output_type": "stream",
     "text": [
      "2021-12-17 04:50:05.752516: I tensorflow/stream_executor/cuda/cuda_gpu_executor.cc:939] successful NUMA node read from SysFS had negative value (-1), but there must be at least one NUMA node, so returning NUMA node zero\n",
      "2021-12-17 04:50:05.753016: I tensorflow/stream_executor/cuda/cuda_gpu_executor.cc:939] successful NUMA node read from SysFS had negative value (-1), but there must be at least one NUMA node, so returning NUMA node zero\n",
      "2021-12-17 04:50:05.753430: I tensorflow/stream_executor/cuda/cuda_gpu_executor.cc:939] successful NUMA node read from SysFS had negative value (-1), but there must be at least one NUMA node, so returning NUMA node zero\n",
      "2021-12-17 04:50:05.753835: I tensorflow/stream_executor/cuda/cuda_gpu_executor.cc:939] successful NUMA node read from SysFS had negative value (-1), but there must be at least one NUMA node, so returning NUMA node zero\n",
      "2021-12-17 04:50:05.754233: I tensorflow/stream_executor/cuda/cuda_gpu_executor.cc:939] successful NUMA node read from SysFS had negative value (-1), but there must be at least one NUMA node, so returning NUMA node zero\n",
      "2021-12-17 04:50:05.754634: I tensorflow/stream_executor/cuda/cuda_gpu_executor.cc:939] successful NUMA node read from SysFS had negative value (-1), but there must be at least one NUMA node, so returning NUMA node zero\n",
      "2021-12-17 04:50:06.276968: I tensorflow/stream_executor/cuda/cuda_gpu_executor.cc:939] successful NUMA node read from SysFS had negative value (-1), but there must be at least one NUMA node, so returning NUMA node zero\n",
      "2021-12-17 04:50:06.277419: I tensorflow/stream_executor/cuda/cuda_gpu_executor.cc:939] successful NUMA node read from SysFS had negative value (-1), but there must be at least one NUMA node, so returning NUMA node zero\n",
      "2021-12-17 04:50:06.277817: I tensorflow/stream_executor/cuda/cuda_gpu_executor.cc:939] successful NUMA node read from SysFS had negative value (-1), but there must be at least one NUMA node, so returning NUMA node zero\n",
      "2021-12-17 04:50:06.278203: I tensorflow/stream_executor/cuda/cuda_gpu_executor.cc:939] successful NUMA node read from SysFS had negative value (-1), but there must be at least one NUMA node, so returning NUMA node zero\n",
      "2021-12-17 04:50:06.278586: I tensorflow/stream_executor/cuda/cuda_gpu_executor.cc:939] successful NUMA node read from SysFS had negative value (-1), but there must be at least one NUMA node, so returning NUMA node zero\n",
      "2021-12-17 04:50:06.278979: I tensorflow/core/common_runtime/gpu/gpu_device.cc:1525] Created device /device:GPU:0 with 9648 MB memory:  -> device: 0, name: NVIDIA GeForce RTX 2080 Ti, pci bus id: 0000:01:00.0, compute capability: 7.5\n",
      "2021-12-17 04:50:06.279231: I tensorflow/stream_executor/cuda/cuda_gpu_executor.cc:939] successful NUMA node read from SysFS had negative value (-1), but there must be at least one NUMA node, so returning NUMA node zero\n",
      "2021-12-17 04:50:06.279597: I tensorflow/core/common_runtime/gpu/gpu_device.cc:1525] Created device /device:GPU:1 with 9648 MB memory:  -> device: 1, name: NVIDIA GeForce RTX 2080 Ti, pci bus id: 0000:02:00.0, compute capability: 7.5\n"
     ]
    }
   ],
   "source": [
    "tf.test.is_gpu_available()"
   ]
  },
  {
   "cell_type": "markdown",
   "metadata": {},
   "source": [
    "# 1.  Please use a neural net to find the decision boundary based on ‘train.mat.” "
   ]
  },
  {
   "cell_type": "code",
   "execution_count": 3,
   "metadata": {
    "tags": []
   },
   "outputs": [
    {
     "name": "stderr",
     "output_type": "stream",
     "text": [
      "2021-12-17 04:50:06.430659: I tensorflow/stream_executor/cuda/cuda_gpu_executor.cc:939] successful NUMA node read from SysFS had negative value (-1), but there must be at least one NUMA node, so returning NUMA node zero\n",
      "2021-12-17 04:50:06.431118: I tensorflow/stream_executor/cuda/cuda_gpu_executor.cc:939] successful NUMA node read from SysFS had negative value (-1), but there must be at least one NUMA node, so returning NUMA node zero\n",
      "2021-12-17 04:50:06.431527: I tensorflow/stream_executor/cuda/cuda_gpu_executor.cc:939] successful NUMA node read from SysFS had negative value (-1), but there must be at least one NUMA node, so returning NUMA node zero\n",
      "2021-12-17 04:50:06.431929: I tensorflow/stream_executor/cuda/cuda_gpu_executor.cc:939] successful NUMA node read from SysFS had negative value (-1), but there must be at least one NUMA node, so returning NUMA node zero\n",
      "2021-12-17 04:50:06.432324: I tensorflow/stream_executor/cuda/cuda_gpu_executor.cc:939] successful NUMA node read from SysFS had negative value (-1), but there must be at least one NUMA node, so returning NUMA node zero\n",
      "2021-12-17 04:50:06.432717: I tensorflow/stream_executor/cuda/cuda_gpu_executor.cc:939] successful NUMA node read from SysFS had negative value (-1), but there must be at least one NUMA node, so returning NUMA node zero\n",
      "2021-12-17 04:50:06.433167: I tensorflow/stream_executor/cuda/cuda_gpu_executor.cc:939] successful NUMA node read from SysFS had negative value (-1), but there must be at least one NUMA node, so returning NUMA node zero\n",
      "2021-12-17 04:50:06.433566: I tensorflow/stream_executor/cuda/cuda_gpu_executor.cc:939] successful NUMA node read from SysFS had negative value (-1), but there must be at least one NUMA node, so returning NUMA node zero\n",
      "2021-12-17 04:50:06.433969: I tensorflow/stream_executor/cuda/cuda_gpu_executor.cc:939] successful NUMA node read from SysFS had negative value (-1), but there must be at least one NUMA node, so returning NUMA node zero\n",
      "2021-12-17 04:50:06.434349: I tensorflow/core/common_runtime/gpu/gpu_device.cc:1525] Created device /job:localhost/replica:0/task:0/device:GPU:0 with 9648 MB memory:  -> device: 0, name: NVIDIA GeForce RTX 2080 Ti, pci bus id: 0000:01:00.0, compute capability: 7.5\n",
      "2021-12-17 04:50:06.434386: I tensorflow/stream_executor/cuda/cuda_gpu_executor.cc:939] successful NUMA node read from SysFS had negative value (-1), but there must be at least one NUMA node, so returning NUMA node zero\n",
      "2021-12-17 04:50:06.434765: I tensorflow/core/common_runtime/gpu/gpu_device.cc:1525] Created device /job:localhost/replica:0/task:0/device:GPU:1 with 9648 MB memory:  -> device: 1, name: NVIDIA GeForce RTX 2080 Ti, pci bus id: 0000:02:00.0, compute capability: 7.5\n"
     ]
    },
    {
     "name": "stdout",
     "output_type": "stream",
     "text": [
      "Model: \"dnn\"\n",
      "_________________________________________________________________\n",
      " Layer (type)                Output Shape              Param #   \n",
      "=================================================================\n",
      " dense (Dense)               multiple                  9         \n",
      "                                                                 \n",
      " dense_1 (Dense)             multiple                  8         \n",
      "                                                                 \n",
      " dense_2 (Dense)             multiple                  3         \n",
      "                                                                 \n",
      "=================================================================\n",
      "Total params: 20\n",
      "Trainable params: 20\n",
      "Non-trainable params: 0\n",
      "_________________________________________________________________\n",
      "time: 6.46 s (started: 2021-12-17 04:50:06 +00:00)\n"
     ]
    }
   ],
   "source": [
    "import tensorflow as tf\n",
    "import numpy as np\n",
    "import scipy.io \n",
    "from sklearn.preprocessing import StandardScaler\n",
    "train = scipy.io.loadmat('train.mat') \n",
    "train_x = np.concatenate((train['x1'],train['x2']), axis=1)\n",
    "scaler = StandardScaler()\n",
    "train_x = scaler.fit_transform(train_x)\n",
    "train_y = train['y']\n",
    "test = scipy.io.loadmat('test.mat') \n",
    "test_x = np.concatenate((test['x1'],test['x2']), axis=1)\n",
    "test_x = scaler.transform(test_x)\n",
    "test_y = test['y']\n",
    "\n",
    "class DNN(tf.keras.Model):\n",
    "  def __init__(self):\n",
    "    super(DNN,self).__init__()\n",
    "    self.dense1 = tf.keras.layers.Dense(3, activation=tf.nn.relu)\n",
    "    self.dense2 = tf.keras.layers.Dense(2, activation=tf.nn.relu)\n",
    "    self.output_layer = tf.keras.layers.Dense(1, activation=tf.nn.sigmoid)\n",
    "\n",
    "  def call(self, inputs):\n",
    "    x = self.dense1(inputs)\n",
    "    x = self.dense2(x)\n",
    "    return self.output_layer(x)\n",
    "\n",
    "\n",
    "batch_size = 10\n",
    "epochs = 1000\n",
    "opt = tf.keras.optimizers.Adam(learning_rate=0.001)\n",
    "model = DNN()\n",
    "model.compile(loss=\"binary_crossentropy\", optimizer=opt, metrics=[\"accuracy\"])\n",
    "model.fit(train_x, train_y, batch_size=batch_size, epochs=epochs, verbose=0)\n",
    "model.summary()"
   ]
  },
  {
   "cell_type": "code",
   "execution_count": 4,
   "metadata": {
    "tags": []
   },
   "outputs": [
    {
     "name": "stdout",
     "output_type": "stream",
     "text": [
      "Test loss: 0.6931471228599548\n",
      "Test accuracy: 0.5, error rate:0.5\n",
      "time: 95 ms (started: 2021-12-17 04:50:12 +00:00)\n"
     ]
    }
   ],
   "source": [
    "score = model.evaluate(test_x, test_y, verbose=0)\n",
    "print(\"Test loss:\", score[0])\n",
    "print(f\"Test accuracy: {score[1]}, error rate:{1-score[1]}\")"
   ]
  },
  {
   "cell_type": "markdown",
   "metadata": {},
   "source": [
    "# 2. Please design a neural net to predict network intrusion types for the datasets “train_DefenseSystem.csv” and “test_DefenseSystem.csv.”"
   ]
  },
  {
   "cell_type": "markdown",
   "metadata": {},
   "source": [
    "## Preprocessing "
   ]
  },
  {
   "cell_type": "code",
   "execution_count": 5,
   "metadata": {
    "tags": []
   },
   "outputs": [
    {
     "data": {
      "text/plain": [
       "(5000, 17)"
      ]
     },
     "metadata": {},
     "output_type": "display_data"
    },
    {
     "data": {
      "text/plain": [
       "(1020, 17)"
      ]
     },
     "metadata": {},
     "output_type": "display_data"
    },
    {
     "data": {
      "text/html": [
       "<div>\n",
       "<style scoped>\n",
       "    .dataframe tbody tr th:only-of-type {\n",
       "        vertical-align: middle;\n",
       "    }\n",
       "\n",
       "    .dataframe tbody tr th {\n",
       "        vertical-align: top;\n",
       "    }\n",
       "\n",
       "    .dataframe thead th {\n",
       "        text-align: right;\n",
       "    }\n",
       "</style>\n",
       "<table border=\"1\" class=\"dataframe\">\n",
       "  <thead>\n",
       "    <tr style=\"text-align: right;\">\n",
       "      <th></th>\n",
       "      <th>device_dev_name</th>\n",
       "      <th>device_family_name</th>\n",
       "      <th>device_hashed_mac</th>\n",
       "      <th>device_os_name</th>\n",
       "      <th>device_type_name</th>\n",
       "      <th>device_vendor_name</th>\n",
       "      <th>event_protocol_id</th>\n",
       "      <th>event_flow_outbound_or_inbound</th>\n",
       "      <th>event_role_device_or_router</th>\n",
       "      <th>event_role_server_or_client</th>\n",
       "      <th>event_rule_id</th>\n",
       "      <th>event_rule_name</th>\n",
       "      <th>event_rule_reference</th>\n",
       "      <th>event_rule_severity</th>\n",
       "      <th>event_self_ipv4</th>\n",
       "      <th>event_time</th>\n",
       "      <th>router_ip</th>\n",
       "    </tr>\n",
       "  </thead>\n",
       "  <tbody>\n",
       "    <tr>\n",
       "      <th>0</th>\n",
       "      <td>Windows XP</td>\n",
       "      <td>Computer</td>\n",
       "      <td>a01f58b5c4fdb3122d6797ada0a3ee71fbe134dd</td>\n",
       "      <td>Windows XP</td>\n",
       "      <td>Desktop/Laptop</td>\n",
       "      <td>Microsoft Corp.</td>\n",
       "      <td>6</td>\n",
       "      <td>outbound</td>\n",
       "      <td>device</td>\n",
       "      <td>client</td>\n",
       "      <td>1050015</td>\n",
       "      <td>WEB Cross-site Scripting -34</td>\n",
       "      <td>CVE-2011-2133; CVE-2014-4116</td>\n",
       "      <td>4</td>\n",
       "      <td>192.168.1.243</td>\n",
       "      <td>2016-12-15 03:57:00</td>\n",
       "      <td>161.139.40.242</td>\n",
       "    </tr>\n",
       "    <tr>\n",
       "      <th>1</th>\n",
       "      <td>Windows</td>\n",
       "      <td>Computer</td>\n",
       "      <td>7c16de1f49ef32f5354a33ccd2ec5d0d5ef9e100</td>\n",
       "      <td>Windows</td>\n",
       "      <td>Desktop/Laptop</td>\n",
       "      <td>Microsoft Corp.</td>\n",
       "      <td>6</td>\n",
       "      <td>outbound</td>\n",
       "      <td>device</td>\n",
       "      <td>client</td>\n",
       "      <td>1130593</td>\n",
       "      <td>WEB Microsoft IIS HTTP.sys Remote Code Executi...</td>\n",
       "      <td>CVE-2015-1635; MS15-034</td>\n",
       "      <td>5</td>\n",
       "      <td>192.168.1.133</td>\n",
       "      <td>2016-12-11 06:54:00</td>\n",
       "      <td>199.221.3.43</td>\n",
       "    </tr>\n",
       "    <tr>\n",
       "      <th>2</th>\n",
       "      <td>Windows 8/10</td>\n",
       "      <td>Computer</td>\n",
       "      <td>6f8cdf9d553e2e1cba4c3b0ad226e6c7df119005</td>\n",
       "      <td>Windows 8/10</td>\n",
       "      <td>Desktop/Laptop</td>\n",
       "      <td>Microsoft Corp.</td>\n",
       "      <td>6</td>\n",
       "      <td>outbound</td>\n",
       "      <td>device</td>\n",
       "      <td>client</td>\n",
       "      <td>1056078</td>\n",
       "      <td>WEB Hashtable Collisions</td>\n",
       "      <td>CVE-2011-3414; CVE-2011-5034; CVE-2011-5035; C...</td>\n",
       "      <td>5</td>\n",
       "      <td>192.168.1.100</td>\n",
       "      <td>2016-12-24 01:20:00</td>\n",
       "      <td>157.2.60.102</td>\n",
       "    </tr>\n",
       "    <tr>\n",
       "      <th>3</th>\n",
       "      <td>Windows</td>\n",
       "      <td>Computer</td>\n",
       "      <td>4ac93ab7639e8800779afd887d6df7a93deb5c62</td>\n",
       "      <td>Windows</td>\n",
       "      <td>Desktop/Laptop</td>\n",
       "      <td>Microsoft Corp.</td>\n",
       "      <td>6</td>\n",
       "      <td>outbound</td>\n",
       "      <td>device</td>\n",
       "      <td>client</td>\n",
       "      <td>1050015</td>\n",
       "      <td>WEB Cross-site Scripting -34</td>\n",
       "      <td>CVE-2011-2133; CVE-2014-4116</td>\n",
       "      <td>4</td>\n",
       "      <td>192.168.1.6</td>\n",
       "      <td>2016-12-31 07:22:00</td>\n",
       "      <td>51.20.54.170</td>\n",
       "    </tr>\n",
       "    <tr>\n",
       "      <th>4</th>\n",
       "      <td>Windows</td>\n",
       "      <td>Computer</td>\n",
       "      <td>02de4773b0099f5b0a873516d76a888c3f4c6508</td>\n",
       "      <td>Windows</td>\n",
       "      <td>Desktop/Laptop</td>\n",
       "      <td>Microsoft Corp.</td>\n",
       "      <td>6</td>\n",
       "      <td>outbound</td>\n",
       "      <td>device</td>\n",
       "      <td>client</td>\n",
       "      <td>1050015</td>\n",
       "      <td>WEB Cross-site Scripting -34</td>\n",
       "      <td>CVE-2011-2133; CVE-2014-4116</td>\n",
       "      <td>4</td>\n",
       "      <td>192.168.1.44</td>\n",
       "      <td>2016-12-19 12:22:00</td>\n",
       "      <td>116.95.157.235</td>\n",
       "    </tr>\n",
       "  </tbody>\n",
       "</table>\n",
       "</div>"
      ],
      "text/plain": [
       "  device_dev_name device_family_name  \\\n",
       "0      Windows XP           Computer   \n",
       "1         Windows           Computer   \n",
       "2    Windows 8/10           Computer   \n",
       "3         Windows           Computer   \n",
       "4         Windows           Computer   \n",
       "\n",
       "                          device_hashed_mac device_os_name device_type_name  \\\n",
       "0  a01f58b5c4fdb3122d6797ada0a3ee71fbe134dd     Windows XP   Desktop/Laptop   \n",
       "1  7c16de1f49ef32f5354a33ccd2ec5d0d5ef9e100        Windows   Desktop/Laptop   \n",
       "2  6f8cdf9d553e2e1cba4c3b0ad226e6c7df119005   Windows 8/10   Desktop/Laptop   \n",
       "3  4ac93ab7639e8800779afd887d6df7a93deb5c62        Windows   Desktop/Laptop   \n",
       "4  02de4773b0099f5b0a873516d76a888c3f4c6508        Windows   Desktop/Laptop   \n",
       "\n",
       "  device_vendor_name  event_protocol_id event_flow_outbound_or_inbound  \\\n",
       "0    Microsoft Corp.                  6                       outbound   \n",
       "1    Microsoft Corp.                  6                       outbound   \n",
       "2    Microsoft Corp.                  6                       outbound   \n",
       "3    Microsoft Corp.                  6                       outbound   \n",
       "4    Microsoft Corp.                  6                       outbound   \n",
       "\n",
       "  event_role_device_or_router event_role_server_or_client  event_rule_id  \\\n",
       "0                      device                      client        1050015   \n",
       "1                      device                      client        1130593   \n",
       "2                      device                      client        1056078   \n",
       "3                      device                      client        1050015   \n",
       "4                      device                      client        1050015   \n",
       "\n",
       "                                     event_rule_name  \\\n",
       "0                       WEB Cross-site Scripting -34   \n",
       "1  WEB Microsoft IIS HTTP.sys Remote Code Executi...   \n",
       "2                           WEB Hashtable Collisions   \n",
       "3                       WEB Cross-site Scripting -34   \n",
       "4                       WEB Cross-site Scripting -34   \n",
       "\n",
       "                                event_rule_reference  event_rule_severity  \\\n",
       "0                       CVE-2011-2133; CVE-2014-4116                    4   \n",
       "1                            CVE-2015-1635; MS15-034                    5   \n",
       "2  CVE-2011-3414; CVE-2011-5034; CVE-2011-5035; C...                    5   \n",
       "3                       CVE-2011-2133; CVE-2014-4116                    4   \n",
       "4                       CVE-2011-2133; CVE-2014-4116                    4   \n",
       "\n",
       "  event_self_ipv4          event_time       router_ip  \n",
       "0   192.168.1.243 2016-12-15 03:57:00  161.139.40.242  \n",
       "1   192.168.1.133 2016-12-11 06:54:00    199.221.3.43  \n",
       "2   192.168.1.100 2016-12-24 01:20:00    157.2.60.102  \n",
       "3     192.168.1.6 2016-12-31 07:22:00    51.20.54.170  \n",
       "4    192.168.1.44 2016-12-19 12:22:00  116.95.157.235  "
      ]
     },
     "metadata": {},
     "output_type": "display_data"
    },
    {
     "name": "stdout",
     "output_type": "stream",
     "text": [
      "<class 'pandas.core.frame.DataFrame'>\n",
      "RangeIndex: 5000 entries, 0 to 4999\n",
      "Data columns (total 17 columns):\n",
      " #   Column                          Non-Null Count  Dtype         \n",
      "---  ------                          --------------  -----         \n",
      " 0   device_dev_name                 5000 non-null   object        \n",
      " 1   device_family_name              5000 non-null   object        \n",
      " 2   device_hashed_mac               5000 non-null   object        \n",
      " 3   device_os_name                  5000 non-null   object        \n",
      " 4   device_type_name                5000 non-null   object        \n",
      " 5   device_vendor_name              5000 non-null   object        \n",
      " 6   event_protocol_id               5000 non-null   int64         \n",
      " 7   event_flow_outbound_or_inbound  5000 non-null   object        \n",
      " 8   event_role_device_or_router     5000 non-null   object        \n",
      " 9   event_role_server_or_client     5000 non-null   object        \n",
      " 10  event_rule_id                   5000 non-null   int64         \n",
      " 11  event_rule_name                 5000 non-null   object        \n",
      " 12  event_rule_reference            5000 non-null   object        \n",
      " 13  event_rule_severity             5000 non-null   int64         \n",
      " 14  event_self_ipv4                 5000 non-null   object        \n",
      " 15  event_time                      5000 non-null   datetime64[ns]\n",
      " 16  router_ip                       5000 non-null   object        \n",
      "dtypes: datetime64[ns](1), int64(3), object(13)\n",
      "memory usage: 664.2+ KB\n"
     ]
    },
    {
     "data": {
      "text/plain": [
       "None"
      ]
     },
     "metadata": {},
     "output_type": "display_data"
    },
    {
     "data": {
      "text/html": [
       "<div>\n",
       "<style scoped>\n",
       "    .dataframe tbody tr th:only-of-type {\n",
       "        vertical-align: middle;\n",
       "    }\n",
       "\n",
       "    .dataframe tbody tr th {\n",
       "        vertical-align: top;\n",
       "    }\n",
       "\n",
       "    .dataframe thead th {\n",
       "        text-align: right;\n",
       "    }\n",
       "</style>\n",
       "<table border=\"1\" class=\"dataframe\">\n",
       "  <thead>\n",
       "    <tr style=\"text-align: right;\">\n",
       "      <th></th>\n",
       "      <th>event_protocol_id</th>\n",
       "      <th>event_rule_id</th>\n",
       "      <th>event_rule_severity</th>\n",
       "    </tr>\n",
       "  </thead>\n",
       "  <tbody>\n",
       "    <tr>\n",
       "      <th>count</th>\n",
       "      <td>5000.000000</td>\n",
       "      <td>5.000000e+03</td>\n",
       "      <td>5000.000000</td>\n",
       "    </tr>\n",
       "    <tr>\n",
       "      <th>mean</th>\n",
       "      <td>6.410200</td>\n",
       "      <td>1.080985e+06</td>\n",
       "      <td>4.363600</td>\n",
       "    </tr>\n",
       "    <tr>\n",
       "      <th>std</th>\n",
       "      <td>2.089308</td>\n",
       "      <td>3.626082e+04</td>\n",
       "      <td>0.481083</td>\n",
       "    </tr>\n",
       "    <tr>\n",
       "      <th>min</th>\n",
       "      <td>0.000000</td>\n",
       "      <td>1.049802e+06</td>\n",
       "      <td>4.000000</td>\n",
       "    </tr>\n",
       "    <tr>\n",
       "      <th>25%</th>\n",
       "      <td>6.000000</td>\n",
       "      <td>1.050015e+06</td>\n",
       "      <td>4.000000</td>\n",
       "    </tr>\n",
       "    <tr>\n",
       "      <th>50%</th>\n",
       "      <td>6.000000</td>\n",
       "      <td>1.057007e+06</td>\n",
       "      <td>4.000000</td>\n",
       "    </tr>\n",
       "    <tr>\n",
       "      <th>75%</th>\n",
       "      <td>6.000000</td>\n",
       "      <td>1.130593e+06</td>\n",
       "      <td>5.000000</td>\n",
       "    </tr>\n",
       "    <tr>\n",
       "      <th>max</th>\n",
       "      <td>17.000000</td>\n",
       "      <td>1.132896e+06</td>\n",
       "      <td>5.000000</td>\n",
       "    </tr>\n",
       "  </tbody>\n",
       "</table>\n",
       "</div>"
      ],
      "text/plain": [
       "       event_protocol_id  event_rule_id  event_rule_severity\n",
       "count        5000.000000   5.000000e+03          5000.000000\n",
       "mean            6.410200   1.080985e+06             4.363600\n",
       "std             2.089308   3.626082e+04             0.481083\n",
       "min             0.000000   1.049802e+06             4.000000\n",
       "25%             6.000000   1.050015e+06             4.000000\n",
       "50%             6.000000   1.057007e+06             4.000000\n",
       "75%             6.000000   1.130593e+06             5.000000\n",
       "max            17.000000   1.132896e+06             5.000000"
      ]
     },
     "metadata": {},
     "output_type": "display_data"
    },
    {
     "data": {
      "text/plain": [
       "array([0, 1])"
      ]
     },
     "metadata": {},
     "output_type": "display_data"
    },
    {
     "data": {
      "text/plain": [
       "array(['Access Control', 'Web Attack'], dtype=object)"
      ]
     },
     "metadata": {},
     "output_type": "display_data"
    },
    {
     "data": {
      "text/plain": [
       "(5000, 1)"
      ]
     },
     "metadata": {},
     "output_type": "display_data"
    },
    {
     "name": "stdout",
     "output_type": "stream",
     "text": [
      "time: 53.4 ms (started: 2021-12-17 04:50:12 +00:00)\n"
     ]
    }
   ],
   "source": [
    "import pandas as pd\n",
    "from sklearn.preprocessing import LabelEncoder\n",
    "\n",
    "train_data = pd.read_csv('train_DefenseSystem.csv', parse_dates=['event_time'], infer_datetime_format=True)\n",
    "test_data = pd.read_csv('test_DefenseSystem.csv', parse_dates=['event_time'], infer_datetime_format=True) # test_data has no lable\n",
    "\n",
    "lenc = LabelEncoder()\n",
    "train_y = lenc.fit_transform(train_data['event_rule_category'])\n",
    "train_y = train_y.reshape(-1,1)\n",
    "pre_train_x = train_data.drop(['event_rule_category'], axis = 1)\n",
    "pre_test_x = test_data\n",
    "display(pre_train_x.shape, pre_test_x.shape)\n",
    "display(pre_train_x.head())\n",
    "display(pre_train_x.info())\n",
    "display(pre_train_x.describe())\n",
    "display(np.unique(train_y), lenc.classes_, train_y.shape)"
   ]
  },
  {
   "cell_type": "code",
   "execution_count": 6,
   "metadata": {
    "tags": []
   },
   "outputs": [
    {
     "data": {
      "text/html": [
       "<div>\n",
       "<style scoped>\n",
       "    .dataframe tbody tr th:only-of-type {\n",
       "        vertical-align: middle;\n",
       "    }\n",
       "\n",
       "    .dataframe tbody tr th {\n",
       "        vertical-align: top;\n",
       "    }\n",
       "\n",
       "    .dataframe thead th {\n",
       "        text-align: right;\n",
       "    }\n",
       "</style>\n",
       "<table border=\"1\" class=\"dataframe\">\n",
       "  <thead>\n",
       "    <tr style=\"text-align: right;\">\n",
       "      <th></th>\n",
       "      <th>event_time</th>\n",
       "      <th>ASUS RT Router</th>\n",
       "      <th>Amazon Kindle</th>\n",
       "      <th>Android 3.0-4.1</th>\n",
       "      <th>Android 4.2-5.1</th>\n",
       "      <th>Android 6.0</th>\n",
       "      <th>Apple Watch/iPad Pro</th>\n",
       "      <th>Axis Network Camera</th>\n",
       "      <th>Belkin F5D8235-4 v2</th>\n",
       "      <th>BlackBerry</th>\n",
       "      <th>...</th>\n",
       "      <th>5</th>\n",
       "      <th>self_ip_class_A</th>\n",
       "      <th>self_ip_class_B</th>\n",
       "      <th>self_ip_others</th>\n",
       "      <th>router_ip_class_A</th>\n",
       "      <th>router_ip_class_B</th>\n",
       "      <th>router_ip_class_C</th>\n",
       "      <th>router_ip_class_D</th>\n",
       "      <th>router_ip_class_E</th>\n",
       "      <th>router_ip_others</th>\n",
       "    </tr>\n",
       "  </thead>\n",
       "  <tbody>\n",
       "    <tr>\n",
       "      <th>0</th>\n",
       "      <td>1.481774e+09</td>\n",
       "      <td>0</td>\n",
       "      <td>0</td>\n",
       "      <td>0</td>\n",
       "      <td>0</td>\n",
       "      <td>0</td>\n",
       "      <td>0</td>\n",
       "      <td>0</td>\n",
       "      <td>0</td>\n",
       "      <td>0</td>\n",
       "      <td>...</td>\n",
       "      <td>0</td>\n",
       "      <td>0</td>\n",
       "      <td>1</td>\n",
       "      <td>0</td>\n",
       "      <td>0</td>\n",
       "      <td>1</td>\n",
       "      <td>0</td>\n",
       "      <td>0</td>\n",
       "      <td>0</td>\n",
       "      <td>0</td>\n",
       "    </tr>\n",
       "    <tr>\n",
       "      <th>1</th>\n",
       "      <td>1.481439e+09</td>\n",
       "      <td>0</td>\n",
       "      <td>0</td>\n",
       "      <td>0</td>\n",
       "      <td>0</td>\n",
       "      <td>0</td>\n",
       "      <td>0</td>\n",
       "      <td>0</td>\n",
       "      <td>0</td>\n",
       "      <td>0</td>\n",
       "      <td>...</td>\n",
       "      <td>1</td>\n",
       "      <td>0</td>\n",
       "      <td>1</td>\n",
       "      <td>0</td>\n",
       "      <td>0</td>\n",
       "      <td>0</td>\n",
       "      <td>1</td>\n",
       "      <td>0</td>\n",
       "      <td>0</td>\n",
       "      <td>0</td>\n",
       "    </tr>\n",
       "    <tr>\n",
       "      <th>2</th>\n",
       "      <td>1.482542e+09</td>\n",
       "      <td>0</td>\n",
       "      <td>0</td>\n",
       "      <td>0</td>\n",
       "      <td>0</td>\n",
       "      <td>0</td>\n",
       "      <td>0</td>\n",
       "      <td>0</td>\n",
       "      <td>0</td>\n",
       "      <td>0</td>\n",
       "      <td>...</td>\n",
       "      <td>1</td>\n",
       "      <td>0</td>\n",
       "      <td>1</td>\n",
       "      <td>0</td>\n",
       "      <td>0</td>\n",
       "      <td>1</td>\n",
       "      <td>0</td>\n",
       "      <td>0</td>\n",
       "      <td>0</td>\n",
       "      <td>0</td>\n",
       "    </tr>\n",
       "    <tr>\n",
       "      <th>3</th>\n",
       "      <td>1.483169e+09</td>\n",
       "      <td>0</td>\n",
       "      <td>0</td>\n",
       "      <td>0</td>\n",
       "      <td>0</td>\n",
       "      <td>0</td>\n",
       "      <td>0</td>\n",
       "      <td>0</td>\n",
       "      <td>0</td>\n",
       "      <td>0</td>\n",
       "      <td>...</td>\n",
       "      <td>0</td>\n",
       "      <td>0</td>\n",
       "      <td>1</td>\n",
       "      <td>0</td>\n",
       "      <td>1</td>\n",
       "      <td>0</td>\n",
       "      <td>0</td>\n",
       "      <td>0</td>\n",
       "      <td>0</td>\n",
       "      <td>0</td>\n",
       "    </tr>\n",
       "    <tr>\n",
       "      <th>4</th>\n",
       "      <td>1.482150e+09</td>\n",
       "      <td>0</td>\n",
       "      <td>0</td>\n",
       "      <td>0</td>\n",
       "      <td>0</td>\n",
       "      <td>0</td>\n",
       "      <td>0</td>\n",
       "      <td>0</td>\n",
       "      <td>0</td>\n",
       "      <td>0</td>\n",
       "      <td>...</td>\n",
       "      <td>0</td>\n",
       "      <td>0</td>\n",
       "      <td>1</td>\n",
       "      <td>0</td>\n",
       "      <td>1</td>\n",
       "      <td>0</td>\n",
       "      <td>0</td>\n",
       "      <td>0</td>\n",
       "      <td>0</td>\n",
       "      <td>0</td>\n",
       "    </tr>\n",
       "  </tbody>\n",
       "</table>\n",
       "<p>5 rows × 292 columns</p>\n",
       "</div>"
      ],
      "text/plain": [
       "     event_time  ASUS RT Router  Amazon Kindle  Android 3.0-4.1  \\\n",
       "0  1.481774e+09               0              0                0   \n",
       "1  1.481439e+09               0              0                0   \n",
       "2  1.482542e+09               0              0                0   \n",
       "3  1.483169e+09               0              0                0   \n",
       "4  1.482150e+09               0              0                0   \n",
       "\n",
       "   Android 4.2-5.1  Android 6.0  Apple Watch/iPad Pro  Axis Network Camera  \\\n",
       "0                0            0                     0                    0   \n",
       "1                0            0                     0                    0   \n",
       "2                0            0                     0                    0   \n",
       "3                0            0                     0                    0   \n",
       "4                0            0                     0                    0   \n",
       "\n",
       "   Belkin F5D8235-4 v2  BlackBerry  ...  5  self_ip_class_A  self_ip_class_B  \\\n",
       "0                    0           0  ...  0                0                1   \n",
       "1                    0           0  ...  1                0                1   \n",
       "2                    0           0  ...  1                0                1   \n",
       "3                    0           0  ...  0                0                1   \n",
       "4                    0           0  ...  0                0                1   \n",
       "\n",
       "   self_ip_others  router_ip_class_A  router_ip_class_B  router_ip_class_C  \\\n",
       "0               0                  0                  1                  0   \n",
       "1               0                  0                  0                  1   \n",
       "2               0                  0                  1                  0   \n",
       "3               0                  1                  0                  0   \n",
       "4               0                  1                  0                  0   \n",
       "\n",
       "   router_ip_class_D  router_ip_class_E  router_ip_others  \n",
       "0                  0                  0                 0  \n",
       "1                  0                  0                 0  \n",
       "2                  0                  0                 0  \n",
       "3                  0                  0                 0  \n",
       "4                  0                  0                 0  \n",
       "\n",
       "[5 rows x 292 columns]"
      ]
     },
     "metadata": {},
     "output_type": "display_data"
    },
    {
     "name": "stdout",
     "output_type": "stream",
     "text": [
      "<class 'pandas.core.frame.DataFrame'>\n",
      "Int64Index: 5000 entries, 0 to 4999\n",
      "Columns: 292 entries, event_time to router_ip_others\n",
      "dtypes: float64(1), int64(9), uint8(282)\n",
      "memory usage: 1.8 MB\n"
     ]
    },
    {
     "data": {
      "text/plain": [
       "None"
      ]
     },
     "metadata": {},
     "output_type": "display_data"
    },
    {
     "data": {
      "text/html": [
       "<div>\n",
       "<style scoped>\n",
       "    .dataframe tbody tr th:only-of-type {\n",
       "        vertical-align: middle;\n",
       "    }\n",
       "\n",
       "    .dataframe tbody tr th {\n",
       "        vertical-align: top;\n",
       "    }\n",
       "\n",
       "    .dataframe thead th {\n",
       "        text-align: right;\n",
       "    }\n",
       "</style>\n",
       "<table border=\"1\" class=\"dataframe\">\n",
       "  <thead>\n",
       "    <tr style=\"text-align: right;\">\n",
       "      <th></th>\n",
       "      <th>event_time</th>\n",
       "      <th>ASUS RT Router</th>\n",
       "      <th>Amazon Kindle</th>\n",
       "      <th>Android 3.0-4.1</th>\n",
       "      <th>Android 4.2-5.1</th>\n",
       "      <th>Android 6.0</th>\n",
       "      <th>Apple Watch/iPad Pro</th>\n",
       "      <th>Axis Network Camera</th>\n",
       "      <th>Belkin F5D8235-4 v2</th>\n",
       "      <th>BlackBerry</th>\n",
       "      <th>...</th>\n",
       "      <th>5</th>\n",
       "      <th>self_ip_class_A</th>\n",
       "      <th>self_ip_class_B</th>\n",
       "      <th>self_ip_others</th>\n",
       "      <th>router_ip_class_A</th>\n",
       "      <th>router_ip_class_B</th>\n",
       "      <th>router_ip_class_C</th>\n",
       "      <th>router_ip_class_D</th>\n",
       "      <th>router_ip_class_E</th>\n",
       "      <th>router_ip_others</th>\n",
       "    </tr>\n",
       "  </thead>\n",
       "  <tbody>\n",
       "    <tr>\n",
       "      <th>count</th>\n",
       "      <td>5.000000e+03</td>\n",
       "      <td>5000.000000</td>\n",
       "      <td>5000.00000</td>\n",
       "      <td>5000.000000</td>\n",
       "      <td>5000.000000</td>\n",
       "      <td>5000.000000</td>\n",
       "      <td>5000.000000</td>\n",
       "      <td>5000.000000</td>\n",
       "      <td>5000.000000</td>\n",
       "      <td>5000.000000</td>\n",
       "      <td>...</td>\n",
       "      <td>5000.000000</td>\n",
       "      <td>5000.000000</td>\n",
       "      <td>5000.000000</td>\n",
       "      <td>5000.000000</td>\n",
       "      <td>5000.000000</td>\n",
       "      <td>5000.000000</td>\n",
       "      <td>5000.000000</td>\n",
       "      <td>5000.000000</td>\n",
       "      <td>5000.000000</td>\n",
       "      <td>5000.000000</td>\n",
       "    </tr>\n",
       "    <tr>\n",
       "      <th>mean</th>\n",
       "      <td>1.481885e+09</td>\n",
       "      <td>0.000800</td>\n",
       "      <td>0.00060</td>\n",
       "      <td>0.000800</td>\n",
       "      <td>0.060600</td>\n",
       "      <td>0.010800</td>\n",
       "      <td>0.003400</td>\n",
       "      <td>0.000400</td>\n",
       "      <td>0.000800</td>\n",
       "      <td>0.002000</td>\n",
       "      <td>...</td>\n",
       "      <td>0.363600</td>\n",
       "      <td>0.038400</td>\n",
       "      <td>0.926600</td>\n",
       "      <td>0.025000</td>\n",
       "      <td>0.279000</td>\n",
       "      <td>0.495200</td>\n",
       "      <td>0.174600</td>\n",
       "      <td>0.012400</td>\n",
       "      <td>0.011000</td>\n",
       "      <td>0.027800</td>\n",
       "    </tr>\n",
       "    <tr>\n",
       "      <th>std</th>\n",
       "      <td>7.754209e+05</td>\n",
       "      <td>0.028276</td>\n",
       "      <td>0.02449</td>\n",
       "      <td>0.028276</td>\n",
       "      <td>0.238619</td>\n",
       "      <td>0.103371</td>\n",
       "      <td>0.058216</td>\n",
       "      <td>0.019998</td>\n",
       "      <td>0.028276</td>\n",
       "      <td>0.044681</td>\n",
       "      <td>...</td>\n",
       "      <td>0.481083</td>\n",
       "      <td>0.192179</td>\n",
       "      <td>0.260818</td>\n",
       "      <td>0.156141</td>\n",
       "      <td>0.448552</td>\n",
       "      <td>0.500027</td>\n",
       "      <td>0.379663</td>\n",
       "      <td>0.110674</td>\n",
       "      <td>0.104313</td>\n",
       "      <td>0.164416</td>\n",
       "    </tr>\n",
       "    <tr>\n",
       "      <th>min</th>\n",
       "      <td>1.480551e+09</td>\n",
       "      <td>0.000000</td>\n",
       "      <td>0.00000</td>\n",
       "      <td>0.000000</td>\n",
       "      <td>0.000000</td>\n",
       "      <td>0.000000</td>\n",
       "      <td>0.000000</td>\n",
       "      <td>0.000000</td>\n",
       "      <td>0.000000</td>\n",
       "      <td>0.000000</td>\n",
       "      <td>...</td>\n",
       "      <td>0.000000</td>\n",
       "      <td>0.000000</td>\n",
       "      <td>0.000000</td>\n",
       "      <td>0.000000</td>\n",
       "      <td>0.000000</td>\n",
       "      <td>0.000000</td>\n",
       "      <td>0.000000</td>\n",
       "      <td>0.000000</td>\n",
       "      <td>0.000000</td>\n",
       "      <td>0.000000</td>\n",
       "    </tr>\n",
       "    <tr>\n",
       "      <th>25%</th>\n",
       "      <td>1.481210e+09</td>\n",
       "      <td>0.000000</td>\n",
       "      <td>0.00000</td>\n",
       "      <td>0.000000</td>\n",
       "      <td>0.000000</td>\n",
       "      <td>0.000000</td>\n",
       "      <td>0.000000</td>\n",
       "      <td>0.000000</td>\n",
       "      <td>0.000000</td>\n",
       "      <td>0.000000</td>\n",
       "      <td>...</td>\n",
       "      <td>0.000000</td>\n",
       "      <td>0.000000</td>\n",
       "      <td>1.000000</td>\n",
       "      <td>0.000000</td>\n",
       "      <td>0.000000</td>\n",
       "      <td>0.000000</td>\n",
       "      <td>0.000000</td>\n",
       "      <td>0.000000</td>\n",
       "      <td>0.000000</td>\n",
       "      <td>0.000000</td>\n",
       "    </tr>\n",
       "    <tr>\n",
       "      <th>50%</th>\n",
       "      <td>1.481853e+09</td>\n",
       "      <td>0.000000</td>\n",
       "      <td>0.00000</td>\n",
       "      <td>0.000000</td>\n",
       "      <td>0.000000</td>\n",
       "      <td>0.000000</td>\n",
       "      <td>0.000000</td>\n",
       "      <td>0.000000</td>\n",
       "      <td>0.000000</td>\n",
       "      <td>0.000000</td>\n",
       "      <td>...</td>\n",
       "      <td>0.000000</td>\n",
       "      <td>0.000000</td>\n",
       "      <td>1.000000</td>\n",
       "      <td>0.000000</td>\n",
       "      <td>0.000000</td>\n",
       "      <td>0.000000</td>\n",
       "      <td>0.000000</td>\n",
       "      <td>0.000000</td>\n",
       "      <td>0.000000</td>\n",
       "      <td>0.000000</td>\n",
       "    </tr>\n",
       "    <tr>\n",
       "      <th>75%</th>\n",
       "      <td>1.482570e+09</td>\n",
       "      <td>0.000000</td>\n",
       "      <td>0.00000</td>\n",
       "      <td>0.000000</td>\n",
       "      <td>0.000000</td>\n",
       "      <td>0.000000</td>\n",
       "      <td>0.000000</td>\n",
       "      <td>0.000000</td>\n",
       "      <td>0.000000</td>\n",
       "      <td>0.000000</td>\n",
       "      <td>...</td>\n",
       "      <td>1.000000</td>\n",
       "      <td>0.000000</td>\n",
       "      <td>1.000000</td>\n",
       "      <td>0.000000</td>\n",
       "      <td>1.000000</td>\n",
       "      <td>1.000000</td>\n",
       "      <td>0.000000</td>\n",
       "      <td>0.000000</td>\n",
       "      <td>0.000000</td>\n",
       "      <td>0.000000</td>\n",
       "    </tr>\n",
       "    <tr>\n",
       "      <th>max</th>\n",
       "      <td>1.483229e+09</td>\n",
       "      <td>1.000000</td>\n",
       "      <td>1.00000</td>\n",
       "      <td>1.000000</td>\n",
       "      <td>1.000000</td>\n",
       "      <td>1.000000</td>\n",
       "      <td>1.000000</td>\n",
       "      <td>1.000000</td>\n",
       "      <td>1.000000</td>\n",
       "      <td>1.000000</td>\n",
       "      <td>...</td>\n",
       "      <td>1.000000</td>\n",
       "      <td>1.000000</td>\n",
       "      <td>1.000000</td>\n",
       "      <td>1.000000</td>\n",
       "      <td>1.000000</td>\n",
       "      <td>1.000000</td>\n",
       "      <td>1.000000</td>\n",
       "      <td>1.000000</td>\n",
       "      <td>1.000000</td>\n",
       "      <td>1.000000</td>\n",
       "    </tr>\n",
       "  </tbody>\n",
       "</table>\n",
       "<p>8 rows × 292 columns</p>\n",
       "</div>"
      ],
      "text/plain": [
       "         event_time  ASUS RT Router  Amazon Kindle  Android 3.0-4.1  \\\n",
       "count  5.000000e+03     5000.000000     5000.00000      5000.000000   \n",
       "mean   1.481885e+09        0.000800        0.00060         0.000800   \n",
       "std    7.754209e+05        0.028276        0.02449         0.028276   \n",
       "min    1.480551e+09        0.000000        0.00000         0.000000   \n",
       "25%    1.481210e+09        0.000000        0.00000         0.000000   \n",
       "50%    1.481853e+09        0.000000        0.00000         0.000000   \n",
       "75%    1.482570e+09        0.000000        0.00000         0.000000   \n",
       "max    1.483229e+09        1.000000        1.00000         1.000000   \n",
       "\n",
       "       Android 4.2-5.1  Android 6.0  Apple Watch/iPad Pro  \\\n",
       "count      5000.000000  5000.000000           5000.000000   \n",
       "mean          0.060600     0.010800              0.003400   \n",
       "std           0.238619     0.103371              0.058216   \n",
       "min           0.000000     0.000000              0.000000   \n",
       "25%           0.000000     0.000000              0.000000   \n",
       "50%           0.000000     0.000000              0.000000   \n",
       "75%           0.000000     0.000000              0.000000   \n",
       "max           1.000000     1.000000              1.000000   \n",
       "\n",
       "       Axis Network Camera  Belkin F5D8235-4 v2   BlackBerry  ...  \\\n",
       "count          5000.000000          5000.000000  5000.000000  ...   \n",
       "mean              0.000400             0.000800     0.002000  ...   \n",
       "std               0.019998             0.028276     0.044681  ...   \n",
       "min               0.000000             0.000000     0.000000  ...   \n",
       "25%               0.000000             0.000000     0.000000  ...   \n",
       "50%               0.000000             0.000000     0.000000  ...   \n",
       "75%               0.000000             0.000000     0.000000  ...   \n",
       "max               1.000000             1.000000     1.000000  ...   \n",
       "\n",
       "                 5  self_ip_class_A  self_ip_class_B  self_ip_others  \\\n",
       "count  5000.000000      5000.000000      5000.000000     5000.000000   \n",
       "mean      0.363600         0.038400         0.926600        0.025000   \n",
       "std       0.481083         0.192179         0.260818        0.156141   \n",
       "min       0.000000         0.000000         0.000000        0.000000   \n",
       "25%       0.000000         0.000000         1.000000        0.000000   \n",
       "50%       0.000000         0.000000         1.000000        0.000000   \n",
       "75%       1.000000         0.000000         1.000000        0.000000   \n",
       "max       1.000000         1.000000         1.000000        1.000000   \n",
       "\n",
       "       router_ip_class_A  router_ip_class_B  router_ip_class_C  \\\n",
       "count        5000.000000        5000.000000        5000.000000   \n",
       "mean            0.279000           0.495200           0.174600   \n",
       "std             0.448552           0.500027           0.379663   \n",
       "min             0.000000           0.000000           0.000000   \n",
       "25%             0.000000           0.000000           0.000000   \n",
       "50%             0.000000           0.000000           0.000000   \n",
       "75%             1.000000           1.000000           0.000000   \n",
       "max             1.000000           1.000000           1.000000   \n",
       "\n",
       "       router_ip_class_D  router_ip_class_E  router_ip_others  \n",
       "count        5000.000000        5000.000000       5000.000000  \n",
       "mean            0.012400           0.011000          0.027800  \n",
       "std             0.110674           0.104313          0.164416  \n",
       "min             0.000000           0.000000          0.000000  \n",
       "25%             0.000000           0.000000          0.000000  \n",
       "50%             0.000000           0.000000          0.000000  \n",
       "75%             0.000000           0.000000          0.000000  \n",
       "max             1.000000           1.000000          1.000000  \n",
       "\n",
       "[8 rows x 292 columns]"
      ]
     },
     "metadata": {},
     "output_type": "display_data"
    },
    {
     "name": "stdout",
     "output_type": "stream",
     "text": [
      "(5000, 292) (1020, 292)\n",
      "time: 422 ms (started: 2021-12-17 04:50:12 +00:00)\n"
     ]
    }
   ],
   "source": [
    "a_pre_data = pd.concat([pre_train_x,pre_test_x], axis=0)\n",
    "a_pre_data = a_pre_data.drop(['device_hashed_mac'], axis=1)\n",
    "for k in pre_train_x.keys().drop(['device_hashed_mac']):\n",
    "    if k == 'event_self_ipv4': \n",
    "        tmp = a_pre_data['event_self_ipv4'].str.extract(r'(.*?)\\.(.*?)\\.(.*?)\\.(.*)')\n",
    "        a_pre_data['self_ip_class_A'] = (tmp[0]=='10').astype(int)\n",
    "        a_pre_data['self_ip_class_B'] = (tmp[0]=='172').astype(int)\n",
    "        a_pre_data['self_ip_class_B'] = (tmp[0]=='192').astype(int)\n",
    "        a_pre_data['self_ip_others'] = ((tmp[0] != '192') * (tmp[0] != '172') * (tmp[0] != '10') == True).astype(int) # ip not start with 10, 172,192 => convert to 1\n",
    "        a_pre_data = a_pre_data.drop(['event_self_ipv4'], axis=1)\n",
    "    elif k == 'router_ip':\n",
    "        tmp = a_pre_data['router_ip'].str.extract(r'(.*?)\\.(.*?)\\.(.*?)\\.(.*)')\n",
    "        tmp[tmp[0].isnull()] = -1\n",
    "        a_pre_data['router_ip_class_A'] = (np.logical_and((0<=tmp[0].astype(int)), (tmp[0].astype(int)<128))).astype(int)\n",
    "        a_pre_data['router_ip_class_B'] = (np.logical_and((128<=tmp[0].astype(int)), (tmp[0].astype(int)<192))).astype(int)\n",
    "        a_pre_data['router_ip_class_C'] = (np.logical_and((192<=tmp[0].astype(int)), (tmp[0].astype(int)<224))).astype(int)\n",
    "        a_pre_data['router_ip_class_D'] = (np.logical_and((224<=tmp[0].astype(int)), (tmp[0].astype(int)<240))).astype(int)\n",
    "        a_pre_data['router_ip_class_E'] = (np.logical_and((240<=tmp[0].astype(int)), (tmp[0].astype(int)<255))).astype(int)\n",
    "        a_pre_data['router_ip_others'] = (tmp[0].astype(int) == -1).astype(int)\n",
    "        a_pre_data = a_pre_data.drop(['router_ip'], axis=1)\n",
    "    elif k == 'event_time':\n",
    "        tmp = a_pre_data['event_time'].apply(lambda x : x.timestamp())\n",
    "        a_pre_data['event_time'] = tmp \n",
    "    else:\n",
    "        a_pre_data_one_hot =  pd.get_dummies(a_pre_data[k])\n",
    "        a_pre_data = pd.concat([a_pre_data, a_pre_data_one_hot],axis=1)\n",
    "        a_pre_data = a_pre_data.drop([k], axis=1)\n",
    "\n",
    "train_x = a_pre_data[:len(pre_train_x)]\n",
    "test_x = a_pre_data[len(pre_train_x):]\n",
    "display(train_x.head())\n",
    "display(train_x.info())\n",
    "display(train_x.describe())\n",
    "print(train_x.shape, test_x.shape)"
   ]
  },
  {
   "cell_type": "code",
   "execution_count": 7,
   "metadata": {},
   "outputs": [
    {
     "name": "stdout",
     "output_type": "stream",
     "text": [
      "time: 19.8 ms (started: 2021-12-17 04:50:13 +00:00)\n"
     ]
    }
   ],
   "source": [
    "from sklearn.preprocessing import StandardScaler\n",
    "from sklearn.model_selection import train_test_split\n",
    "\n",
    "scaler = StandardScaler()\n",
    "train_x = scaler.fit_transform(train_x.values)\n",
    "train_x, valid_x, train_y, valid_y = train_test_split(train_x, train_y)\n",
    "test_x = scaler.transform(test_x.values)"
   ]
  },
  {
   "cell_type": "markdown",
   "metadata": {},
   "source": [
    "## 2.1.(30%) Randomly select 80% of the training set as your training set and the rest 20% as your validation set. Use the validation set to design your network structure and choose possible hyper-parameters"
   ]
  },
  {
   "cell_type": "code",
   "execution_count": 8,
   "metadata": {
    "tags": []
   },
   "outputs": [
    {
     "name": "stdout",
     "output_type": "stream",
     "text": [
      "Model: \"dnn_base_2-units\"\n",
      "_________________________________________________________________\n",
      " Layer (type)                Output Shape              Param #   \n",
      "=================================================================\n",
      " dense_3 (Dense)             multiple                  586       \n",
      "                                                                 \n",
      " dense_4 (Dense)             multiple                  6         \n",
      "                                                                 \n",
      " dense_5 (Dense)             multiple                  6         \n",
      "                                                                 \n",
      " dense_6 (Dense)             multiple                  6         \n",
      "                                                                 \n",
      " dense_7 (Dense)             multiple                  6         \n",
      "                                                                 \n",
      " dense_8 (Dense)             multiple                  3         \n",
      "                                                                 \n",
      "=================================================================\n",
      "Total params: 613\n",
      "Trainable params: 613\n",
      "Non-trainable params: 0\n",
      "_________________________________________________________________\n"
     ]
    },
    {
     "name": "stderr",
     "output_type": "stream",
     "text": [
      "2021-12-17 04:50:15.499727: W tensorflow/python/util/util.cc:368] Sets are not currently considered sequences, but this may change in the future, so consider avoiding using them.\n"
     ]
    },
    {
     "name": "stdout",
     "output_type": "stream",
     "text": [
      "INFO:tensorflow:Assets written to: ./dnn_width2/assets\n",
      "When DNN width = 2, Validation loss:0.6779824495315552, Validation accuracy:0.5655999779701233\n",
      "\n",
      "\n",
      "Model: \"dnn_base_10-units\"\n",
      "_________________________________________________________________\n",
      " Layer (type)                Output Shape              Param #   \n",
      "=================================================================\n",
      " dense_9 (Dense)             multiple                  2930      \n",
      "                                                                 \n",
      " dense_10 (Dense)            multiple                  110       \n",
      "                                                                 \n",
      " dense_11 (Dense)            multiple                  110       \n",
      "                                                                 \n",
      " dense_12 (Dense)            multiple                  110       \n",
      "                                                                 \n",
      " dense_13 (Dense)            multiple                  110       \n",
      "                                                                 \n",
      " dense_14 (Dense)            multiple                  11        \n",
      "                                                                 \n",
      "=================================================================\n",
      "Total params: 3,381\n",
      "Trainable params: 3,381\n",
      "Non-trainable params: 0\n",
      "_________________________________________________________________\n",
      "INFO:tensorflow:Assets written to: ./dnn_width10/assets\n",
      "When DNN width = 10, Validation loss:0.034459371119737625, Validation accuracy:0.995199978351593\n",
      "\n",
      "\n",
      "Model: \"dnn_base_20-units\"\n",
      "_________________________________________________________________\n",
      " Layer (type)                Output Shape              Param #   \n",
      "=================================================================\n",
      " dense_15 (Dense)            multiple                  5860      \n",
      "                                                                 \n",
      " dense_16 (Dense)            multiple                  420       \n",
      "                                                                 \n",
      " dense_17 (Dense)            multiple                  420       \n",
      "                                                                 \n",
      " dense_18 (Dense)            multiple                  420       \n",
      "                                                                 \n",
      " dense_19 (Dense)            multiple                  420       \n",
      "                                                                 \n",
      " dense_20 (Dense)            multiple                  21        \n",
      "                                                                 \n",
      "=================================================================\n",
      "Total params: 7,561\n",
      "Trainable params: 7,561\n",
      "Non-trainable params: 0\n",
      "_________________________________________________________________\n",
      "INFO:tensorflow:Assets written to: ./dnn_width20/assets\n",
      "When DNN width = 20, Validation loss:0.027626506984233856, Validation accuracy:0.9919999837875366\n",
      "\n",
      "\n",
      "time: 6.87 s (started: 2021-12-17 04:50:13 +00:00)\n"
     ]
    }
   ],
   "source": [
    "class DNN_base(tf.keras.Model):\n",
    "\n",
    "  def __init__(self, n_units):\n",
    "    super().__init__()\n",
    "    self.dense1 = tf.keras.layers.Dense(n_units, activation=tf.nn.relu)\n",
    "    self.dense2 = tf.keras.layers.Dense(n_units, activation=tf.nn.relu)\n",
    "    self.dense3 = tf.keras.layers.Dense(n_units, activation=tf.nn.relu)\n",
    "    self.dense4 = tf.keras.layers.Dense(n_units, activation=tf.nn.relu)\n",
    "    self.dense5 = tf.keras.layers.Dense(n_units, activation=tf.nn.relu)\n",
    "    self.output_layer = tf.keras.layers.Dense(1, activation=tf.nn.sigmoid)\n",
    "\n",
    "  def call(self, inputs):\n",
    "    x = self.dense1(inputs)\n",
    "    x = self.dense2(x)\n",
    "    x = self.dense3(x)\n",
    "    x = self.dense4(x)\n",
    "    x = self.dense5(x)\n",
    "    return self.output_layer(x)\n",
    "\n",
    "\n",
    "batch_size = 100\n",
    "epochs = 30\n",
    "opt = tf.keras.optimizers.Adam(learning_rate=0.0001)\n",
    "for n_units in [2, 10, 20]:\n",
    "    def_sys_model = DNN_base(n_units)\n",
    "    def_sys_model._name = f'dnn_base_{n_units}-units'\n",
    "    def_sys_model.compile(loss=\"binary_crossentropy\", optimizer=opt, metrics=[\"accuracy\"])\n",
    "    def_sys_model.fit(train_x, train_y, batch_size=batch_size, epochs=epochs, validation_split=0.2, verbose=0)\n",
    "    def_sys_model.summary()\n",
    "    def_sys_model.save(f'./dnn_width{n_units}', save_format='tf')\n",
    "    score = def_sys_model.evaluate(valid_x, valid_y, verbose=0)\n",
    "    print(f\"When DNN width = {n_units}, Validation loss:{score[0]}, Validation accuracy:{score[1]}\\n\\n\")"
   ]
  },
  {
   "cell_type": "markdown",
   "metadata": {},
   "source": [
    "## 2.2.(15%) Use your best network (out of 3 at least) to predict the intrusion type for the test set. Please report your results."
   ]
  },
  {
   "cell_type": "markdown",
   "metadata": {},
   "source": [
    "#### Choose model dnn_base_20-units to predict test data "
   ]
  },
  {
   "cell_type": "code",
   "execution_count": 9,
   "metadata": {
    "tags": []
   },
   "outputs": [
    {
     "name": "stdout",
     "output_type": "stream",
     "text": [
      "predition of test data: ['Access Control' 'Web Attack' 'Web Attack' ... 'Access Control'\n",
      " 'Web Attack' 'Web Attack']\n",
      "time: 247 ms (started: 2021-12-17 04:50:20 +00:00)\n"
     ]
    }
   ],
   "source": [
    "import pandas as pd\n",
    "\n",
    "load_model = tf.keras.models.load_model('./dnn_width20')\n",
    "pred = load_model.predict(test_x)\n",
    "pred = np.where(pred<0.5, 0, 1)\n",
    "pred_str = lenc.inverse_transform(pred)\n",
    "print(f'predition of test data: {pred_str}')\n",
    "pd.DataFrame(pred_str, columns=['prediction']).to_csv('q2.csv')"
   ]
  },
  {
   "cell_type": "markdown",
   "metadata": {},
   "source": [
    "## 3.1 (10%) You are asked to construct a classification model based on convolutional neural networks for digit recognition. Please report the prediction accuracy for the testing set."
   ]
  },
  {
   "cell_type": "code",
   "execution_count": 10,
   "metadata": {},
   "outputs": [
    {
     "name": "stderr",
     "output_type": "stream",
     "text": [
      "2021-12-17 04:50:21.455520: I tensorflow/stream_executor/cuda/cuda_dnn.cc:366] Loaded cuDNN version 8100\n"
     ]
    },
    {
     "name": "stdout",
     "output_type": "stream",
     "text": [
      "Model: \"cnn\"\n",
      "_________________________________________________________________\n",
      " Layer (type)                Output Shape              Param #   \n",
      "=================================================================\n",
      " conv2d (Conv2D)             multiple                  50        \n",
      "                                                                 \n",
      " conv2d_1 (Conv2D)           multiple                  230       \n",
      "                                                                 \n",
      " flatten (Flatten)           multiple                  0         \n",
      "                                                                 \n",
      " dense_21 (Dense)            multiple                  28810     \n",
      "                                                                 \n",
      "=================================================================\n",
      "Total params: 29,090\n",
      "Trainable params: 29,090\n",
      "Non-trainable params: 0\n",
      "_________________________________________________________________\n",
      "time: 20.6 s (started: 2021-12-17 04:50:20 +00:00)\n"
     ]
    }
   ],
   "source": [
    "import tensorflow as tf\n",
    "from tensorflow.keras.datasets import mnist\n",
    "from tensorflow.keras.utils import to_categorical\n",
    "\n",
    "(train_x, train_y), (test_x, test_y) = mnist.load_data()\n",
    "train_y = to_categorical(train_y) \n",
    "test_y = to_categorical(test_y)\n",
    "train_x = train_x.reshape(train_x.shape[0], 28, 28, 1).astype('float32')/255\n",
    "test_x = test_x.reshape(test_x.shape[0], 28, 28, 1).astype('float32')/255\n",
    "\n",
    "class CNN(tf.keras.Model):\n",
    "    def __init__(self):\n",
    "        super().__init__()\n",
    "        self.cnn1 = tf.keras.layers.Conv2D(filters=5, kernel_size=(3,3), input_shape=(28,28,1), activation='relu')\n",
    "        self.cnn2 = tf.keras.layers.Conv2D(filters=5, kernel_size=(3,3), activation='relu')\n",
    "        self.Flatten1= tf.keras.layers.Flatten()\n",
    "        self.outputs = tf.keras.layers.Dense(10, activation='softmax')\n",
    "        \n",
    "    def call(self,inputs):\n",
    "        x = self.cnn1(inputs)\n",
    "        x = self.cnn2(x)\n",
    "        x = self.Flatten1(x)\n",
    "        return self.outputs(x)\n",
    "\n",
    "    \n",
    "\n",
    "batch_size = 100\n",
    "epochs = 30\n",
    "opt = tf.keras.optimizers.Adam(learning_rate=0.0001)\n",
    "cnn_model = CNN()\n",
    "cnn_model.compile(loss=\"categorical_crossentropy\", optimizer=opt, metrics=[\"accuracy\"])\n",
    "cnn_model.fit(train_x, train_y, batch_size=batch_size, epochs=epochs, validation_split=0.2, verbose=0)\n",
    "cnn_model.summary()"
   ]
  },
  {
   "cell_type": "code",
   "execution_count": 11,
   "metadata": {},
   "outputs": [
    {
     "name": "stdout",
     "output_type": "stream",
     "text": [
      "Test loss: 0.08248109370470047\n",
      "Test accuracy: 0.9750999808311462\n",
      "time: 448 ms (started: 2021-12-17 04:50:41 +00:00)\n"
     ]
    }
   ],
   "source": [
    "score = cnn_model.evaluate(test_x, test_y, verbose=0)\n",
    "print(\"Test loss:\", score[0])\n",
    "print(\"Test accuracy:\", score[1])"
   ]
  },
  {
   "cell_type": "markdown",
   "metadata": {},
   "source": [
    "## 3.2 (30%) Please add 10%, 20%, 30% of salt-and-pepper noise to the test images, and test them using the model you trained on clean images from 3.1. Report the prediction accuracies. Compare your results with those from 3.1. What do you find?"
   ]
  },
  {
   "cell_type": "code",
   "execution_count": 12,
   "metadata": {
    "tags": []
   },
   "outputs": [
    {
     "name": "stdout",
     "output_type": "stream",
     "text": [
      "Noise level 0 Test loss: 1.471121907234192, Test accuracy: 0.5943999886512756\n",
      "Noise level 1 Test loss: 5.825091361999512, Test accuracy: 0.2605000138282776\n",
      "Noise level 2 Test loss: 10.472006797790527, Test accuracy: 0.17919999361038208\n",
      "time: 3.68 s (started: 2021-12-17 04:50:41 +00:00)\n"
     ]
    }
   ],
   "source": [
    "import random\n",
    "import numpy as np\n",
    "\n",
    "def gen_noise_pics(img, noise_lv):\n",
    "    img_size = 28**2\n",
    "    new_img = np.empty((len(img), 28, 28, 1))\n",
    "    for i in range(len(img)):\n",
    "        ran_seq = random.sample([n for n in range(img_size)], np.int(img_size*noise_lv))\n",
    "        x = img[i].copy().reshape(-1, img_size)\n",
    "        x[0, ran_seq]=1\n",
    "        new_img[i,:] = x.reshape(-1, 28, 28, 1)\n",
    "    return new_img\n",
    "\n",
    "test_x_n01 = gen_noise_pics(test_x, 0.1)\n",
    "test_x_n02 = gen_noise_pics(test_x, 0.2)\n",
    "test_x_n03 = gen_noise_pics(test_x, 0.3)\n",
    "score_list = []\n",
    "score_list.append(cnn_model.evaluate(test_x_n01, test_y, verbose=0))\n",
    "score_list.append(cnn_model.evaluate(test_x_n02, test_y, verbose=0))\n",
    "score_list.append(cnn_model.evaluate(test_x_n03, test_y, verbose=0))\n",
    "for i,score in enumerate(score_list) : print(f\"Noise level {i} Test loss: {score[0]}, Test accuracy: {score[1]}\")"
   ]
  },
  {
   "cell_type": "code",
   "execution_count": 13,
   "metadata": {},
   "outputs": [
    {
     "data": {
      "text/plain": [
       "<matplotlib.image.AxesImage at 0x7fb6a26c4490>"
      ]
     },
     "execution_count": 13,
     "metadata": {},
     "output_type": "execute_result"
    },
    {
     "data": {
      "image/png": "[encoded data removed]",
      "text/plain": [
       "<Figure size 432x288 with 4 Axes>"
      ]
     },
     "metadata": {
      "needs_background": "light"
     },
     "output_type": "display_data"
    },
    {
     "name": "stdout",
     "output_type": "stream",
     "text": [
      "time: 633 ms (started: 2021-12-17 04:50:45 +00:00)\n"
     ]
    }
   ],
   "source": [
    "import matplotlib.pyplot as plt\n",
    "\n",
    "f,ax = plt.subplots(1, 4, sharey=True)\n",
    "ax[0].imshow(test_x[0])\n",
    "ax[1].imshow(test_x_n01[0])\n",
    "ax[2].imshow(test_x_n02[0])\n",
    "ax[3].imshow(test_x_n03[0])"
   ]
  },
  {
   "cell_type": "markdown",
   "metadata": {},
   "source": [
    "## 3.3 (20%) Please use VGG-16 as a backbone pre-trained on ImageNet to fine-tune your model for the classification and redo Q. 3.1 and Q. 3.2."
   ]
  },
  {
   "cell_type": "code",
   "execution_count": 14,
   "metadata": {},
   "outputs": [
    {
     "name": "stdout",
     "output_type": "stream",
     "text": [
      "[False, False, False, False, False, False, False, False, False, False, False, False, False, False, False, False, False, True, True]\n",
      "time: 164 ms (started: 2021-12-17 04:50:46 +00:00)\n"
     ]
    }
   ],
   "source": [
    "from tensorflow.keras.applications.vgg16 import VGG16 \n",
    "\n",
    "# 凍結網路層數\n",
    "freeze_layer = 17\n",
    "vgg_net = VGG16(include_top=False, weights='imagenet', input_tensor=None)\n",
    "\n",
    "for i, layer in enumerate(vgg_net.layers):\n",
    "    if i < freeze_layer: \n",
    "        layer.trainable = False\n",
    "    else:\n",
    "        layer.trainable = True\n",
    "        \n",
    "print([l.trainable for l in vgg_net.layers])"
   ]
  },
  {
   "cell_type": "code",
   "execution_count": 15,
   "metadata": {},
   "outputs": [
    {
     "name": "stdout",
     "output_type": "stream",
     "text": [
      "Model: \"cnn_transfer\"\n",
      "_________________________________________________________________\n",
      " Layer (type)                Output Shape              Param #   \n",
      "=================================================================\n",
      " conv2d_transpose (Conv2DTra  multiple                 15        \n",
      " nspose)                                                         \n",
      "                                                                 \n",
      " ext_vgg (Functional)        (None, None, None, 128)   260160    \n",
      "                                                                 \n",
      " conv2d_2 (Conv2D)           multiple                  5765      \n",
      "                                                                 \n",
      " conv2d_3 (Conv2D)           multiple                  138       \n",
      "                                                                 \n",
      " conv2d_4 (Conv2D)           multiple                  84        \n",
      "                                                                 \n",
      " conv2d_5 (Conv2D)           multiple                  28        \n",
      "                                                                 \n",
      " conv2d_transpose_1 (Conv2DT  multiple                 140       \n",
      " ranspose)                                                       \n",
      "                                                                 \n",
      " conv2d_transpose_2 (Conv2DT  multiple                 5888      \n",
      " ranspose)                                                       \n",
      "                                                                 \n",
      " conv2d_transpose_3 (Conv2DT  multiple                 1539      \n",
      " ranspose)                                                       \n",
      "                                                                 \n",
      " flatten_1 (Flatten)         multiple                  0         \n",
      "                                                                 \n",
      " dense_22 (Dense)            multiple                  1700      \n",
      "                                                                 \n",
      "=================================================================\n",
      "Total params: 275,457\n",
      "Trainable params: 15,297\n",
      "Non-trainable params: 260,160\n",
      "_________________________________________________________________\n",
      "time: 4min 15s (started: 2021-12-17 04:50:46 +00:00)\n"
     ]
    }
   ],
   "source": [
    "from tensorflow.image import resize\n",
    "\n",
    "ext_vgg_net = tf.keras.models.Model(inputs=vgg_net.input, outputs=vgg_net.get_layer('block2_conv2').output, name=\"ext_vgg\")\n",
    "\n",
    "class CNN_transfer(tf.keras.Model):\n",
    "    def __init__(self):\n",
    "        super().__init__()\n",
    "        self.init_layer = tf.keras.layers.Conv2DTranspose(filters=3, kernel_size=2, strides=2, activation='relu')\n",
    "        self.vgg_net = ext_vgg_net\n",
    "        self.conv1 = tf.keras.layers.Conv2D(filters=5, kernel_size=3, activation='relu')\n",
    "        self.conv2 = tf.keras.layers.Conv2D(filters=3, kernel_size=3, activation='relu')\n",
    "        self.conv3 = tf.keras.layers.Conv2D(filters=3, kernel_size=3, strides=2, activation='relu')\n",
    "        self.conv4 = tf.keras.layers.Conv2D(filters=1, kernel_size=3, strides=2, activation='relu')\n",
    "        self.deconv1 = tf.keras.layers.Conv2DTranspose(filters=5, kernel_size=3, strides=1, activation='relu')\n",
    "        self.deconv2 = tf.keras.layers.Conv2DTranspose(filters=128, kernel_size=3, strides=1, activation='relu')\n",
    "        self.deconv3 = tf.keras.layers.Conv2DTranspose(filters=3, kernel_size=2, strides=2, activation='relu')\n",
    "        self.Flatten1= tf.keras.layers.Flatten()\n",
    "        self.outputs = tf.keras.layers.Dense(10, activation='softmax')\n",
    "        \n",
    "    def call(self,inputs):\n",
    "        l1_out = self.init_layer(inputs)\n",
    "        vgg_out = self.vgg_net(l1_out)\n",
    "        conv1_out = self.conv1(vgg_out)\n",
    "        conv2_out = self.conv2(conv1_out)\n",
    "        deconv1_out = self.deconv1(conv2_out)\n",
    "        skip_con1 =  deconv1_out+conv1_out           # ref: U-Net\n",
    "        deconv2_out = self.deconv2(skip_con1)\n",
    "        skip_con2 = deconv2_out+vgg_out\n",
    "        deconv3_out = self.deconv3(skip_con2)\n",
    "        skip_con3 = deconv3_out+l1_out\n",
    "        conv3_out = self.conv3(skip_con3)\n",
    "        conv4_out = self.conv4(conv3_out)\n",
    "        x = self.Flatten1(conv4_out)\n",
    "        return self.outputs(x)\n",
    "    \n",
    "batch_size = 1000\n",
    "epochs = 30\n",
    "opt = tf.keras.optimizers.Adam(learning_rate=0.001)\n",
    "cnn_tf_model = CNN_transfer()\n",
    "cnn_tf_model.compile(loss=\"categorical_crossentropy\", optimizer=opt, metrics=[\"accuracy\"])\n",
    "cnn_tf_model.fit(train_x, train_y, batch_size=batch_size, epochs=epochs, validation_split=0.2, verbose=0)\n",
    "cnn_tf_model.summary()"
   ]
  },
  {
   "cell_type": "code",
   "execution_count": 16,
   "metadata": {},
   "outputs": [
    {
     "name": "stdout",
     "output_type": "stream",
     "text": [
      "Test loss: 0.06952483206987381\n",
      "Test accuracy: 0.978600025177002\n",
      "time: 1.33 s (started: 2021-12-17 04:55:01 +00:00)\n"
     ]
    }
   ],
   "source": [
    "score = cnn_tf_model.evaluate(test_x, test_y, verbose=0)\n",
    "print(\"Test loss:\", score[0])\n",
    "print(\"Test accuracy:\", score[1])"
   ]
  },
  {
   "cell_type": "code",
   "execution_count": 17,
   "metadata": {},
   "outputs": [
    {
     "name": "stdout",
     "output_type": "stream",
     "text": [
      "Noise level 0 Test loss: 1.7064546346664429, Test accuracy: 0.6207000017166138\n",
      "Noise level 1 Test loss: 3.6914596557617188, Test accuracy: 0.4077000021934509\n",
      "Noise level 2 Test loss: 5.798006534576416, Test accuracy: 0.2851000130176544\n",
      "time: 3.06 s (started: 2021-12-17 04:55:02 +00:00)\n"
     ]
    }
   ],
   "source": [
    "tf_score_list = []\n",
    "tf_score_list.append(cnn_tf_model.evaluate(test_x_n01, test_y, verbose=0))\n",
    "tf_score_list.append(cnn_tf_model.evaluate(test_x_n02, test_y, verbose=0))\n",
    "tf_score_list.append(cnn_tf_model.evaluate(test_x_n03, test_y, verbose=0))\n",
    "for i,score in enumerate(tf_score_list) : print(f\"Noise level {i} Test loss: {score[0]}, Test accuracy: {score[1]}\")"
   ]
  },
  {
   "cell_type": "code",
   "execution_count": null,
   "metadata": {},
   "outputs": [],
   "source": []
  }
 ],
 "metadata": {
  "kernelspec": {
   "display_name": "Python 3 (ipykernel)",
   "language": "python",
   "name": "python3"
  },
  "language_info": {
   "codemirror_mode": {
    "name": "ipython",
    "version": 3
   },
   "file_extension": ".py",
   "mimetype": "text/x-python",
   "name": "python",
   "nbconvert_exporter": "python",
   "pygments_lexer": "ipython3",
   "version": "3.8.10"
  }
 },
 "nbformat": 4,
 "nbformat_minor": 4
}
