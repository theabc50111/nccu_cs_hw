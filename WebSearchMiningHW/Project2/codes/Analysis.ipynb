{
 "cells": [
  {
   "cell_type": "code",
   "execution_count": 24,
   "id": "7204f392-607e-48ff-98dd-7cab39381506",
   "metadata": {},
   "outputs": [
    {
     "name": "stdout",
     "output_type": "stream",
     "text": [
      "time: 537 µs (started: 2022-05-09 09:18:22 +00:00)\n"
     ]
    }
   ],
   "source": [
    "from matplotlib import pyplot as plt\n",
    "import pandas as pd\n",
    "import numpy as np"
   ]
  },
  {
   "cell_type": "code",
   "execution_count": 55,
   "id": "6512fee8-a41a-4cd6-969f-52bd7520fd7e",
   "metadata": {},
   "outputs": [
    {
     "data": {
      "text/html": [
       "<div>\n",
       "<style scoped>\n",
       "    .dataframe tbody tr th:only-of-type {\n",
       "        vertical-align: middle;\n",
       "    }\n",
       "\n",
       "    .dataframe tbody tr th {\n",
       "        vertical-align: top;\n",
       "    }\n",
       "\n",
       "    .dataframe thead th {\n",
       "        text-align: right;\n",
       "    }\n",
       "</style>\n",
       "<table border=\"1\" class=\"dataframe\">\n",
       "  <thead>\n",
       "    <tr style=\"text-align: right;\">\n",
       "      <th></th>\n",
       "      <th>Precision at 10</th>\n",
       "      <th>R-precision</th>\n",
       "      <th>Average Precision</th>\n",
       "    </tr>\n",
       "    <tr>\n",
       "      <th>model &amp; stem</th>\n",
       "      <th></th>\n",
       "      <th></th>\n",
       "      <th></th>\n",
       "    </tr>\n",
       "  </thead>\n",
       "  <tbody>\n",
       "    <tr>\n",
       "      <th>no_stem_JM</th>\n",
       "      <td>0.298</td>\n",
       "      <td>0.2404</td>\n",
       "      <td>0.1882</td>\n",
       "    </tr>\n",
       "    <tr>\n",
       "      <th>no_stem_laplace</th>\n",
       "      <td>0.022</td>\n",
       "      <td>0.0239</td>\n",
       "      <td>0.0154</td>\n",
       "    </tr>\n",
       "    <tr>\n",
       "      <th>no_stem_improved_okapi</th>\n",
       "      <td>0.426</td>\n",
       "      <td>0.2819</td>\n",
       "      <td>0.2269</td>\n",
       "    </tr>\n",
       "    <tr>\n",
       "      <th>no_stem_tfidf</th>\n",
       "      <td>0.396</td>\n",
       "      <td>0.2741</td>\n",
       "      <td>0.2139</td>\n",
       "    </tr>\n",
       "    <tr>\n",
       "      <th>porter_JM</th>\n",
       "      <td>0.288</td>\n",
       "      <td>0.2201</td>\n",
       "      <td>0.1913</td>\n",
       "    </tr>\n",
       "    <tr>\n",
       "      <th>porter_laplace</th>\n",
       "      <td>0.018</td>\n",
       "      <td>0.0206</td>\n",
       "      <td>0.0136</td>\n",
       "    </tr>\n",
       "    <tr>\n",
       "      <th>porter_improved_okapi</th>\n",
       "      <td>0.416</td>\n",
       "      <td>0.2983</td>\n",
       "      <td>0.2441</td>\n",
       "    </tr>\n",
       "    <tr>\n",
       "      <th>porter_tfidf</th>\n",
       "      <td>0.408</td>\n",
       "      <td>0.2876</td>\n",
       "      <td>0.2320</td>\n",
       "    </tr>\n",
       "  </tbody>\n",
       "</table>\n",
       "</div>"
      ],
      "text/plain": [
       "                        Precision at 10  R-precision  Average Precision\n",
       "model & stem                                                           \n",
       "no_stem_JM                        0.298       0.2404             0.1882\n",
       "no_stem_laplace                   0.022       0.0239             0.0154\n",
       "no_stem_improved_okapi            0.426       0.2819             0.2269\n",
       "no_stem_tfidf                     0.396       0.2741             0.2139\n",
       "porter_JM                         0.288       0.2201             0.1913\n",
       "porter_laplace                    0.018       0.0206             0.0136\n",
       "porter_improved_okapi             0.416       0.2983             0.2441\n",
       "porter_tfidf                      0.408       0.2876             0.2320"
      ]
     },
     "execution_count": 55,
     "metadata": {},
     "output_type": "execute_result"
    },
    {
     "name": "stdout",
     "output_type": "stream",
     "text": [
      "time: 6.2 ms (started: 2022-05-09 12:06:43 +00:00)\n"
     ]
    }
   ],
   "source": [
    "df = pd.read_csv(\"static_results/static.csv\")\n",
    "df.loc[1, \"file_name\"] = 'no_stem_laplace'\n",
    "df.loc[2, \"file_name\"] = 'no_stem_improved_okapi'\n",
    "df.loc[3, \"file_name\"] = 'no_stem_tfidf'\n",
    "df.loc[5, \"file_name\"] = 'porter_laplace'\n",
    "df.loc[6, \"file_name\"] = 'porter_improved_okapi'\n",
    "df.loc[7, \"file_name\"] = 'porter_tfidf'\n",
    "df.rename(columns = {'file_name' : 'model & stem'}, inplace = True)\n",
    "df = df.set_index([\"model & stem\"])\n",
    "df"
   ]
  },
  {
   "cell_type": "code",
   "execution_count": 56,
   "id": "59594835-c857-4dbb-a152-cd7c62bd8e1e",
   "metadata": {},
   "outputs": [
    {
     "data": {
      "text/plain": [
       "<Figure size 1080x1440 with 0 Axes>"
      ]
     },
     "metadata": {},
     "output_type": "display_data"
    },
    {
     "data": {
      "image/png": "[encoded data removed]",
      "text/plain": [
       "<Figure size 432x288 with 1 Axes>"
      ]
     },
     "metadata": {
      "needs_background": "light"
     },
     "output_type": "display_data"
    },
    {
     "name": "stdout",
     "output_type": "stream",
     "text": [
      "time: 105 ms (started: 2022-05-09 12:06:45 +00:00)\n"
     ]
    }
   ],
   "source": [
    "plt.figure(figsize=(15,20))\n",
    "df.plot.bar()\n",
    "plt.show()\n",
    "plt.close()"
   ]
  },
  {
   "cell_type": "code",
   "execution_count": 57,
   "id": "c6da8ef5-5d60-4335-a467-c1f8190cc22d",
   "metadata": {},
   "outputs": [
    {
     "data": {
      "text/plain": [
       "array([0.1882, 0.0154, 0.2269, 0.2139])"
      ]
     },
     "execution_count": 57,
     "metadata": {},
     "output_type": "execute_result"
    },
    {
     "name": "stdout",
     "output_type": "stream",
     "text": [
      "time: 1.3 ms (started: 2022-05-09 12:06:52 +00:00)\n"
     ]
    }
   ],
   "source": [
    "df.iloc[:4,2].to_numpy()"
   ]
  },
  {
   "cell_type": "code",
   "execution_count": 58,
   "id": "011d83d1-b343-4cc5-9d14-3ee1bd8a5012",
   "metadata": {},
   "outputs": [
    {
     "data": {
      "image/png": "[encoded data removed]",
      "text/plain": [
       "<Figure size 432x288 with 1 Axes>"
      ]
     },
     "metadata": {
      "needs_background": "light"
     },
     "output_type": "display_data"
    },
    {
     "name": "stdout",
     "output_type": "stream",
     "text": [
      "time: 89.1 ms (started: 2022-05-09 12:06:53 +00:00)\n"
     ]
    }
   ],
   "source": [
    "labels = ['JM', 'Laplace', 'Improved Okapi', 'TF-IDF']\n",
    "no_stem = df.iloc[:4,2].to_numpy()\n",
    "porter =  df.iloc[4:,2].to_numpy()\n",
    "\n",
    "x = np.arange(len(labels))  # the label locations\n",
    "width = 0.35  # the width of the bars\n",
    "\n",
    "fig, ax = plt.subplots()\n",
    "rects1 = ax.bar(x - width/2, no_stem, width, label='No stemming')\n",
    "rects2 = ax.bar(x + width/2, porter, width, label='Porter setmming')\n",
    "\n",
    "# Add some text for labels, title and custom x-axis tick labels, etc.\n",
    "ax.set_ylabel('Average precision')\n",
    "ax.set_title('Average precision for different smoothing')\n",
    "ax.set_xticks(x, labels)\n",
    "ax.legend()\n",
    "\n",
    "ax.bar_label(rects1, padding=3)\n",
    "ax.bar_label(rects2, padding=3)\n",
    "\n",
    "fig.tight_layout()\n",
    "\n",
    "plt.show()"
   ]
  },
  {
   "cell_type": "code",
   "execution_count": null,
   "id": "4b972ffb-9d34-47e1-9304-b7b330895d5d",
   "metadata": {},
   "outputs": [],
   "source": []
  }
 ],
 "metadata": {
  "kernelspec": {
   "display_name": "Python 3 (ipykernel)",
   "language": "python",
   "name": "python3"
  },
  "language_info": {
   "codemirror_mode": {
    "name": "ipython",
    "version": 3
   },
   "file_extension": ".py",
   "mimetype": "text/x-python",
   "name": "python",
   "nbconvert_exporter": "python",
   "pygments_lexer": "ipython3",
   "version": "3.8.10"
  }
 },
 "nbformat": 4,
 "nbformat_minor": 5
}
