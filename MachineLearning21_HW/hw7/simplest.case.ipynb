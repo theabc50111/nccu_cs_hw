{
 "cells": [
  {
   "cell_type": "markdown",
   "metadata": {
    "id": "RsFSH9Egkz2U"
   },
   "source": [
    "#### A simple gradient search for IntroML@cs.nccu.edu.tw\n",
    "#### prepared by Chao-Lin Liu"
   ]
  },
  {
   "cell_type": "markdown",
   "metadata": {
    "id": "c2M1X4EKkz2X"
   },
   "source": [
    "##### $f_1(x) = 2x^2-7x+3$\n",
    "##### $f_2(x) = x^4-8x^2+3x$"
   ]
  },
  {
   "cell_type": "code",
   "execution_count": 1,
   "metadata": {
    "id": "Odv5hcZAkz2Y"
   },
   "outputs": [
    {
     "name": "stdout",
     "output_type": "stream",
     "text": [
      "18\n"
     ]
    }
   ],
   "source": [
    "# func = lambda x: 2*x*x-7*x+3\n",
    "func = lambda x: x*x*x*x-8*x*x+3*x\n",
    "print(func(3))"
   ]
  },
  {
   "cell_type": "code",
   "execution_count": 2,
   "metadata": {
    "id": "Em68xzN9kz2Z"
   },
   "outputs": [],
   "source": [
    "# This is your first guess\n",
    "guess = -3"
   ]
  },
  {
   "cell_type": "code",
   "execution_count": 3,
   "metadata": {
    "id": "EeJmt4wFkz2Z"
   },
   "outputs": [],
   "source": [
    "# setting the learning rate\n",
    "#rate = 0.5 # a very interesting rate for $f_1$\n",
    "rate = 0.3"
   ]
  },
  {
   "cell_type": "code",
   "execution_count": 4,
   "metadata": {
    "id": "S_bmwp7nkz2a"
   },
   "outputs": [],
   "source": [
    "# a factor for the stopping criteria\n",
    "precision = 0.000001"
   ]
  },
  {
   "cell_type": "code",
   "execution_count": 5,
   "metadata": {
    "id": "UhlPiHlAkz2a"
   },
   "outputs": [],
   "source": [
    "# your patience \n",
    "max_iter = 10000"
   ]
  },
  {
   "cell_type": "code",
   "execution_count": 6,
   "metadata": {
    "id": "_lw8iPmqkz2b"
   },
   "outputs": [
    {
     "data": {
      "text/plain": [
       "63"
      ]
     },
     "execution_count": 6,
     "metadata": {},
     "output_type": "execute_result"
    }
   ],
   "source": [
    "# 如果我們知道函數的確實形式的話，就可以做微分\n",
    "# dfunc = lambda x: 4*x-7\n",
    "dfunc = lambda x: 4*x*x*x - 16 * x + 3\n",
    "dfunc(3)"
   ]
  },
  {
   "cell_type": "code",
   "execution_count": 7,
   "metadata": {
    "id": "SM8yujElkz2b"
   },
   "outputs": [],
   "source": [
    "# starting from zeroth iteration\n",
    "iter = 0\n",
    "# kicking off the search\n",
    "step_size = 1"
   ]
  },
  {
   "cell_type": "code",
   "execution_count": 8,
   "metadata": {
    "id": "nTGOzpR3kz2c"
   },
   "outputs": [
    {
     "data": {
      "text/plain": [
       "0"
      ]
     },
     "execution_count": 8,
     "metadata": {},
     "output_type": "execute_result"
    }
   ],
   "source": [
    "func(guess)"
   ]
  },
  {
   "cell_type": "code",
   "execution_count": 9,
   "metadata": {
    "id": "L2F6UYLfkz2c"
   },
   "outputs": [
    {
     "data": {
      "text/plain": [
       "0.3"
      ]
     },
     "execution_count": 9,
     "metadata": {},
     "output_type": "execute_result"
    }
   ],
   "source": [
    "rate"
   ]
  },
  {
   "cell_type": "code",
   "execution_count": 10,
   "metadata": {
    "id": "l2lv6wD9kz2c"
   },
   "outputs": [
    {
     "data": {
      "text/plain": [
       "-3"
      ]
     },
     "execution_count": 10,
     "metadata": {},
     "output_type": "execute_result"
    }
   ],
   "source": [
    "guess"
   ]
  },
  {
   "cell_type": "code",
   "execution_count": 11,
   "metadata": {
    "colab": {
     "background_save": true
    },
    "id": "OlIvNE0wkz2d",
    "scrolled": false
   },
   "outputs": [
    {
     "name": "stdout",
     "output_type": "stream",
     "text": [
      "Iteration:  1 \n",
      " current guess is:  14.099999999999998 \n",
      " f(guess) is:  37977.23609999998\n",
      "Iteration:  2 \n",
      " current guess is:  -3282.9851999999983 \n",
      " f(guess) is:  116165021511903.9\n",
      "Iteration:  3 \n",
      " current guess is:  42460766128.192635 \n",
      " f(guess) is:  3.250508483601737e+42\n",
      "Iteration:  4 \n",
      " current guess is:  -9.186386718849616e+31 \n",
      " f(guess) is:  7.121621626136183e+127\n",
      "Iteration:  5 \n",
      " current guess is:  9.302837135985064e+95 \n",
      " f(guess) is:  inf\n",
      "Iteration:  6 \n",
      " current guess is:  -9.661120515281811e+287 \n",
      " f(guess) is:  nan\n",
      "Iteration:  7 \n",
      " current guess is:  inf \n",
      " f(guess) is:  nan\n",
      "Iteration:  8 \n",
      " current guess is:  nan \n",
      " f(guess) is:  nan\n",
      "The mininum is  nan  when the search stops at x =  nan\n"
     ]
    }
   ],
   "source": [
    "while (step_size > precision) and (iter < max_iter):\n",
    "    prev = guess                         # save the previous guess\n",
    "    guess = guess - rate * dfunc(guess)  # move to the next guess\n",
    "    step_size = abs(guess-prev)\n",
    "    iter = iter+1\n",
    "    print(\"Iteration: \",iter,\"\\n current guess is: \", guess, \"\\n f(guess) is: \", func(guess))\n",
    "    \n",
    "print(\"The mininum is \",func(guess), \" when the search stops at x = \", guess)"
   ]
  },
  {
   "cell_type": "code",
   "execution_count": null,
   "metadata": {
    "id": "GjddFYVskz2d"
   },
   "outputs": [],
   "source": []
  },
  {
   "cell_type": "code",
   "execution_count": null,
   "metadata": {},
   "outputs": [],
   "source": []
  }
 ],
 "metadata": {
  "colab": {
   "name": "simplest.case.ipynb",
   "provenance": []
  },
  "kernelspec": {
   "display_name": "Python 3",
   "language": "python",
   "name": "python3"
  },
  "language_info": {
   "codemirror_mode": {
    "name": "ipython",
    "version": 3
   },
   "file_extension": ".py",
   "mimetype": "text/x-python",
   "name": "python",
   "nbconvert_exporter": "python",
   "pygments_lexer": "ipython3",
   "version": "3.6.9"
  }
 },
 "nbformat": 4,
 "nbformat_minor": 1
}
