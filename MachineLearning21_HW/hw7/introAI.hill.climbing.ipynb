{
 "cells": [
  {
   "cell_type": "markdown",
   "metadata": {
    "id": "U3RXdyB3jmCI"
   },
   "source": [
    "#### A simple gradient search for IntroML@cs.nccu.edu.tw\n",
    "#### prepared by Chao-Lin Liu"
   ]
  },
  {
   "cell_type": "markdown",
   "metadata": {
    "id": "d6cJPE5FjmCL"
   },
   "source": [
    "#### $f_1(x) = 2x^2-7x+3$\n",
    "##### $f_2(x) = x^4-8x^2+3x$"
   ]
  },
  {
   "cell_type": "code",
   "execution_count": 76,
   "metadata": {
    "colab": {
     "base_uri": "https://localhost:8080/"
    },
    "executionInfo": {
     "elapsed": 404,
     "status": "ok",
     "timestamp": 1638169356362,
     "user": {
      "displayName": "Chao-Lin Liu_劉昭麟",
      "photoUrl": "https://lh3.googleusercontent.com/a-/AOh14GjaQDcVx0bvPqaEx_8WUFaIPswUZjxK7wUwecFfFA=s64",
      "userId": "17631593861648490450"
     },
     "user_tz": -480
    },
    "id": "BcCQONhwjmCM",
    "outputId": "b23dabf7-720e-4b40-d28d-e3460a9296cf"
   },
   "outputs": [
    {
     "name": "stdout",
     "output_type": "stream",
     "text": [
      "0\n"
     ]
    }
   ],
   "source": [
    "func = lambda x: 2*x*x-7*x+3\n",
    "#func = lambda x: x*x*x*x-8*x*x+3*x\n",
    "print(func(3))"
   ]
  },
  {
   "cell_type": "code",
   "execution_count": 77,
   "metadata": {
    "executionInfo": {
     "elapsed": 7,
     "status": "ok",
     "timestamp": 1638169356876,
     "user": {
      "displayName": "Chao-Lin Liu_劉昭麟",
      "photoUrl": "https://lh3.googleusercontent.com/a-/AOh14GjaQDcVx0bvPqaEx_8WUFaIPswUZjxK7wUwecFfFA=s64",
      "userId": "17631593861648490450"
     },
     "user_tz": -480
    },
    "id": "Oo6A_Pa0jmCN"
   },
   "outputs": [],
   "source": [
    "# This is your first guess\n",
    "guess = -2"
   ]
  },
  {
   "cell_type": "code",
   "execution_count": 78,
   "metadata": {
    "executionInfo": {
     "elapsed": 6,
     "status": "ok",
     "timestamp": 1638169356876,
     "user": {
      "displayName": "Chao-Lin Liu_劉昭麟",
      "photoUrl": "https://lh3.googleusercontent.com/a-/AOh14GjaQDcVx0bvPqaEx_8WUFaIPswUZjxK7wUwecFfFA=s64",
      "userId": "17631593861648490450"
     },
     "user_tz": -480
    },
    "id": "BeuVztonjmCN"
   },
   "outputs": [],
   "source": [
    "# a factor for the stopping criteria\n",
    "patience = 0.001"
   ]
  },
  {
   "cell_type": "code",
   "execution_count": 79,
   "metadata": {
    "executionInfo": {
     "elapsed": 7,
     "status": "ok",
     "timestamp": 1638169356877,
     "user": {
      "displayName": "Chao-Lin Liu_劉昭麟",
      "photoUrl": "https://lh3.googleusercontent.com/a-/AOh14GjaQDcVx0bvPqaEx_8WUFaIPswUZjxK7wUwecFfFA=s64",
      "userId": "17631593861648490450"
     },
     "user_tz": -480
    },
    "id": "DK8VECcUjmCN"
   },
   "outputs": [],
   "source": [
    "# your patience \n",
    "max_iter = 300"
   ]
  },
  {
   "cell_type": "code",
   "execution_count": 80,
   "metadata": {
    "executionInfo": {
     "elapsed": 7,
     "status": "ok",
     "timestamp": 1638169356878,
     "user": {
      "displayName": "Chao-Lin Liu_劉昭麟",
      "photoUrl": "https://lh3.googleusercontent.com/a-/AOh14GjaQDcVx0bvPqaEx_8WUFaIPswUZjxK7wUwecFfFA=s64",
      "userId": "17631593861648490450"
     },
     "user_tz": -480
    },
    "id": "7v89zoRijmCO"
   },
   "outputs": [],
   "source": [
    "# starting from zeroth iteration\n",
    "iter = 0\n",
    "# kicking off the search\n",
    "step_size = 10\n",
    "improvement = 1000000 # setting to a large number"
   ]
  },
  {
   "cell_type": "code",
   "execution_count": 81,
   "metadata": {
    "colab": {
     "base_uri": "https://localhost:8080/"
    },
    "executionInfo": {
     "elapsed": 420,
     "status": "ok",
     "timestamp": 1638169357292,
     "user": {
      "displayName": "Chao-Lin Liu_劉昭麟",
      "photoUrl": "https://lh3.googleusercontent.com/a-/AOh14GjaQDcVx0bvPqaEx_8WUFaIPswUZjxK7wUwecFfFA=s64",
      "userId": "17631593861648490450"
     },
     "user_tz": -480
    },
    "id": "odDmE3N8jmCO",
    "outputId": "be1f18f0-f088-419e-aa74-4b58f8a6a50a"
   },
   "outputs": [
    {
     "name": "stdout",
     "output_type": "stream",
     "text": [
      "The mininum is  25  when the search stops at x =  -2\n"
     ]
    }
   ],
   "source": [
    "while (improvement > patience) and (iter < max_iter):\n",
    "    prev = guess                         # save the previous guess\n",
    "    guess1 = prev + step_size  # move to the next guess\n",
    "    guess2 = prev - step_size\n",
    "    if func(guess1) < func(guess2):\n",
    "        attempt = guess1\n",
    "    else:\n",
    "        attempt = guess2\n",
    "    if func(prev) > func(attempt):\n",
    "        improvement = func(prev)-func(attempt)\n",
    "        guess = attempt\n",
    "    else:\n",
    "        break\n",
    "    iter = iter+1\n",
    "    print(\"Iteration: \",iter,\"\\n current guess is: \", guess, \"\\n f(guess) is: \", func(guess))\n",
    "    \n",
    "print(\"The mininum is \",func(guess), \" when the search stops at x = \", guess)"
   ]
  },
  {
   "cell_type": "code",
   "execution_count": null,
   "metadata": {},
   "outputs": [],
   "source": []
  }
 ],
 "metadata": {
  "colab": {
   "name": "introAI.hill.climbing.ipynb",
   "provenance": []
  },
  "kernelspec": {
   "display_name": "Python 3",
   "language": "python",
   "name": "python3"
  },
  "language_info": {
   "codemirror_mode": {
    "name": "ipython",
    "version": 3
   },
   "file_extension": ".py",
   "mimetype": "text/x-python",
   "name": "python",
   "nbconvert_exporter": "python",
   "pygments_lexer": "ipython3",
   "version": "3.6.9"
  }
 },
 "nbformat": 4,
 "nbformat_minor": 1
}
