{
 "cells": [
  {
   "cell_type": "markdown",
   "metadata": {
    "id": "U3RXdyB3jmCI"
   },
   "source": [
    "#### A simple gradient search for IntroML@cs.nccu.edu.tw\n",
    "#### prepared by Chao-Lin Liu"
   ]
  },
  {
   "cell_type": "markdown",
   "metadata": {
    "id": "d6cJPE5FjmCL"
   },
   "source": [
    "#### $f_1(x) = 2x^2-7x+3$\n",
    "##### $f_2(x) = x^4-8x^2+3x$"
   ]
  },
  {
   "cell_type": "code",
   "execution_count": 27,
   "metadata": {
    "colab": {
     "base_uri": "https://localhost:8080/"
    },
    "executionInfo": {
     "elapsed": 404,
     "status": "ok",
     "timestamp": 1638169356362,
     "user": {
      "displayName": "Chao-Lin Liu_劉昭麟",
      "photoUrl": "https://lh3.googleusercontent.com/a-/AOh14GjaQDcVx0bvPqaEx_8WUFaIPswUZjxK7wUwecFfFA=s64",
      "userId": "17631593861648490450"
     },
     "user_tz": -480
    },
    "id": "BcCQONhwjmCM",
    "outputId": "b23dabf7-720e-4b40-d28d-e3460a9296cf"
   },
   "outputs": [
    {
     "name": "stdout",
     "output_type": "stream",
     "text": [
      "0\n",
      "time: 777 µs (started: 2022-01-09 06:20:22 +00:00)\n"
     ]
    }
   ],
   "source": [
    "func = lambda x: 2*x*x-7*x+3\n",
    "#func = lambda x: x*x*x*x-8*x*x+3*x\n",
    "print(func(3))"
   ]
  },
  {
   "cell_type": "code",
   "execution_count": 28,
   "metadata": {
    "executionInfo": {
     "elapsed": 7,
     "status": "ok",
     "timestamp": 1638169356876,
     "user": {
      "displayName": "Chao-Lin Liu_劉昭麟",
      "photoUrl": "https://lh3.googleusercontent.com/a-/AOh14GjaQDcVx0bvPqaEx_8WUFaIPswUZjxK7wUwecFfFA=s64",
      "userId": "17631593861648490450"
     },
     "user_tz": -480
    },
    "id": "Oo6A_Pa0jmCN"
   },
   "outputs": [
    {
     "name": "stdout",
     "output_type": "stream",
     "text": [
      "time: 549 µs (started: 2022-01-09 06:20:23 +00:00)\n"
     ]
    }
   ],
   "source": [
    "# This is your first guess\n",
    "guess = -2"
   ]
  },
  {
   "cell_type": "code",
   "execution_count": 29,
   "metadata": {
    "executionInfo": {
     "elapsed": 6,
     "status": "ok",
     "timestamp": 1638169356876,
     "user": {
      "displayName": "Chao-Lin Liu_劉昭麟",
      "photoUrl": "https://lh3.googleusercontent.com/a-/AOh14GjaQDcVx0bvPqaEx_8WUFaIPswUZjxK7wUwecFfFA=s64",
      "userId": "17631593861648490450"
     },
     "user_tz": -480
    },
    "id": "BeuVztonjmCN"
   },
   "outputs": [
    {
     "name": "stdout",
     "output_type": "stream",
     "text": [
      "time: 483 µs (started: 2022-01-09 06:20:24 +00:00)\n"
     ]
    }
   ],
   "source": [
    "# a factor for the stopping criteria\n",
    "patience = 0.001"
   ]
  },
  {
   "cell_type": "code",
   "execution_count": 30,
   "metadata": {
    "executionInfo": {
     "elapsed": 7,
     "status": "ok",
     "timestamp": 1638169356877,
     "user": {
      "displayName": "Chao-Lin Liu_劉昭麟",
      "photoUrl": "https://lh3.googleusercontent.com/a-/AOh14GjaQDcVx0bvPqaEx_8WUFaIPswUZjxK7wUwecFfFA=s64",
      "userId": "17631593861648490450"
     },
     "user_tz": -480
    },
    "id": "DK8VECcUjmCN"
   },
   "outputs": [
    {
     "name": "stdout",
     "output_type": "stream",
     "text": [
      "time: 416 µs (started: 2022-01-09 06:20:24 +00:00)\n"
     ]
    }
   ],
   "source": [
    "# your patience \n",
    "max_iter = 300"
   ]
  },
  {
   "cell_type": "code",
   "execution_count": 32,
   "metadata": {
    "executionInfo": {
     "elapsed": 7,
     "status": "ok",
     "timestamp": 1638169356878,
     "user": {
      "displayName": "Chao-Lin Liu_劉昭麟",
      "photoUrl": "https://lh3.googleusercontent.com/a-/AOh14GjaQDcVx0bvPqaEx_8WUFaIPswUZjxK7wUwecFfFA=s64",
      "userId": "17631593861648490450"
     },
     "user_tz": -480
    },
    "id": "7v89zoRijmCO"
   },
   "outputs": [
    {
     "name": "stdout",
     "output_type": "stream",
     "text": [
      "time: 694 µs (started: 2022-01-09 06:20:33 +00:00)\n"
     ]
    }
   ],
   "source": [
    "# starting from zeroth iteration\n",
    "iter = 0\n",
    "# kicking off the search\n",
    "step_size = 0.1\n",
    "improvement = 5000000 # setting to a large number"
   ]
  },
  {
   "cell_type": "code",
   "execution_count": 33,
   "metadata": {
    "colab": {
     "base_uri": "https://localhost:8080/"
    },
    "executionInfo": {
     "elapsed": 420,
     "status": "ok",
     "timestamp": 1638169357292,
     "user": {
      "displayName": "Chao-Lin Liu_劉昭麟",
      "photoUrl": "https://lh3.googleusercontent.com/a-/AOh14GjaQDcVx0bvPqaEx_8WUFaIPswUZjxK7wUwecFfFA=s64",
      "userId": "17631593861648490450"
     },
     "user_tz": -480
    },
    "id": "odDmE3N8jmCO",
    "outputId": "be1f18f0-f088-419e-aa74-4b58f8a6a50a"
   },
   "outputs": [
    {
     "name": "stdout",
     "output_type": "stream",
     "text": [
      "Iteration:  1 \n",
      " current guess is:  -1.9 \n",
      " f(guess) is:  23.52\n",
      "Iteration:  2 \n",
      " current guess is:  -1.7999999999999998 \n",
      " f(guess) is:  22.08\n",
      "Iteration:  3 \n",
      " current guess is:  -1.6999999999999997 \n",
      " f(guess) is:  20.679999999999996\n",
      "Iteration:  4 \n",
      " current guess is:  -1.5999999999999996 \n",
      " f(guess) is:  19.319999999999993\n",
      "Iteration:  5 \n",
      " current guess is:  -1.4999999999999996 \n",
      " f(guess) is:  17.999999999999993\n",
      "Iteration:  6 \n",
      " current guess is:  -1.3999999999999995 \n",
      " f(guess) is:  16.71999999999999\n",
      "Iteration:  7 \n",
      " current guess is:  -1.2999999999999994 \n",
      " f(guess) is:  15.479999999999993\n",
      "Iteration:  8 \n",
      " current guess is:  -1.1999999999999993 \n",
      " f(guess) is:  14.279999999999992\n",
      "Iteration:  9 \n",
      " current guess is:  -1.0999999999999992 \n",
      " f(guess) is:  13.11999999999999\n",
      "Iteration:  10 \n",
      " current guess is:  -0.9999999999999992 \n",
      " f(guess) is:  11.999999999999991\n",
      "Iteration:  11 \n",
      " current guess is:  -0.8999999999999992 \n",
      " f(guess) is:  10.919999999999991\n",
      "Iteration:  12 \n",
      " current guess is:  -0.7999999999999993 \n",
      " f(guess) is:  9.879999999999992\n",
      "Iteration:  13 \n",
      " current guess is:  -0.6999999999999993 \n",
      " f(guess) is:  8.879999999999992\n",
      "Iteration:  14 \n",
      " current guess is:  -0.5999999999999993 \n",
      " f(guess) is:  7.919999999999993\n",
      "Iteration:  15 \n",
      " current guess is:  -0.49999999999999933 \n",
      " f(guess) is:  6.999999999999995\n",
      "Iteration:  16 \n",
      " current guess is:  -0.39999999999999936 \n",
      " f(guess) is:  6.119999999999994\n",
      "Iteration:  17 \n",
      " current guess is:  -0.2999999999999994 \n",
      " f(guess) is:  5.279999999999995\n",
      "Iteration:  18 \n",
      " current guess is:  -0.19999999999999937 \n",
      " f(guess) is:  4.479999999999995\n",
      "Iteration:  19 \n",
      " current guess is:  -0.09999999999999937 \n",
      " f(guess) is:  3.7199999999999953\n",
      "Iteration:  20 \n",
      " current guess is:  6.38378239159465e-16 \n",
      " f(guess) is:  2.9999999999999956\n",
      "Iteration:  21 \n",
      " current guess is:  0.10000000000000064 \n",
      " f(guess) is:  2.319999999999996\n",
      "Iteration:  22 \n",
      " current guess is:  0.20000000000000065 \n",
      " f(guess) is:  1.679999999999996\n",
      "Iteration:  23 \n",
      " current guess is:  0.30000000000000066 \n",
      " f(guess) is:  1.0799999999999963\n",
      "Iteration:  24 \n",
      " current guess is:  0.4000000000000007 \n",
      " f(guess) is:  0.5199999999999965\n",
      "Iteration:  25 \n",
      " current guess is:  0.5000000000000007 \n",
      " f(guess) is:  -3.1086244689504383e-15\n",
      "Iteration:  26 \n",
      " current guess is:  0.6000000000000006 \n",
      " f(guess) is:  -0.4800000000000031\n",
      "Iteration:  27 \n",
      " current guess is:  0.7000000000000006 \n",
      " f(guess) is:  -0.9200000000000021\n",
      "Iteration:  28 \n",
      " current guess is:  0.8000000000000006 \n",
      " f(guess) is:  -1.320000000000002\n",
      "Iteration:  29 \n",
      " current guess is:  0.9000000000000006 \n",
      " f(guess) is:  -1.6800000000000024\n",
      "Iteration:  30 \n",
      " current guess is:  1.0000000000000007 \n",
      " f(guess) is:  -2.0000000000000018\n",
      "Iteration:  31 \n",
      " current guess is:  1.1000000000000008 \n",
      " f(guess) is:  -2.280000000000002\n",
      "Iteration:  32 \n",
      " current guess is:  1.2000000000000008 \n",
      " f(guess) is:  -2.5200000000000014\n",
      "Iteration:  33 \n",
      " current guess is:  1.300000000000001 \n",
      " f(guess) is:  -2.7200000000000024\n",
      "Iteration:  34 \n",
      " current guess is:  1.400000000000001 \n",
      " f(guess) is:  -2.8800000000000026\n",
      "Iteration:  35 \n",
      " current guess is:  1.500000000000001 \n",
      " f(guess) is:  -3.0\n",
      "Iteration:  36 \n",
      " current guess is:  1.6000000000000012 \n",
      " f(guess) is:  -3.08\n",
      "Iteration:  37 \n",
      " current guess is:  1.7000000000000013 \n",
      " f(guess) is:  -3.12\n",
      "The mininum is  -3.12  when the search stops at x =  1.7000000000000013\n",
      "time: 4.07 ms (started: 2022-01-09 06:20:33 +00:00)\n"
     ]
    }
   ],
   "source": [
    "while (improvement > patience) and (iter < max_iter):\n",
    "    prev = guess                         # save the previous guess\n",
    "    guess1 = prev + step_size  # move to the next guess\n",
    "    guess2 = prev - step_size\n",
    "    if func(guess1) < func(guess2):\n",
    "        attempt = guess1\n",
    "    else:\n",
    "        attempt = guess2\n",
    "    if func(prev) > func(attempt):\n",
    "        improvement = func(prev)-func(attempt)\n",
    "        guess = attempt\n",
    "    else:\n",
    "        break\n",
    "    iter = iter+1\n",
    "    print(\"Iteration: \",iter,\"\\n current guess is: \", guess, \"\\n f(guess) is: \", func(guess))\n",
    "    \n",
    "print(\"The mininum is \",func(guess), \" when the search stops at x = \", guess)"
   ]
  },
  {
   "cell_type": "code",
   "execution_count": null,
   "metadata": {},
   "outputs": [],
   "source": []
  }
 ],
 "metadata": {
  "colab": {
   "name": "introAI.hill.climbing.ipynb",
   "provenance": []
  },
  "kernelspec": {
   "display_name": "Python 3 (ipykernel)",
   "language": "python",
   "name": "python3"
  },
  "language_info": {
   "codemirror_mode": {
    "name": "ipython",
    "version": 3
   },
   "file_extension": ".py",
   "mimetype": "text/x-python",
   "name": "python",
   "nbconvert_exporter": "python",
   "pygments_lexer": "ipython3",
   "version": "3.8.10"
  }
 },
 "nbformat": 4,
 "nbformat_minor": 4
}
