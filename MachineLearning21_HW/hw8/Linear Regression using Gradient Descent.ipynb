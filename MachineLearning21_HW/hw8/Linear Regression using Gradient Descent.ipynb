{
 "cells": [
  {
   "cell_type": "markdown",
   "metadata": {
    "id": "tAmBAw7rfECB"
   },
   "source": [
    "#### Introduction to Machine Learning @cs.nccu.edu.tw\n",
    "#### prepared by Chao-Lin Liu"
   ]
  },
  {
   "cell_type": "code",
   "execution_count": 1,
   "metadata": {
    "executionInfo": {
     "elapsed": 3,
     "status": "ok",
     "timestamp": 1638521427893,
     "user": {
      "displayName": "Chao-Lin Liu_劉昭麟",
      "photoUrl": "https://lh3.googleusercontent.com/a-/AOh14GjaQDcVx0bvPqaEx_8WUFaIPswUZjxK7wUwecFfFA=s64",
      "userId": "17631593861648490450"
     },
     "user_tz": -480
    },
    "id": "3cuUub_ifECE",
    "scrolled": true
   },
   "outputs": [],
   "source": [
    "# Making the imports\n",
    "import numpy as np\n",
    "import pandas as pd\n",
    "import matplotlib.pyplot as plt\n",
    "plt.rcParams['figure.figsize'] = (12.0, 9.0)"
   ]
  },
  {
   "cell_type": "markdown",
   "metadata": {
    "id": "cQzEBcDXfECF"
   },
   "source": [
    "##### Preprocessing Input data\n",
    "######  這一組數據的答案是： $y=0.2x+4+\\epsilon$"
   ]
  },
  {
   "cell_type": "code",
   "execution_count": 2,
   "metadata": {
    "colab": {
     "base_uri": "https://localhost:8080/",
     "height": 265
    },
    "executionInfo": {
     "elapsed": 814,
     "status": "ok",
     "timestamp": 1638521731574,
     "user": {
      "displayName": "Chao-Lin Liu_劉昭麟",
      "photoUrl": "https://lh3.googleusercontent.com/a-/AOh14GjaQDcVx0bvPqaEx_8WUFaIPswUZjxK7wUwecFfFA=s64",
      "userId": "17631593861648490450"
     },
     "user_tz": -480
    },
    "id": "v8E5FK2ZfECF",
    "outputId": "2736b65b-41a9-4290-a565-3ff8c23d9d16"
   },
   "outputs": [
    {
     "data": {
      "image/png": "[encoded data removed]",
      "text/plain": [
       "<Figure size 864x648 with 1 Axes>"
      ]
     },
     "metadata": {},
     "output_type": "display_data"
    }
   ],
   "source": [
    "import io\n",
    "data = pd.read_csv('linear.regression.csv')\n",
    "X = data.iloc[:, 0]\n",
    "Y = data.iloc[:, 2]\n",
    "plt.scatter(X, Y)\n",
    "plt.show()"
   ]
  },
  {
   "cell_type": "code",
   "execution_count": 3,
   "metadata": {
    "executionInfo": {
     "elapsed": 7,
     "status": "aborted",
     "timestamp": 1638521428909,
     "user": {
      "displayName": "Chao-Lin Liu_劉昭麟",
      "photoUrl": "https://lh3.googleusercontent.com/a-/AOh14GjaQDcVx0bvPqaEx_8WUFaIPswUZjxK7wUwecFfFA=s64",
      "userId": "17631593861648490450"
     },
     "user_tz": -480
    },
    "id": "3E_XUHUyfECG"
   },
   "outputs": [],
   "source": [
    "# initial guess\n",
    "m = 5\n",
    "c = -5"
   ]
  },
  {
   "cell_type": "code",
   "execution_count": 4,
   "metadata": {
    "executionInfo": {
     "elapsed": 7,
     "status": "aborted",
     "timestamp": 1638521428909,
     "user": {
      "displayName": "Chao-Lin Liu_劉昭麟",
      "photoUrl": "https://lh3.googleusercontent.com/a-/AOh14GjaQDcVx0bvPqaEx_8WUFaIPswUZjxK7wUwecFfFA=s64",
      "userId": "17631593861648490450"
     },
     "user_tz": -480
    },
    "id": "WoKTVg0PfECG"
   },
   "outputs": [
    {
     "data": {
      "text/plain": [
       "0    12.699206\n",
       "1   -16.338590\n",
       "2    16.566408\n",
       "3    47.881772\n",
       "4    15.416405\n",
       "Name: X, dtype: float64"
      ]
     },
     "execution_count": 4,
     "metadata": {},
     "output_type": "execute_result"
    }
   ],
   "source": [
    "X[0:5]"
   ]
  },
  {
   "cell_type": "code",
   "execution_count": 5,
   "metadata": {
    "executionInfo": {
     "elapsed": 8,
     "status": "aborted",
     "timestamp": 1638521428910,
     "user": {
      "displayName": "Chao-Lin Liu_劉昭麟",
      "photoUrl": "https://lh3.googleusercontent.com/a-/AOh14GjaQDcVx0bvPqaEx_8WUFaIPswUZjxK7wUwecFfFA=s64",
      "userId": "17631593861648490450"
     },
     "user_tz": -480
    },
    "id": "LBEQQM42fECG"
   },
   "outputs": [
    {
     "data": {
      "text/plain": [
       "0     58.496031\n",
       "1    -86.692950\n",
       "2     77.832039\n",
       "3    234.408862\n",
       "4     72.082027\n",
       "Name: X, dtype: float64"
      ]
     },
     "execution_count": 5,
     "metadata": {},
     "output_type": "execute_result"
    }
   ],
   "source": [
    "# 這是一個方便的指令；一個指令完成一個 series 的運算\n",
    "tempY = m*X + c\n",
    "tempY[0:5]"
   ]
  },
  {
   "cell_type": "code",
   "execution_count": 6,
   "metadata": {
    "executionInfo": {
     "elapsed": 8,
     "status": "aborted",
     "timestamp": 1638521428910,
     "user": {
      "displayName": "Chao-Lin Liu_劉昭麟",
      "photoUrl": "https://lh3.googleusercontent.com/a-/AOh14GjaQDcVx0bvPqaEx_8WUFaIPswUZjxK7wUwecFfFA=s64",
      "userId": "17631593861648490450"
     },
     "user_tz": -480
    },
    "id": "O9hgyOrXfECH"
   },
   "outputs": [
    {
     "data": {
      "text/plain": [
       "0     6.539841\n",
       "1    -0.767718\n",
       "2     5.513282\n",
       "3    14.776354\n",
       "4     7.383281\n",
       "Name: Y2, dtype: float64"
      ]
     },
     "execution_count": 6,
     "metadata": {},
     "output_type": "execute_result"
    }
   ],
   "source": [
    "Y[0:5]"
   ]
  },
  {
   "cell_type": "code",
   "execution_count": 7,
   "metadata": {
    "executionInfo": {
     "elapsed": 8,
     "status": "aborted",
     "timestamp": 1638521428910,
     "user": {
      "displayName": "Chao-Lin Liu_劉昭麟",
      "photoUrl": "https://lh3.googleusercontent.com/a-/AOh14GjaQDcVx0bvPqaEx_8WUFaIPswUZjxK7wUwecFfFA=s64",
      "userId": "17631593861648490450"
     },
     "user_tz": -480
    },
    "id": "n-dkzwglfECI"
   },
   "outputs": [
    {
     "data": {
      "text/plain": [
       "0    -51.956189\n",
       "1     85.925232\n",
       "2    -72.318758\n",
       "3   -219.632507\n",
       "4    -64.698746\n",
       "dtype: float64"
      ]
     },
     "execution_count": 7,
     "metadata": {},
     "output_type": "execute_result"
    }
   ],
   "source": [
    "delta = Y - tempY\n",
    "delta[0:5]"
   ]
  },
  {
   "cell_type": "code",
   "execution_count": 8,
   "metadata": {
    "executionInfo": {
     "elapsed": 8,
     "status": "aborted",
     "timestamp": 1638521428911,
     "user": {
      "displayName": "Chao-Lin Liu_劉昭麟",
      "photoUrl": "https://lh3.googleusercontent.com/a-/AOh14GjaQDcVx0bvPqaEx_8WUFaIPswUZjxK7wUwecFfFA=s64",
      "userId": "17631593861648490450"
     },
     "user_tz": -480
    },
    "id": "HkDTLItpfECI"
   },
   "outputs": [
    {
     "data": {
      "text/plain": [
       "pandas.core.series.Series"
      ]
     },
     "execution_count": 8,
     "metadata": {},
     "output_type": "execute_result"
    }
   ],
   "source": [
    "type(delta)"
   ]
  },
  {
   "cell_type": "code",
   "execution_count": 9,
   "metadata": {
    "executionInfo": {
     "elapsed": 8,
     "status": "aborted",
     "timestamp": 1638521428911,
     "user": {
      "displayName": "Chao-Lin Liu_劉昭麟",
      "photoUrl": "https://lh3.googleusercontent.com/a-/AOh14GjaQDcVx0bvPqaEx_8WUFaIPswUZjxK7wUwecFfFA=s64",
      "userId": "17631593861648490450"
     },
     "user_tz": -480
    },
    "id": "fSkUEVhKfECJ"
   },
   "outputs": [],
   "source": [
    "# 一般的 Python list 沒有這樣便利\n",
    "list1 = [1, 2, 3, 4]\n",
    "list2 = [2, 4, 6, 8]\n",
    "# list1 * list2  # 錯誤指令"
   ]
  },
  {
   "cell_type": "code",
   "execution_count": 10,
   "metadata": {
    "executionInfo": {
     "elapsed": 9,
     "status": "aborted",
     "timestamp": 1638521428912,
     "user": {
      "displayName": "Chao-Lin Liu_劉昭麟",
      "photoUrl": "https://lh3.googleusercontent.com/a-/AOh14GjaQDcVx0bvPqaEx_8WUFaIPswUZjxK7wUwecFfFA=s64",
      "userId": "17631593861648490450"
     },
     "user_tz": -480
    },
    "id": "nEi-OUM7fECJ"
   },
   "outputs": [
    {
     "data": {
      "text/plain": [
       "pandas.core.series.Series"
      ]
     },
     "execution_count": 10,
     "metadata": {},
     "output_type": "execute_result"
    }
   ],
   "source": [
    "series1 = pd.Series(list1)\n",
    "series2 = pd.Series(list2)\n",
    "type(series1)"
   ]
  },
  {
   "cell_type": "code",
   "execution_count": 11,
   "metadata": {
    "executionInfo": {
     "elapsed": 9,
     "status": "aborted",
     "timestamp": 1638521428912,
     "user": {
      "displayName": "Chao-Lin Liu_劉昭麟",
      "photoUrl": "https://lh3.googleusercontent.com/a-/AOh14GjaQDcVx0bvPqaEx_8WUFaIPswUZjxK7wUwecFfFA=s64",
      "userId": "17631593861648490450"
     },
     "user_tz": -480
    },
    "id": "VyHnbO4RfECJ"
   },
   "outputs": [
    {
     "name": "stdout",
     "output_type": "stream",
     "text": [
      "the inner product\n",
      "0     2\n",
      "1     8\n",
      "2    18\n",
      "3    32\n",
      "dtype: int64\n",
      "the sum\n",
      "60\n"
     ]
    }
   ],
   "source": [
    "print(\"the inner product\")\n",
    "print(series1*series2)\n",
    "print(\"the sum\")\n",
    "print(sum(series1*series2))"
   ]
  },
  {
   "cell_type": "code",
   "execution_count": 12,
   "metadata": {
    "executionInfo": {
     "elapsed": 9,
     "status": "aborted",
     "timestamp": 1638521428912,
     "user": {
      "displayName": "Chao-Lin Liu_劉昭麟",
      "photoUrl": "https://lh3.googleusercontent.com/a-/AOh14GjaQDcVx0bvPqaEx_8WUFaIPswUZjxK7wUwecFfFA=s64",
      "userId": "17631593861648490450"
     },
     "user_tz": -480
    },
    "id": "y8EBEN8XfECK"
   },
   "outputs": [
    {
     "name": "stdout",
     "output_type": "stream",
     "text": [
      "0.32686817011449676 -1.413367356677884\n"
     ]
    }
   ],
   "source": [
    "# Building the model\n",
    "\n",
    "L = 0.001  # The learning Rate\n",
    "epochs = 500  # The number of iterations to perform gradient descent\n",
    "\n",
    "n = float(len(X)) # Number of elements in X\n",
    "\n",
    "for i in range(epochs): \n",
    "    Y_pred = m*X + c  # The current predicted value of Y\n",
    "    D_m = (-2/n) * sum(X * (Y - Y_pred))  # 相當於做 X_1 的微分，但是這裡依賴數據的誤差資訊\n",
    "    D_c = (-2/n) * sum(Y - Y_pred)  # 相當於做 X_0 的微分，但是這裡依賴數據的誤差資訊；X_0=1所以不必乘\n",
    "    m = m - L * D_m  # Update m\n",
    "    c = c - L * D_c  # Update c\n",
    "    Y_pred = m*X + c\n",
    "\n",
    "print (m, c)"
   ]
  },
  {
   "cell_type": "code",
   "execution_count": 13,
   "metadata": {
    "executionInfo": {
     "elapsed": 10,
     "status": "aborted",
     "timestamp": 1638521428913,
     "user": {
      "displayName": "Chao-Lin Liu_劉昭麟",
      "photoUrl": "https://lh3.googleusercontent.com/a-/AOh14GjaQDcVx0bvPqaEx_8WUFaIPswUZjxK7wUwecFfFA=s64",
      "userId": "17631593861648490450"
     },
     "user_tz": -480
    },
    "id": "3ihtt5kvfECK"
   },
   "outputs": [
    {
     "data": {
      "image/png": "[encoded data removed]",
      "text/plain": [
       "<Figure size 864x648 with 1 Axes>"
      ]
     },
     "metadata": {},
     "output_type": "display_data"
    }
   ],
   "source": [
    "# Making predictions\n",
    "Y_pred = m*X + c\n",
    "\n",
    "plt.scatter(X, Y)\n",
    "plt.plot([min(X), max(X)], [min(Y_pred), max(Y_pred)], color='red') # predicted\n",
    "plt.show()"
   ]
  },
  {
   "cell_type": "code",
   "execution_count": 14,
   "metadata": {
    "executionInfo": {
     "elapsed": 10,
     "status": "aborted",
     "timestamp": 1638521428913,
     "user": {
      "displayName": "Chao-Lin Liu_劉昭麟",
      "photoUrl": "https://lh3.googleusercontent.com/a-/AOh14GjaQDcVx0bvPqaEx_8WUFaIPswUZjxK7wUwecFfFA=s64",
      "userId": "17631593861648490450"
     },
     "user_tz": -480
    },
    "id": "PCVurudlfECK"
   },
   "outputs": [
    {
     "data": {
      "text/plain": [
       "(array([0.20667775]), 3.9003893570672643)"
      ]
     },
     "execution_count": 14,
     "metadata": {},
     "output_type": "execute_result"
    }
   ],
   "source": [
    "import matplotlib.pyplot as plt\n",
    "from sklearn import datasets, linear_model\n",
    "from sklearn.metrics import mean_squared_error, r2_score\n",
    "import pandas as pd\n",
    "import numpy as np\n",
    "\n",
    "\n",
    "model = linear_model.LinearRegression()\n",
    "model.fit(X.values.reshape(-1,1),Y.values)\n",
    "model.coef_, model.intercept_"
   ]
  },
  {
   "cell_type": "code",
   "execution_count": null,
   "metadata": {},
   "outputs": [],
   "source": []
  }
 ],
 "metadata": {
  "colab": {
   "name": "Linear Regression using Gradient Descent.ipynb",
   "provenance": []
  },
  "kernelspec": {
   "display_name": "Python 3",
   "language": "python",
   "name": "python3"
  },
  "language_info": {
   "codemirror_mode": {
    "name": "ipython",
    "version": 3
   },
   "file_extension": ".py",
   "mimetype": "text/x-python",
   "name": "python",
   "nbconvert_exporter": "python",
   "pygments_lexer": "ipython3",
   "version": "3.6.9"
  }
 },
 "nbformat": 4,
 "nbformat_minor": 1
}
