{
 "cells": [
  {
   "cell_type": "markdown",
   "metadata": {},
   "source": [
    "## Introduction to Machine Learning @ NCCU.CS.EDU.TW\n",
    "#### a simple demonstration for univariate linear regression with scikit learn\n",
    "##### 參考資料網址：https://scikit-learn.org/stable/modules/generated/sklearn.linear_model.LinearRegression.html\n",
    "##### 參考資料網址：https://scikit-learn.org/stable/auto_examples/linear_model/plot_ols.html\n",
    "##### Prepared by Chao-Lin Liu"
   ]
  },
  {
   "cell_type": "markdown",
   "metadata": {},
   "source": [
    "$$\n",
    "w = \\begin{bmatrix}w_{0}\\ \\ w_{1}\\end{bmatrix} \n",
    "$$\n",
    "$$\n",
    "a = \\begin{bmatrix} a_0 \\\\ a_1\\end{bmatrix}, \\ a_0=1 $$\n",
    "$$ x=wa \\Rightarrow x=\\begin{bmatrix} w_{0}\\ \\ w_{1}\\end{bmatrix}\\begin{bmatrix} a_0 \\\\ a_1\\end{bmatrix} = w_{0}a_0+w_{1}a_1$$"
   ]
  },
  {
   "cell_type": "code",
   "execution_count": null,
   "metadata": {},
   "outputs": [],
   "source": [
    "### 載入一些工具\n",
    "import matplotlib.pyplot as plt\n",
    "from sklearn import datasets, linear_model\n",
    "from sklearn.metrics import mean_squared_error, r2_score\n",
    "import pandas as pd\n",
    "import numpy as np\n"
   ]
  },
  {
   "cell_type": "code",
   "execution_count": null,
   "metadata": {},
   "outputs": [],
   "source": [
    "### 讀入數據檔案\n",
    "df = pd.read_csv(\"linear.regression.csv\")"
   ]
  },
  {
   "cell_type": "markdown",
   "metadata": {},
   "source": [
    "##### 以上式子是 DM4 的形式；以下的符號有一些改變\n",
    "##### 以下的 Y 是上面的 x\n",
    "##### 以下的 X 是上面的 a"
   ]
  },
  {
   "cell_type": "code",
   "execution_count": null,
   "metadata": {},
   "outputs": [],
   "source": [
    "### 選取檔案所需數據\n",
    "#lr_X = df['X'].values\n",
    "#lr_XX = np.asarray([[i] for i in lr_X])\n",
    "#lr_yy = df['Y'].values\n",
    "#lr_XX = df.iloc[:,0:1].values\n",
    "#lr_yy = df.iloc[:,1:2].valuesfeatures = ['X']\n",
    "features = ['X']\n",
    "targets = ['Y2']\n",
    "lr_XX = df[features].to_numpy()\n",
    "lr_yy = df[targets].to_numpy()"
   ]
  },
  {
   "cell_type": "code",
   "execution_count": null,
   "metadata": {},
   "outputs": [],
   "source": [
    "### 設定訓練資料與測試資料\n",
    "### 這樣的切割方式是很不好的示範：將來會再說明\n",
    "lr_XX_train = lr_XX[:-20]\n",
    "lr_XX_test  = lr_XX[-20:]\n",
    "lr_yy_train = lr_yy[:-20]\n",
    "lr_yy_test  = lr_yy[-20:]"
   ]
  },
  {
   "cell_type": "code",
   "execution_count": null,
   "metadata": {},
   "outputs": [],
   "source": [
    "### 進行機器學習\n",
    "# Create linear regression object\n",
    "regr = linear_model.LinearRegression()\n",
    "\n",
    "# Train the model using the training sets\n",
    "regr.fit(lr_XX_train, lr_yy_train)\n",
    "\n",
    "# Make predictions using the testing set\n",
    "lr_yy_pred = regr.predict(lr_XX_test)\n",
    "\n",
    "# The coefficients\n",
    "print('Coefficients: \\n', regr.coef_)\n",
    "\n",
    "# intercept\n",
    "print('Intercept: \\n', regr.intercept_)"
   ]
  },
  {
   "cell_type": "code",
   "execution_count": null,
   "metadata": {},
   "outputs": [],
   "source": [
    "# The mean squared error\n",
    "print(\"Mean squared error: %.2f\"\n",
    "      % mean_squared_error(lr_yy_test, lr_yy_pred))\n",
    "# Explained variance score: 1 is perfect prediction\n",
    "print('Variance score: %.2f' % r2_score(lr_yy_test, lr_yy_pred))\n",
    "\n",
    "# Plot outputs\n",
    "plt.scatter(lr_XX_test, lr_yy_test,  color='black')\n",
    "plt.plot(lr_XX_test, lr_yy_pred, color='blue', linewidth=3)\n",
    "\n",
    "plt.xticks(())\n",
    "plt.yticks(())\n",
    "\n",
    "plt.show()"
   ]
  }
 ],
 "metadata": {
  "kernelspec": {
   "display_name": "Python 3",
   "language": "python",
   "name": "python3"
  },
  "language_info": {
   "codemirror_mode": {
    "name": "ipython",
    "version": 3
   },
   "file_extension": ".py",
   "mimetype": "text/x-python",
   "name": "python",
   "nbconvert_exporter": "python",
   "pygments_lexer": "ipython3",
   "version": "3.7.11"
  }
 },
 "nbformat": 4,
 "nbformat_minor": 2
}
