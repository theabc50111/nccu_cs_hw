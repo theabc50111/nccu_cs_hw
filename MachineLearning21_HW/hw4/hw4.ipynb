{
 "cells": [
  {
   "cell_type": "code",
   "execution_count": 2,
   "metadata": {},
   "outputs": [],
   "source": [
    "%matplotlib inline\n",
    "import matplotlib.pyplot as plt\n",
    "from sklearn import datasets, linear_model\n",
    "from sklearn.metrics import mean_squared_error, r2_score\n",
    "import pandas as pd\n",
    "import numpy as np"
   ]
  },
  {
   "cell_type": "code",
   "execution_count": 4,
   "metadata": {},
   "outputs": [],
   "source": [
    "df = pd.read_csv(\"multivariables43.csv\")"
   ]
  },
  {
   "cell_type": "code",
   "execution_count": 5,
   "metadata": {},
   "outputs": [
    {
     "data": {
      "text/html": [
       "<div>\n",
       "<style scoped>\n",
       "    .dataframe tbody tr th:only-of-type {\n",
       "        vertical-align: middle;\n",
       "    }\n",
       "\n",
       "    .dataframe tbody tr th {\n",
       "        vertical-align: top;\n",
       "    }\n",
       "\n",
       "    .dataframe thead th {\n",
       "        text-align: right;\n",
       "    }\n",
       "</style>\n",
       "<table border=\"1\" class=\"dataframe\">\n",
       "  <thead>\n",
       "    <tr style=\"text-align: right;\">\n",
       "      <th></th>\n",
       "      <th>x1</th>\n",
       "      <th>x2</th>\n",
       "      <th>x3</th>\n",
       "      <th>y1</th>\n",
       "      <th>y2</th>\n",
       "      <th>y3</th>\n",
       "      <th>y4</th>\n",
       "    </tr>\n",
       "  </thead>\n",
       "  <tbody>\n",
       "    <tr>\n",
       "      <th>0</th>\n",
       "      <td>-3.347854</td>\n",
       "      <td>0.637225</td>\n",
       "      <td>0.993636</td>\n",
       "      <td>-10.259299</td>\n",
       "      <td>15.757963</td>\n",
       "      <td>-11.531241</td>\n",
       "      <td>6.091132</td>\n",
       "    </tr>\n",
       "    <tr>\n",
       "      <th>1</th>\n",
       "      <td>-2.294942</td>\n",
       "      <td>-3.835492</td>\n",
       "      <td>1.310528</td>\n",
       "      <td>-10.533311</td>\n",
       "      <td>11.038025</td>\n",
       "      <td>10.425651</td>\n",
       "      <td>-1.378098</td>\n",
       "    </tr>\n",
       "    <tr>\n",
       "      <th>2</th>\n",
       "      <td>-3.196662</td>\n",
       "      <td>-2.017505</td>\n",
       "      <td>-0.086308</td>\n",
       "      <td>-15.131171</td>\n",
       "      <td>15.582931</td>\n",
       "      <td>-0.960921</td>\n",
       "      <td>1.914634</td>\n",
       "    </tr>\n",
       "    <tr>\n",
       "      <th>3</th>\n",
       "      <td>4.980073</td>\n",
       "      <td>-0.347092</td>\n",
       "      <td>-2.012394</td>\n",
       "      <td>23.598952</td>\n",
       "      <td>-22.271864</td>\n",
       "      <td>2.678937</td>\n",
       "      <td>-3.557890</td>\n",
       "    </tr>\n",
       "    <tr>\n",
       "      <th>4</th>\n",
       "      <td>-3.437117</td>\n",
       "      <td>-1.515536</td>\n",
       "      <td>2.608372</td>\n",
       "      <td>-10.563096</td>\n",
       "      <td>15.815291</td>\n",
       "      <td>-0.020831</td>\n",
       "      <td>3.266095</td>\n",
       "    </tr>\n",
       "  </tbody>\n",
       "</table>\n",
       "</div>"
      ],
      "text/plain": [
       "         x1        x2        x3         y1         y2         y3        y4\n",
       "0 -3.347854  0.637225  0.993636 -10.259299  15.757963 -11.531241  6.091132\n",
       "1 -2.294942 -3.835492  1.310528 -10.533311  11.038025  10.425651 -1.378098\n",
       "2 -3.196662 -2.017505 -0.086308 -15.131171  15.582931  -0.960921  1.914634\n",
       "3  4.980073 -0.347092 -2.012394  23.598952 -22.271864   2.678937 -3.557890\n",
       "4 -3.437117 -1.515536  2.608372 -10.563096  15.815291  -0.020831  3.266095"
      ]
     },
     "execution_count": 5,
     "metadata": {},
     "output_type": "execute_result"
    }
   ],
   "source": [
    "df[0:5]"
   ]
  },
  {
   "cell_type": "code",
   "execution_count": 7,
   "metadata": {},
   "outputs": [
    {
     "data": {
      "text/plain": [
       "array([[-3.34785374,  0.63722465,  0.99363567],\n",
       "       [-2.29494241, -3.83549233,  1.3105279 ],\n",
       "       [-3.19666176, -2.01750513, -0.0863079 ],\n",
       "       [ 4.98007281, -0.34709164, -2.01239398],\n",
       "       [-3.43711728, -1.51553564,  2.60837192]])"
      ]
     },
     "execution_count": 7,
     "metadata": {},
     "output_type": "execute_result"
    }
   ],
   "source": [
    "features = ['x1','x2','x3']\n",
    "lr_XX = df[features].to_numpy()\n",
    "lr_XX[0:5]"
   ]
  },
  {
   "cell_type": "code",
   "execution_count": 9,
   "metadata": {},
   "outputs": [
    {
     "data": {
      "text/plain": [
       "array([[-1.02592993e+01,  1.57579633e+01, -1.15312415e+01,\n",
       "         6.09113153e+00],\n",
       "       [-1.05333112e+01,  1.10380254e+01,  1.04256506e+01,\n",
       "        -1.37809814e+00],\n",
       "       [-1.51311705e+01,  1.55829309e+01, -9.60921427e-01,\n",
       "         1.91463413e+00],\n",
       "       [ 2.35989516e+01, -2.22718639e+01,  2.67893708e+00,\n",
       "        -3.55789008e+00],\n",
       "       [-1.05630957e+01,  1.58152909e+01, -2.08307620e-02,\n",
       "         3.26609520e+00]])"
      ]
     },
     "execution_count": 9,
     "metadata": {},
     "output_type": "execute_result"
    }
   ],
   "source": [
    "targets = ['y1','y2','y3','y4']\n",
    "lr_yy = df[targets].to_numpy()\n",
    "lr_yy[0:5]"
   ]
  },
  {
   "cell_type": "code",
   "execution_count": 10,
   "metadata": {},
   "outputs": [],
   "source": [
    "lr_XX_train = lr_XX[:-20]\n",
    "lr_XX_test  = lr_XX[-20:]\n",
    "lr_yy_train = lr_yy[:-20]\n",
    "lr_yy_test  = lr_yy[-20:]"
   ]
  },
  {
   "cell_type": "code",
   "execution_count": 11,
   "metadata": {},
   "outputs": [
    {
     "name": "stdout",
     "output_type": "stream",
     "text": [
      "Coefficients: \n",
      " [[ 4.90423496  1.34906377  1.88153572]\n",
      " [-4.69012254 -0.07141709 -0.31898284]\n",
      " [ 1.66027645 -4.42462051  1.32124705]\n",
      " [-0.93323695  1.46061848  0.14616697]]\n",
      "Intercept: \n",
      " [ 3.43014434  0.41858045 -4.46623968  1.89081189]\n",
      "Mean squared error: 0.00\n",
      "Variance score: 1.00\n"
     ]
    }
   ],
   "source": [
    "# Create linear regression object\n",
    "regr = linear_model.LinearRegression()\n",
    "\n",
    "# Train the model using the training sets\n",
    "regr.fit(lr_XX_train, lr_yy_train)\n",
    "\n",
    "# Make predictions using the testing set\n",
    "lr_yy_pred = regr.predict(lr_XX_test)\n",
    "\n",
    "# The coefficients\n",
    "print('Coefficients: \\n', regr.coef_)\n",
    "\n",
    "# intercept\n",
    "print('Intercept: \\n', regr.intercept_)\n",
    "\n",
    "# The mean squared error\n",
    "print(\"Mean squared error: %.2f\"\n",
    "      % mean_squared_error(lr_yy_test, lr_yy_pred))\n",
    "# Explained variance score: 1 is perfect prediction\n",
    "print('Variance score: %.2f' % r2_score(lr_yy_test, lr_yy_pred))\n",
    "\n",
    "# Plot outputs\n",
    "#plt.scatter(lr_XX_test, lr_yy_test,  color='black')\n",
    "#plt.plot(lr_XX_test, lr_yy_pred, color='blue', linewidth=3)\n",
    "\n",
    "#plt.xticks(())\n",
    "#plt.yticks(())\n",
    "\n",
    "#plt.show()"
   ]
  },
  {
   "cell_type": "code",
   "execution_count": 13,
   "metadata": {},
   "outputs": [
    {
     "name": "stdout",
     "output_type": "stream",
     "text": [
      "Coefficients: \n",
      " [0.82258065]\n",
      "Intercept: \n",
      " 0.17580645161290365\n"
     ]
    }
   ],
   "source": [
    "x = np.array([[0.9], [1.1], [2.1]])\n",
    "y = np.array([0.9, 1.1, 1.9])\n",
    "regr = linear_model.LinearRegression()\n",
    "\n",
    "# Train the model using the training sets\n",
    "regr.fit(x, y)\n",
    "\n",
    "# The coefficients\n",
    "print('Coefficients: \\n', regr.coef_)\n",
    "\n",
    "# intercept\n",
    "print('Intercept: \\n', regr.intercept_)\n"
   ]
  },
  {
   "cell_type": "code",
   "execution_count": 17,
   "metadata": {},
   "outputs": [
    {
     "data": {
      "text/plain": [
       "2.0"
      ]
     },
     "execution_count": 17,
     "metadata": {},
     "output_type": "execute_result"
    }
   ],
   "source": [
    "from math import log2\n",
    "\n",
    "-1*4*((1/4)*log2(1/4))"
   ]
  },
  {
   "cell_type": "code",
   "execution_count": 18,
   "metadata": {},
   "outputs": [
    {
     "data": {
      "text/plain": [
       "1.8464393446710154"
      ]
     },
     "execution_count": 18,
     "metadata": {},
     "output_type": "execute_result"
    }
   ],
   "source": [
    "-1*((1/10)*log2(1/10) + (2/10)*log2(2/10) + (3/10)*log2(3/10) + (4/10)*log2(4/10))"
   ]
  },
  {
   "cell_type": "code",
   "execution_count": 19,
   "metadata": {},
   "outputs": [
    {
     "data": {
      "text/plain": [
       "1.0"
      ]
     },
     "execution_count": 19,
     "metadata": {},
     "output_type": "execute_result"
    }
   ],
   "source": [
    "-1*((1/2)*log2(1/2) + (1/2)*log2(1/2) )"
   ]
  },
  {
   "cell_type": "code",
   "execution_count": 20,
   "metadata": {},
   "outputs": [
    {
     "data": {
      "text/plain": [
       "1.3787834934861753"
      ]
     },
     "execution_count": 20,
     "metadata": {},
     "output_type": "execute_result"
    }
   ],
   "source": [
    "-1*((2/14)*log2(2/14) + (4/14)*log2(4/14) + (8/14)*log2(8/14) )"
   ]
  },
  {
   "cell_type": "code",
   "execution_count": 22,
   "metadata": {},
   "outputs": [
    {
     "data": {
      "text/plain": [
       "0.9852281360342515"
      ]
     },
     "execution_count": 22,
     "metadata": {},
     "output_type": "execute_result"
    }
   ],
   "source": [
    "-1*( (6/14)*log2(6/14) + (8/14)*log2(8/14) )"
   ]
  },
  {
   "cell_type": "code",
   "execution_count": null,
   "metadata": {},
   "outputs": [],
   "source": []
  }
 ],
 "metadata": {
  "kernelspec": {
   "display_name": "Python 3",
   "language": "python",
   "name": "python3"
  },
  "language_info": {
   "codemirror_mode": {
    "name": "ipython",
    "version": 3
   },
   "file_extension": ".py",
   "mimetype": "text/x-python",
   "name": "python",
   "nbconvert_exporter": "python",
   "pygments_lexer": "ipython3",
   "version": "3.6.9"
  }
 },
 "nbformat": 4,
 "nbformat_minor": 1
}
