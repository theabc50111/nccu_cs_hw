{
 "cells": [
  {
   "cell_type": "markdown",
   "metadata": {},
   "source": [
    "#### Introduction to Machine Learning\n",
    "#### 國立政治大學資訊科學系劉昭麟\n",
    "\n",
    "$$\n",
    "x = \\begin{bmatrix} x_1 \\\\ x_2 \\end{bmatrix} $$\n",
    "$$\n",
    "w = \\begin{bmatrix} w_{10}\\ \\ w_{11}\\ \\ w_{12} \\\\  w_{20}\\ \\ w_{21}\\ \\ w_{22} \\end{bmatrix} \n",
    "$$\n",
    "$$\n",
    "a = \\begin{bmatrix} a_0 \\\\ a_1 \\\\ a_2\\end{bmatrix}, \\ a_0=1 $$\n",
    "$$ x=wa \\Rightarrow \\begin{bmatrix} x_1 \\\\ x_2 \\end{bmatrix}=\\begin{bmatrix} w_{10}\\ \\ w_{11}\\ \\ w_{12} \\\\  w_{20}\\ \\ w_{21}\\ \\ w_{22} \\end{bmatrix}\\begin{bmatrix} a_0 \\\\ a_1 \\\\ a_2\\end{bmatrix} = \\begin{bmatrix} w_{10}a_0+w_{11}a_1+w_{12}a_2 \\\\  w_{20}a_0+w_{21}a_1+w_{22}a_2 \\end{bmatrix}$$"
   ]
  },
  {
   "cell_type": "code",
   "execution_count": 1,
   "metadata": {},
   "outputs": [],
   "source": [
    "%matplotlib inline\n",
    "import matplotlib.pyplot as plt\n",
    "from sklearn import datasets, linear_model\n",
    "from sklearn.metrics import mean_squared_error, r2_score\n",
    "import pandas as pd\n",
    "import numpy as np"
   ]
  },
  {
   "cell_type": "markdown",
   "metadata": {},
   "source": [
    "##### 以上式子是 DM4 的形式；以下的符號有一些改變\n",
    "##### 以下的 Y 是上面的 x\n",
    "##### 以下的 X 是上面的 a"
   ]
  },
  {
   "cell_type": "code",
   "execution_count": 2,
   "metadata": {},
   "outputs": [],
   "source": [
    "df = pd.read_csv(\"multivariates2.csv\")"
   ]
  },
  {
   "cell_type": "code",
   "execution_count": 3,
   "metadata": {},
   "outputs": [
    {
     "data": {
      "text/html": [
       "<div>\n",
       "<style scoped>\n",
       "    .dataframe tbody tr th:only-of-type {\n",
       "        vertical-align: middle;\n",
       "    }\n",
       "\n",
       "    .dataframe tbody tr th {\n",
       "        vertical-align: top;\n",
       "    }\n",
       "\n",
       "    .dataframe thead th {\n",
       "        text-align: right;\n",
       "    }\n",
       "</style>\n",
       "<table border=\"1\" class=\"dataframe\">\n",
       "  <thead>\n",
       "    <tr style=\"text-align: right;\">\n",
       "      <th></th>\n",
       "      <th>X1</th>\n",
       "      <th>X2</th>\n",
       "      <th>Y1</th>\n",
       "      <th>Y2</th>\n",
       "    </tr>\n",
       "  </thead>\n",
       "  <tbody>\n",
       "    <tr>\n",
       "      <th>0</th>\n",
       "      <td>4.575751</td>\n",
       "      <td>5.554888</td>\n",
       "      <td>3.032127</td>\n",
       "      <td>4.562959</td>\n",
       "    </tr>\n",
       "    <tr>\n",
       "      <th>1</th>\n",
       "      <td>-4.976465</td>\n",
       "      <td>-5.130944</td>\n",
       "      <td>1.621339</td>\n",
       "      <td>3.877591</td>\n",
       "    </tr>\n",
       "    <tr>\n",
       "      <th>2</th>\n",
       "      <td>1.112631</td>\n",
       "      <td>-1.671880</td>\n",
       "      <td>4.076308</td>\n",
       "      <td>4.613840</td>\n",
       "    </tr>\n",
       "    <tr>\n",
       "      <th>3</th>\n",
       "      <td>0.429415</td>\n",
       "      <td>8.870211</td>\n",
       "      <td>0.858427</td>\n",
       "      <td>0.283946</td>\n",
       "    </tr>\n",
       "    <tr>\n",
       "      <th>4</th>\n",
       "      <td>-4.759230</td>\n",
       "      <td>7.055329</td>\n",
       "      <td>-0.780824</td>\n",
       "      <td>-4.170175</td>\n",
       "    </tr>\n",
       "  </tbody>\n",
       "</table>\n",
       "</div>"
      ],
      "text/plain": [
       "         X1        X2        Y1        Y2\n",
       "0  4.575751  5.554888  3.032127  4.562959\n",
       "1 -4.976465 -5.130944  1.621339  3.877591\n",
       "2  1.112631 -1.671880  4.076308  4.613840\n",
       "3  0.429415  8.870211  0.858427  0.283946\n",
       "4 -4.759230  7.055329 -0.780824 -4.170175"
      ]
     },
     "execution_count": 3,
     "metadata": {},
     "output_type": "execute_result"
    }
   ],
   "source": [
    "df[0:5]"
   ]
  },
  {
   "cell_type": "code",
   "execution_count": 4,
   "metadata": {},
   "outputs": [
    {
     "data": {
      "text/plain": [
       "array([[ 4.57575082,  5.55488768],\n",
       "       [-4.97646529, -5.13094402],\n",
       "       [ 1.11263147, -1.67187952],\n",
       "       [ 0.4294147 ,  8.87021061],\n",
       "       [-4.7592295 ,  7.05532927]])"
      ]
     },
     "execution_count": 4,
     "metadata": {},
     "output_type": "execute_result"
    }
   ],
   "source": [
    "#lr_XX = np.asarray([[i,j] for i, j in zip(df['X1'].values, df['X2'].values)])\n",
    "features = ['X1','X2']\n",
    "lr_XX = df[features].to_numpy()\n",
    "lr_XX[0:5]"
   ]
  },
  {
   "cell_type": "code",
   "execution_count": 5,
   "metadata": {},
   "outputs": [
    {
     "data": {
      "text/plain": [
       "array([[ 3.03212748,  4.56295925],\n",
       "       [ 1.62133912,  3.87759121],\n",
       "       [ 4.07630808,  4.6138401 ],\n",
       "       [ 0.85842716,  0.28394586],\n",
       "       [-0.78082446, -4.17017508]])"
      ]
     },
     "execution_count": 5,
     "metadata": {},
     "output_type": "execute_result"
    }
   ],
   "source": [
    "#lr_yy = df['Y'].values\n",
    "#lr_yy = np.asarray([[i,j] for i, j in zip(df['Y1'].values, df['Y2'].values)])\n",
    "targets = ['Y1', 'Y2']\n",
    "lr_yy = df[targets].to_numpy()\n",
    "lr_yy[0:5]"
   ]
  },
  {
   "cell_type": "code",
   "execution_count": 6,
   "metadata": {},
   "outputs": [],
   "source": [
    "lr_XX_train = lr_XX[:-20]\n",
    "lr_XX_test  = lr_XX[-20:]\n",
    "lr_yy_train = lr_yy[:-20]\n",
    "lr_yy_test  = lr_yy[-20:]"
   ]
  },
  {
   "cell_type": "code",
   "execution_count": 9,
   "metadata": {},
   "outputs": [
    {
     "name": "stdout",
     "output_type": "stream",
     "text": [
      "Coefficients: \n",
      " [[ 0.2903248  -0.20389607]\n",
      " [ 0.59615391 -0.48643619]]\n",
      "Intercept: \n",
      " [3.12544457 3.27786415]\n",
      "Mean squared error: 0.84\n",
      "Variance score: 0.88\n"
     ]
    }
   ],
   "source": [
    "# Create linear regression object\n",
    "regr = linear_model.LinearRegression()\n",
    "\n",
    "# Train the model using the training sets\n",
    "regr.fit(lr_XX_train, lr_yy_train)\n",
    "\n",
    "# Make predictions using the testing set\n",
    "lr_yy_pred = regr.predict(lr_XX_test)\n",
    "\n",
    "# The coefficients\n",
    "print('Coefficients: \\n', regr.coef_)\n",
    "\n",
    "# intercept\n",
    "print('Intercept: \\n', regr.intercept_)\n",
    "\n",
    "# The mean squared error\n",
    "print(\"Mean squared error: %.2f\"\n",
    "      % mean_squared_error(lr_yy_test, lr_yy_pred))\n",
    "# Explained variance score: 1 is perfect prediction\n",
    "print('Variance score: %.2f' % r2_score(lr_yy_test, lr_yy_pred))\n",
    "\n",
    "# Plot outputs\n",
    "#plt.scatter(lr_XX_test, lr_yy_test,  color='black')\n",
    "#plt.plot(lr_XX_test, lr_yy_pred, color='blue', linewidth=3)\n",
    "\n",
    "#plt.xticks(())\n",
    "#plt.yticks(())\n",
    "\n",
    "#plt.show()"
   ]
  },
  {
   "cell_type": "code",
   "execution_count": null,
   "metadata": {},
   "outputs": [],
   "source": []
  }
 ],
 "metadata": {
  "kernelspec": {
   "display_name": "Python 3",
   "language": "python",
   "name": "python3"
  },
  "language_info": {
   "codemirror_mode": {
    "name": "ipython",
    "version": 3
   },
   "file_extension": ".py",
   "mimetype": "text/x-python",
   "name": "python",
   "nbconvert_exporter": "python",
   "pygments_lexer": "ipython3",
   "version": "3.6.9"
  }
 },
 "nbformat": 4,
 "nbformat_minor": 1
}
