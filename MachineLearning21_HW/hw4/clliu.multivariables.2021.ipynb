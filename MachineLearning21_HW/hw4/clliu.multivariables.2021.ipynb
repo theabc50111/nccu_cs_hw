{
 "cells": [
  {
   "cell_type": "markdown",
   "metadata": {
    "id": "CnuUNybj4Isn"
   },
   "source": [
    "#### Introduction to Machine Learning\n",
    "#### 國立政治大學資訊科學系劉昭麟\n",
    "$$\n",
    "w = \\begin{bmatrix} w_{0}\\ \\ w_{1}\\ \\ w_{2}\\end{bmatrix} \n",
    "$$\n",
    "$$\n",
    "a = \\begin{bmatrix} a_0 \\\\ a_1 \\\\ a_2\\end{bmatrix}, \\ a_0=1 $$\n",
    "$$ x=wa \\Rightarrow x=\\begin{bmatrix} w_{0}\\ \\ w_{1}\\ \\ w_{2}\\end{bmatrix}\\begin{bmatrix} a_0 \\\\ a_1 \\\\ a_2\\end{bmatrix} = w_{0}a_0+w_{1}a_1+w_{2}a_2$$"
   ]
  },
  {
   "cell_type": "code",
   "execution_count": null,
   "metadata": {
    "executionInfo": {
     "elapsed": 624,
     "status": "ok",
     "timestamp": 1633679367602,
     "user": {
      "displayName": "Chao-Lin Liu_劉昭麟",
      "photoUrl": "https://lh3.googleusercontent.com/a-/AOh14GjaQDcVx0bvPqaEx_8WUFaIPswUZjxK7wUwecFfFA=s64",
      "userId": "17631593861648490450"
     },
     "user_tz": -480
    },
    "id": "3EgkOEC14Isq"
   },
   "outputs": [],
   "source": [
    "%matplotlib inline\n",
    "import matplotlib.pyplot as plt\n",
    "from sklearn import datasets, linear_model\n",
    "from sklearn.metrics import mean_squared_error, r2_score\n",
    "import pandas as pd\n",
    "import numpy as np"
   ]
  },
  {
   "cell_type": "markdown",
   "metadata": {
    "id": "s453jIYn4Isr"
   },
   "source": [
    "##### 以上式子是 DM4 的形式；以下的符號有一些改變\n",
    "##### 以下的 Y 是上面的 x\n",
    "##### 以下的 X 是上面的 a"
   ]
  },
  {
   "cell_type": "code",
   "execution_count": null,
   "metadata": {
    "colab": {
     "base_uri": "https://localhost:8080/",
     "height": 376
    },
    "executionInfo": {
     "elapsed": 440,
     "status": "error",
     "timestamp": 1633679370668,
     "user": {
      "displayName": "Chao-Lin Liu_劉昭麟",
      "photoUrl": "https://lh3.googleusercontent.com/a-/AOh14GjaQDcVx0bvPqaEx_8WUFaIPswUZjxK7wUwecFfFA=s64",
      "userId": "17631593861648490450"
     },
     "user_tz": -480
    },
    "id": "WDZvy6EV4Iss",
    "outputId": "16fd3c94-301c-4a83-83ae-873117d43847"
   },
   "outputs": [],
   "source": [
    "df = pd.read_csv(\"multivariate.csv\")"
   ]
  },
  {
   "cell_type": "code",
   "execution_count": null,
   "metadata": {
    "id": "OvW7k3dX4Iss",
    "outputId": "4ef85764-a06f-49a8-eafc-1d47a1ac2278"
   },
   "outputs": [],
   "source": [
    "df[0:5]"
   ]
  },
  {
   "cell_type": "code",
   "execution_count": null,
   "metadata": {
    "id": "F6rdsniR4Ist",
    "outputId": "3ba8aea3-887f-47c2-f6ca-b624dfdd8608"
   },
   "outputs": [],
   "source": [
    "#lr_XX = np.asarray([[i,j] for i, j in zip(df['X1'].values, df['X2'].values)])\n",
    "features = ['X1','X2']\n",
    "lr_XX = df[features].to_numpy()\n",
    "lr_XX[0:5]"
   ]
  },
  {
   "cell_type": "code",
   "execution_count": null,
   "metadata": {
    "id": "Icui8_914Isu",
    "outputId": "776fc19f-d20c-4a0f-c456-28ea5f777407"
   },
   "outputs": [],
   "source": [
    "#lr_yy = df['Y'].values\n",
    "targets = ['Y']\n",
    "lr_yy = df[targets].to_numpy()\n",
    "lr_yy[0:5]"
   ]
  },
  {
   "cell_type": "code",
   "execution_count": null,
   "metadata": {
    "id": "MLz2G99_4Isu"
   },
   "outputs": [],
   "source": [
    "lr_XX_train = lr_XX[:-20]\n",
    "lr_XX_test  = lr_XX[-20:]\n",
    "lr_yy_train = lr_yy[:-20]\n",
    "lr_yy_test  = lr_yy[-20:]"
   ]
  },
  {
   "cell_type": "code",
   "execution_count": null,
   "metadata": {
    "id": "8mWibf274Isv",
    "outputId": "ce31c448-f361-4a21-932a-82a476035e73"
   },
   "outputs": [],
   "source": [
    "# Create linear regression object\n",
    "regr = linear_model.LinearRegression()\n",
    "\n",
    "# Train the model using the training sets\n",
    "regr.fit(lr_XX_train, lr_yy_train)\n",
    "\n",
    "# Make predictions using the testing set\n",
    "lr_yy_pred = regr.predict(lr_XX_test)\n",
    "\n",
    "# The coefficients\n",
    "print('Coefficients: \\n', regr.coef_)\n",
    "\n",
    "# intercept\n",
    "print('Intercept: \\n', regr.intercept_)\n",
    "\n",
    "# The mean squared error\n",
    "print(\"Mean squared error: %.2f\"\n",
    "      % mean_squared_error(lr_yy_test, lr_yy_pred))\n",
    "# Explained variance score: 1 is perfect prediction\n",
    "print('Variance score: %.2f' % r2_score(lr_yy_test, lr_yy_pred))\n",
    "\n",
    "# Plot outputs\n",
    "#plt.scatter(lr_XX_test, lr_yy_test,  color='black')\n",
    "#plt.plot(lr_XX_test, lr_yy_pred, color='blue', linewidth=3)\n",
    "\n",
    "#plt.xticks(())\n",
    "#plt.yticks(())\n",
    "\n",
    "#plt.show()"
   ]
  }
 ],
 "metadata": {
  "colab": {
   "name": "clliu.multivariables.ipynb",
   "provenance": []
  },
  "kernelspec": {
   "display_name": "Python 3",
   "language": "python",
   "name": "python3"
  },
  "language_info": {
   "codemirror_mode": {
    "name": "ipython",
    "version": 3
   },
   "file_extension": ".py",
   "mimetype": "text/x-python",
   "name": "python",
   "nbconvert_exporter": "python",
   "pygments_lexer": "ipython3",
   "version": "3.7.11"
  }
 },
 "nbformat": 4,
 "nbformat_minor": 1
}
