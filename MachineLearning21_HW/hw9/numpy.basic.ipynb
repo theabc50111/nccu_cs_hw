{
 "cells": [
  {
   "cell_type": "markdown",
   "metadata": {
    "id": "h65pxn70VcVJ"
   },
   "source": [
    "### Introduction to Machine Learning @ NCCU.EDU.TW\n",
    "##### prepared by Chao-Lin Liu"
   ]
  },
  {
   "cell_type": "code",
   "execution_count": 1,
   "metadata": {
    "executionInfo": {
     "elapsed": 8,
     "status": "ok",
     "timestamp": 1639374557097,
     "user": {
      "displayName": "Chao-Lin Liu_劉昭麟",
      "photoUrl": "https://lh3.googleusercontent.com/a-/AOh14GjaQDcVx0bvPqaEx_8WUFaIPswUZjxK7wUwecFfFA=s64",
      "userId": "17631593861648490450"
     },
     "user_tz": -480
    },
    "id": "1xQ8CQOIVcVM"
   },
   "outputs": [],
   "source": [
    "list1 = [1, 2, 3]\n",
    "list2 = [2, 3, 4]"
   ]
  },
  {
   "cell_type": "code",
   "execution_count": 2,
   "metadata": {
    "colab": {
     "base_uri": "https://localhost:8080/",
     "height": 166
    },
    "executionInfo": {
     "elapsed": 465,
     "status": "error",
     "timestamp": 1639374560466,
     "user": {
      "displayName": "Chao-Lin Liu_劉昭麟",
      "photoUrl": "https://lh3.googleusercontent.com/a-/AOh14GjaQDcVx0bvPqaEx_8WUFaIPswUZjxK7wUwecFfFA=s64",
      "userId": "17631593861648490450"
     },
     "user_tz": -480
    },
    "id": "KxgGOIFVVcVO",
    "outputId": "5f4b1a09-71cd-4926-cda6-a5730ab996fc"
   },
   "outputs": [
    {
     "ename": "TypeError",
     "evalue": "unsupported operand type(s) for -: 'list' and 'list'",
     "output_type": "error",
     "traceback": [
      "\u001b[0;31m---------------------------------------------------------------------------\u001b[0m",
      "\u001b[0;31mTypeError\u001b[0m                                 Traceback (most recent call last)",
      "\u001b[0;32m<ipython-input-2-04c7669dc879>\u001b[0m in \u001b[0;36m<module>\u001b[0;34m\u001b[0m\n\u001b[0;32m----> 1\u001b[0;31m \u001b[0mlist3\u001b[0m \u001b[0;34m=\u001b[0m \u001b[0mlist1\u001b[0m\u001b[0;34m-\u001b[0m\u001b[0mlist2\u001b[0m\u001b[0;34m\u001b[0m\u001b[0;34m\u001b[0m\u001b[0m\n\u001b[0m",
      "\u001b[0;31mTypeError\u001b[0m: unsupported operand type(s) for -: 'list' and 'list'"
     ]
    }
   ],
   "source": [
    "list3 = list1-list2"
   ]
  },
  {
   "cell_type": "code",
   "execution_count": 3,
   "metadata": {
    "executionInfo": {
     "elapsed": 413,
     "status": "ok",
     "timestamp": 1639374584707,
     "user": {
      "displayName": "Chao-Lin Liu_劉昭麟",
      "photoUrl": "https://lh3.googleusercontent.com/a-/AOh14GjaQDcVx0bvPqaEx_8WUFaIPswUZjxK7wUwecFfFA=s64",
      "userId": "17631593861648490450"
     },
     "user_tz": -480
    },
    "id": "Gpxa7MwcVcVO"
   },
   "outputs": [],
   "source": [
    "import numpy as np"
   ]
  },
  {
   "cell_type": "code",
   "execution_count": 4,
   "metadata": {
    "executionInfo": {
     "elapsed": 418,
     "status": "ok",
     "timestamp": 1639374586490,
     "user": {
      "displayName": "Chao-Lin Liu_劉昭麟",
      "photoUrl": "https://lh3.googleusercontent.com/a-/AOh14GjaQDcVx0bvPqaEx_8WUFaIPswUZjxK7wUwecFfFA=s64",
      "userId": "17631593861648490450"
     },
     "user_tz": -480
    },
    "id": "ZCvz-Au9VcVO"
   },
   "outputs": [],
   "source": [
    "v1 = np.array([1, 2, 3])"
   ]
  },
  {
   "cell_type": "code",
   "execution_count": 5,
   "metadata": {
    "executionInfo": {
     "elapsed": 446,
     "status": "ok",
     "timestamp": 1639374597871,
     "user": {
      "displayName": "Chao-Lin Liu_劉昭麟",
      "photoUrl": "https://lh3.googleusercontent.com/a-/AOh14GjaQDcVx0bvPqaEx_8WUFaIPswUZjxK7wUwecFfFA=s64",
      "userId": "17631593861648490450"
     },
     "user_tz": -480
    },
    "id": "PHO1oJAqVcVP"
   },
   "outputs": [],
   "source": [
    "v2 = np.array([4,5,6])"
   ]
  },
  {
   "cell_type": "code",
   "execution_count": 7,
   "metadata": {
    "executionInfo": {
     "elapsed": 689,
     "status": "ok",
     "timestamp": 1639374613484,
     "user": {
      "displayName": "Chao-Lin Liu_劉昭麟",
      "photoUrl": "https://lh3.googleusercontent.com/a-/AOh14GjaQDcVx0bvPqaEx_8WUFaIPswUZjxK7wUwecFfFA=s64",
      "userId": "17631593861648490450"
     },
     "user_tz": -480
    },
    "id": "oV8Hlh0JVcVP"
   },
   "outputs": [],
   "source": [
    "v3 = v2 - v1"
   ]
  },
  {
   "cell_type": "code",
   "execution_count": 8,
   "metadata": {
    "colab": {
     "base_uri": "https://localhost:8080/"
    },
    "executionInfo": {
     "elapsed": 400,
     "status": "ok",
     "timestamp": 1639374621491,
     "user": {
      "displayName": "Chao-Lin Liu_劉昭麟",
      "photoUrl": "https://lh3.googleusercontent.com/a-/AOh14GjaQDcVx0bvPqaEx_8WUFaIPswUZjxK7wUwecFfFA=s64",
      "userId": "17631593861648490450"
     },
     "user_tz": -480
    },
    "id": "_eEyCEvNVcVQ",
    "outputId": "333b2d32-7c6b-4726-922d-0487dc4227ff"
   },
   "outputs": [
    {
     "name": "stdout",
     "output_type": "stream",
     "text": [
      "[3 3 3]\n"
     ]
    }
   ],
   "source": [
    "print (v3)"
   ]
  },
  {
   "cell_type": "code",
   "execution_count": 9,
   "metadata": {
    "colab": {
     "base_uri": "https://localhost:8080/"
    },
    "executionInfo": {
     "elapsed": 396,
     "status": "ok",
     "timestamp": 1639374664718,
     "user": {
      "displayName": "Chao-Lin Liu_劉昭麟",
      "photoUrl": "https://lh3.googleusercontent.com/a-/AOh14GjaQDcVx0bvPqaEx_8WUFaIPswUZjxK7wUwecFfFA=s64",
      "userId": "17631593861648490450"
     },
     "user_tz": -480
    },
    "id": "6fyAVDs7VcVQ",
    "outputId": "4a8de7e8-ab7a-4c4f-ae52-ed2bf57d3a85"
   },
   "outputs": [
    {
     "data": {
      "text/plain": [
       "array([ 4, 10, 18])"
      ]
     },
     "execution_count": 9,
     "metadata": {},
     "output_type": "execute_result"
    }
   ],
   "source": [
    "v1*v2"
   ]
  },
  {
   "cell_type": "code",
   "execution_count": 10,
   "metadata": {
    "executionInfo": {
     "elapsed": 435,
     "status": "ok",
     "timestamp": 1639374876562,
     "user": {
      "displayName": "Chao-Lin Liu_劉昭麟",
      "photoUrl": "https://lh3.googleusercontent.com/a-/AOh14GjaQDcVx0bvPqaEx_8WUFaIPswUZjxK7wUwecFfFA=s64",
      "userId": "17631593861648490450"
     },
     "user_tz": -480
    },
    "id": "XFzoYs-fVcVR"
   },
   "outputs": [],
   "source": [
    "def cool (v1, v2):\n",
    "    return v1*v2"
   ]
  },
  {
   "cell_type": "code",
   "execution_count": 11,
   "metadata": {
    "executionInfo": {
     "elapsed": 449,
     "status": "ok",
     "timestamp": 1639374879644,
     "user": {
      "displayName": "Chao-Lin Liu_劉昭麟",
      "photoUrl": "https://lh3.googleusercontent.com/a-/AOh14GjaQDcVx0bvPqaEx_8WUFaIPswUZjxK7wUwecFfFA=s64",
      "userId": "17631593861648490450"
     },
     "user_tz": -480
    },
    "id": "Kd0UVuP-VcVR"
   },
   "outputs": [],
   "source": [
    "v32 = cool(v1, v2)"
   ]
  },
  {
   "cell_type": "code",
   "execution_count": 12,
   "metadata": {
    "colab": {
     "base_uri": "https://localhost:8080/"
    },
    "executionInfo": {
     "elapsed": 430,
     "status": "ok",
     "timestamp": 1639374884484,
     "user": {
      "displayName": "Chao-Lin Liu_劉昭麟",
      "photoUrl": "https://lh3.googleusercontent.com/a-/AOh14GjaQDcVx0bvPqaEx_8WUFaIPswUZjxK7wUwecFfFA=s64",
      "userId": "17631593861648490450"
     },
     "user_tz": -480
    },
    "id": "GBjRV1XhVcVS",
    "outputId": "fef6228c-2054-45ee-c493-1bb47770265f"
   },
   "outputs": [
    {
     "data": {
      "text/plain": [
       "array([ 4, 10, 18])"
      ]
     },
     "execution_count": 12,
     "metadata": {},
     "output_type": "execute_result"
    }
   ],
   "source": [
    "v32"
   ]
  },
  {
   "cell_type": "code",
   "execution_count": 13,
   "metadata": {
    "executionInfo": {
     "elapsed": 418,
     "status": "ok",
     "timestamp": 1639374914681,
     "user": {
      "displayName": "Chao-Lin Liu_劉昭麟",
      "photoUrl": "https://lh3.googleusercontent.com/a-/AOh14GjaQDcVx0bvPqaEx_8WUFaIPswUZjxK7wUwecFfFA=s64",
      "userId": "17631593861648490450"
     },
     "user_tz": -480
    },
    "id": "yaRW85CkVcVS"
   },
   "outputs": [],
   "source": [
    "v4=np.array([1,3,5])"
   ]
  },
  {
   "cell_type": "code",
   "execution_count": 14,
   "metadata": {
    "executionInfo": {
     "elapsed": 498,
     "status": "ok",
     "timestamp": 1639374922320,
     "user": {
      "displayName": "Chao-Lin Liu_劉昭麟",
      "photoUrl": "https://lh3.googleusercontent.com/a-/AOh14GjaQDcVx0bvPqaEx_8WUFaIPswUZjxK7wUwecFfFA=s64",
      "userId": "17631593861648490450"
     },
     "user_tz": -480
    },
    "id": "xU7-R9CMVcVS"
   },
   "outputs": [],
   "source": [
    "v4 = v1 + 1"
   ]
  },
  {
   "cell_type": "code",
   "execution_count": 15,
   "metadata": {
    "colab": {
     "base_uri": "https://localhost:8080/"
    },
    "executionInfo": {
     "elapsed": 478,
     "status": "ok",
     "timestamp": 1639374929389,
     "user": {
      "displayName": "Chao-Lin Liu_劉昭麟",
      "photoUrl": "https://lh3.googleusercontent.com/a-/AOh14GjaQDcVx0bvPqaEx_8WUFaIPswUZjxK7wUwecFfFA=s64",
      "userId": "17631593861648490450"
     },
     "user_tz": -480
    },
    "id": "m4wYFYnVVcVS",
    "outputId": "1c32737e-a27a-4cf3-9182-ad9d2030dd57"
   },
   "outputs": [
    {
     "data": {
      "text/plain": [
       "array([2, 3, 4])"
      ]
     },
     "execution_count": 15,
     "metadata": {},
     "output_type": "execute_result"
    }
   ],
   "source": [
    "v4"
   ]
  },
  {
   "cell_type": "code",
   "execution_count": 17,
   "metadata": {
    "executionInfo": {
     "elapsed": 2,
     "status": "ok",
     "timestamp": 1639375158557,
     "user": {
      "displayName": "Chao-Lin Liu_劉昭麟",
      "photoUrl": "https://lh3.googleusercontent.com/a-/AOh14GjaQDcVx0bvPqaEx_8WUFaIPswUZjxK7wUwecFfFA=s64",
      "userId": "17631593861648490450"
     },
     "user_tz": -480
    },
    "id": "1symBlwGVcVT"
   },
   "outputs": [],
   "source": [
    "m1 = np.array([[1,2,3],[4,5,6]])"
   ]
  },
  {
   "cell_type": "code",
   "execution_count": 18,
   "metadata": {
    "colab": {
     "base_uri": "https://localhost:8080/"
    },
    "executionInfo": {
     "elapsed": 414,
     "status": "ok",
     "timestamp": 1639375167837,
     "user": {
      "displayName": "Chao-Lin Liu_劉昭麟",
      "photoUrl": "https://lh3.googleusercontent.com/a-/AOh14GjaQDcVx0bvPqaEx_8WUFaIPswUZjxK7wUwecFfFA=s64",
      "userId": "17631593861648490450"
     },
     "user_tz": -480
    },
    "id": "U2L5GQI8VcVT",
    "outputId": "d0d8908e-d273-4f5a-d3ff-3e0c6daf7b81"
   },
   "outputs": [
    {
     "data": {
      "text/plain": [
       "(2, 3)"
      ]
     },
     "execution_count": 18,
     "metadata": {},
     "output_type": "execute_result"
    }
   ],
   "source": [
    "m1.shape"
   ]
  },
  {
   "cell_type": "code",
   "execution_count": 19,
   "metadata": {
    "executionInfo": {
     "elapsed": 567,
     "status": "ok",
     "timestamp": 1639375190308,
     "user": {
      "displayName": "Chao-Lin Liu_劉昭麟",
      "photoUrl": "https://lh3.googleusercontent.com/a-/AOh14GjaQDcVx0bvPqaEx_8WUFaIPswUZjxK7wUwecFfFA=s64",
      "userId": "17631593861648490450"
     },
     "user_tz": -480
    },
    "id": "IgMNFkLhVcVT"
   },
   "outputs": [],
   "source": [
    "m2 = np.array([[1,2],[3,4],[5,6]])"
   ]
  },
  {
   "cell_type": "markdown",
   "metadata": {
    "id": "NY6bhd66VcVT"
   },
   "source": [
    "$m1 = \\begin{bmatrix}1 & 2 & 3\\\\4 & 5 & 6\\end{bmatrix}$\n",
    "$m2 = \\begin{bmatrix}1 & 2\\\\3 & 4\\\\5  & 6\\end{bmatrix}$"
   ]
  },
  {
   "cell_type": "code",
   "execution_count": 20,
   "metadata": {
    "colab": {
     "base_uri": "https://localhost:8080/",
     "height": 166
    },
    "executionInfo": {
     "elapsed": 444,
     "status": "error",
     "timestamp": 1639375225358,
     "user": {
      "displayName": "Chao-Lin Liu_劉昭麟",
      "photoUrl": "https://lh3.googleusercontent.com/a-/AOh14GjaQDcVx0bvPqaEx_8WUFaIPswUZjxK7wUwecFfFA=s64",
      "userId": "17631593861648490450"
     },
     "user_tz": -480
    },
    "id": "gMJSWe3WVcVU",
    "outputId": "4c7a02e9-a9ff-4759-b441-847a9c3a5237"
   },
   "outputs": [
    {
     "ename": "ValueError",
     "evalue": "ignored",
     "output_type": "error",
     "traceback": [
      "\u001b[0;31m---------------------------------------------------------------------------\u001b[0m",
      "\u001b[0;31mValueError\u001b[0m                                Traceback (most recent call last)",
      "\u001b[0;32m<ipython-input-20-5219a7399b3c>\u001b[0m in \u001b[0;36m<module>\u001b[0;34m()\u001b[0m\n\u001b[0;32m----> 1\u001b[0;31m \u001b[0mm1\u001b[0m\u001b[0;34m*\u001b[0m\u001b[0mm2\u001b[0m\u001b[0;34m\u001b[0m\u001b[0;34m\u001b[0m\u001b[0m\n\u001b[0m",
      "\u001b[0;31mValueError\u001b[0m: operands could not be broadcast together with shapes (2,3) (3,2) "
     ]
    }
   ],
   "source": [
    "m1*m2"
   ]
  },
  {
   "cell_type": "code",
   "execution_count": 21,
   "metadata": {
    "colab": {
     "base_uri": "https://localhost:8080/"
    },
    "executionInfo": {
     "elapsed": 435,
     "status": "ok",
     "timestamp": 1639375276482,
     "user": {
      "displayName": "Chao-Lin Liu_劉昭麟",
      "photoUrl": "https://lh3.googleusercontent.com/a-/AOh14GjaQDcVx0bvPqaEx_8WUFaIPswUZjxK7wUwecFfFA=s64",
      "userId": "17631593861648490450"
     },
     "user_tz": -480
    },
    "id": "S71mk-wVVcVU",
    "outputId": "418df8dc-aba4-46a3-a358-74855e1693ee"
   },
   "outputs": [
    {
     "data": {
      "text/plain": [
       "array([[22, 28],\n",
       "       [49, 64]])"
      ]
     },
     "execution_count": 21,
     "metadata": {},
     "output_type": "execute_result"
    }
   ],
   "source": [
    "np.dot(m1,m2)"
   ]
  },
  {
   "cell_type": "code",
   "execution_count": 22,
   "metadata": {
    "executionInfo": {
     "elapsed": 421,
     "status": "ok",
     "timestamp": 1639375349359,
     "user": {
      "displayName": "Chao-Lin Liu_劉昭麟",
      "photoUrl": "https://lh3.googleusercontent.com/a-/AOh14GjaQDcVx0bvPqaEx_8WUFaIPswUZjxK7wUwecFfFA=s64",
      "userId": "17631593861648490450"
     },
     "user_tz": -480
    },
    "id": "XabHA2MsVcVU"
   },
   "outputs": [],
   "source": [
    "m3 = m1.T"
   ]
  },
  {
   "cell_type": "code",
   "execution_count": 23,
   "metadata": {
    "colab": {
     "base_uri": "https://localhost:8080/"
    },
    "executionInfo": {
     "elapsed": 412,
     "status": "ok",
     "timestamp": 1639375356812,
     "user": {
      "displayName": "Chao-Lin Liu_劉昭麟",
      "photoUrl": "https://lh3.googleusercontent.com/a-/AOh14GjaQDcVx0bvPqaEx_8WUFaIPswUZjxK7wUwecFfFA=s64",
      "userId": "17631593861648490450"
     },
     "user_tz": -480
    },
    "id": "6uC0xmG_VcVU",
    "outputId": "12ce385d-ddd5-4d63-b58d-9fb659aa31fd"
   },
   "outputs": [
    {
     "data": {
      "text/plain": [
       "array([[1, 4],\n",
       "       [2, 5],\n",
       "       [3, 6]])"
      ]
     },
     "execution_count": 23,
     "metadata": {},
     "output_type": "execute_result"
    }
   ],
   "source": [
    "m3"
   ]
  },
  {
   "cell_type": "code",
   "execution_count": 24,
   "metadata": {
    "executionInfo": {
     "elapsed": 407,
     "status": "ok",
     "timestamp": 1639375397616,
     "user": {
      "displayName": "Chao-Lin Liu_劉昭麟",
      "photoUrl": "https://lh3.googleusercontent.com/a-/AOh14GjaQDcVx0bvPqaEx_8WUFaIPswUZjxK7wUwecFfFA=s64",
      "userId": "17631593861648490450"
     },
     "user_tz": -480
    },
    "id": "Mx_KbEiLVcVU"
   },
   "outputs": [],
   "source": [
    "woo = np.sin(m3)"
   ]
  },
  {
   "cell_type": "code",
   "execution_count": 25,
   "metadata": {
    "colab": {
     "base_uri": "https://localhost:8080/"
    },
    "executionInfo": {
     "elapsed": 448,
     "status": "ok",
     "timestamp": 1639375404655,
     "user": {
      "displayName": "Chao-Lin Liu_劉昭麟",
      "photoUrl": "https://lh3.googleusercontent.com/a-/AOh14GjaQDcVx0bvPqaEx_8WUFaIPswUZjxK7wUwecFfFA=s64",
      "userId": "17631593861648490450"
     },
     "user_tz": -480
    },
    "id": "sW7foJBRVcVV",
    "outputId": "ef2191cc-ed4a-4382-8785-8d62bbd2101b"
   },
   "outputs": [
    {
     "data": {
      "text/plain": [
       "array([[ 0.84147098, -0.7568025 ],\n",
       "       [ 0.90929743, -0.95892427],\n",
       "       [ 0.14112001, -0.2794155 ]])"
      ]
     },
     "execution_count": 25,
     "metadata": {},
     "output_type": "execute_result"
    }
   ],
   "source": [
    "woo"
   ]
  },
  {
   "cell_type": "code",
   "execution_count": null,
   "metadata": {
    "id": "ilN1xEVNVcVV"
   },
   "outputs": [],
   "source": []
  }
 ],
 "metadata": {
  "colab": {
   "name": "numpy.basic.ipynb",
   "provenance": []
  },
  "kernelspec": {
   "display_name": "Python 3",
   "language": "python",
   "name": "python3"
  },
  "language_info": {
   "codemirror_mode": {
    "name": "ipython",
    "version": 3
   },
   "file_extension": ".py",
   "mimetype": "text/x-python",
   "name": "python",
   "nbconvert_exporter": "python",
   "pygments_lexer": "ipython3",
   "version": "3.6.9"
  }
 },
 "nbformat": 4,
 "nbformat_minor": 1
}
