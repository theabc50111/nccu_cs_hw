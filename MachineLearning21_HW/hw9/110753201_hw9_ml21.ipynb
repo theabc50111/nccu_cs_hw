{
 "cells": [
  {
   "cell_type": "code",
   "execution_count": 38,
   "metadata": {},
   "outputs": [
    {
     "data": {
      "text/plain": [
       "array([[0.12, 0.23],\n",
       "       [0.13, 0.1 ]])"
      ]
     },
     "metadata": {},
     "output_type": "display_data"
    },
    {
     "data": {
      "text/plain": [
       "array([[0.93],\n",
       "       [0.56]])"
      ]
     },
     "metadata": {},
     "output_type": "display_data"
    },
    {
     "data": {
      "text/plain": [
       "array([0.2533])"
      ]
     },
     "metadata": {},
     "output_type": "display_data"
    }
   ],
   "source": [
    "import numpy as np\n",
    "\n",
    "inputs = np.array([[2],[3]])\n",
    "\n",
    "w_h1 = np.array([0.12, 0.23])\n",
    "w_h2 = np.array([0.13, 0.10])\n",
    "w_l1 = np.stack([w_h1, w_h2],axis=0)\n",
    "w_out = np.array([0.17, 0.17])\n",
    "z1 = np.dot(w_l1, inputs)\n",
    "out = np.dot(w_out, z1)\n",
    "display(w_l1, z1, out)"
   ]
  },
  {
   "cell_type": "code",
   "execution_count": 39,
   "metadata": {},
   "outputs": [
    {
     "name": "stdout",
     "output_type": "stream",
     "text": [
      "[0.3333145] 1\n",
      "[0.42335661] 2\n",
      "[0.51920946] 3\n",
      "[0.61479954] 4\n",
      "[0.70360506] 5\n",
      "[0.7804411] 6\n",
      "[0.84266825] 7\n",
      "[0.89027026] 8\n",
      "[0.92504654] 9\n",
      "[0.94957687] 10\n",
      "[0.96644325] 11\n",
      "[0.9778333] 12\n",
      "[0.98543068] 13\n",
      "[0.99045623] 14\n",
      "[0.99376213] 15\n",
      "[0.99592884] 16\n",
      "[0.9973455] 17\n",
      "[0.99827028] 18\n",
      "[0.99887334] 19\n",
      "[0.99926634] 20\n"
     ]
    }
   ],
   "source": [
    "learn_rate = 0.05\n",
    "epoch = 20\n",
    "for i in range(1,epoch+1):\n",
    "    loss = out-1\n",
    "    w_out = w_out-learn_rate*loss*z1.reshape(-1)\n",
    "    w_l1 = w_l1-learn_rate*loss*inputs*w_out\n",
    "    z1 = np.dot(w_l1, inputs)\n",
    "    out = np.dot(w_out, z1)\n",
    "    print(out, i)\n",
    "    \n",
    "# print(f\"w1 = {w_l1[0,0]}, w2 = {w_l1[0,1]}, w3 = {w_l1[1,0]}, w4 = {w_l1[1,1]}, w5 = {w_out[0]}, w6 = {w_out[1]}\")"
   ]
  },
  {
   "cell_type": "code",
   "execution_count": 3,
   "metadata": {},
   "outputs": [
    {
     "name": "stdout",
     "output_type": "stream",
     "text": [
      "0.93 0.56 0.2533\n"
     ]
    }
   ],
   "source": [
    "w1 = 0.12\n",
    "w2 = 0.23\n",
    "w3 = 0.13\n",
    "w4 = 0.10\n",
    "w5 = 0.17\n",
    "w6 = 0.17\n",
    "input1 = 2\n",
    "input2 = 3\n",
    "actual = 1\n",
    "h1 = (w1 * input1) + (w2 * input2)\n",
    "h2 = (w3 * input1) + (w4 * input2)\n",
    "prediction = w5 * h1 + w6 *h2\n",
    "print(h1, h2, prediction)"
   ]
  }
 ],
 "metadata": {
  "kernelspec": {
   "display_name": "Python 3",
   "language": "python",
   "name": "python3"
  },
  "language_info": {
   "codemirror_mode": {
    "name": "ipython",
    "version": 3
   },
   "file_extension": ".py",
   "mimetype": "text/x-python",
   "name": "python",
   "nbconvert_exporter": "python",
   "pygments_lexer": "ipython3",
   "version": "3.6.9"
  }
 },
 "nbformat": 4,
 "nbformat_minor": 2
}
