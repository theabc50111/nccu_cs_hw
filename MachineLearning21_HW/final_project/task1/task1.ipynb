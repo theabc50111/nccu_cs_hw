{
 "cells": [
  {
   "cell_type": "code",
   "execution_count": 13,
   "id": "9bc1cbac-d8dc-430a-a3b4-e53df5ae00cc",
   "metadata": {},
   "outputs": [
    {
     "name": "stdout",
     "output_type": "stream",
     "text": [
      "0.07838085278250831\n",
      "time: 3.4 s (started: 2021-12-15 18:27:45 +00:00)\n"
     ]
    }
   ],
   "source": [
    "import pandas as pd\n",
    "from sklearn.preprocessing import StandardScaler\n",
    "from sklearn.svm import SVR \n",
    "from sklearn.metrics import mean_squared_error\n",
    "\n",
    "train_df = pd.read_csv('task1_2021.training.csv')\n",
    "test_df = pd.read_csv('task1_2021.test.csv')\n",
    "train_y = train_df['target']\n",
    "train_x = train_df.drop(['target'], axis=1)\n",
    "\n",
    "scaler = StandardScaler()\n",
    "train_x = scaler.fit_transform(train_x)\n",
    "test_x = scaler.transform(test_df)\n",
    "\n",
    "model = SVR()\n",
    "model.fit(train_x, train_y)\n",
    "pred = model.predict(train_x)\n",
    "print(mean_squared_error(train_y, pred, squared=True))\n",
    "# model.predict(test_x)"
   ]
  },
  {
   "cell_type": "code",
   "execution_count": null,
   "id": "cddd96e0-1005-4a6f-b5e5-dce4e5a46421",
   "metadata": {},
   "outputs": [],
   "source": []
  }
 ],
 "metadata": {
  "kernelspec": {
   "display_name": "Python 3 (ipykernel)",
   "language": "python",
   "name": "python3"
  },
  "language_info": {
   "codemirror_mode": {
    "name": "ipython",
    "version": 3
   },
   "file_extension": ".py",
   "mimetype": "text/x-python",
   "name": "python",
   "nbconvert_exporter": "python",
   "pygments_lexer": "ipython3",
   "version": "3.8.10"
  }
 },
 "nbformat": 4,
 "nbformat_minor": 5
}
