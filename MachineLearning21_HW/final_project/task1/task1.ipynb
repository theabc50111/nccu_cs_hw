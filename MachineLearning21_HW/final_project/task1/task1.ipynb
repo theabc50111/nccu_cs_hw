{
 "cells": [
  {
   "cell_type": "code",
   "execution_count": 15,
   "id": "9b590f7b-77c2-4b67-947f-a7c261944740",
   "metadata": {},
   "outputs": [
    {
     "name": "stdout",
     "output_type": "stream",
     "text": [
      "Collecting xgboost\n",
      "  Downloading xgboost-1.5.1-py3-none-manylinux2014_x86_64.whl (173.5 MB)\n",
      "\u001b[K     |████████████████████████████████| 173.5 MB 135.5 MB/s eta 0:00:01\n",
      "\u001b[?25hRequirement already satisfied: numpy in /usr/local/lib/python3.8/dist-packages (from xgboost) (1.21.3)\n",
      "Requirement already satisfied: scipy in /usr/local/lib/python3.8/dist-packages (from xgboost) (1.7.3)\n",
      "Installing collected packages: xgboost\n",
      "Successfully installed xgboost-1.5.1\n",
      "\u001b[33mWARNING: You are using pip version 20.2.4; however, version 21.3.1 is available.\n",
      "You should consider upgrading via the '/usr/bin/python3 -m pip install --upgrade pip' command.\u001b[0m\n",
      "time: 4.95 s (started: 2021-12-16 12:23:04 +00:00)\n"
     ]
    }
   ],
   "source": [
    "!pip install xgboost"
   ]
  },
  {
   "cell_type": "code",
   "execution_count": 83,
   "id": "9bc1cbac-d8dc-430a-a3b4-e53df5ae00cc",
   "metadata": {},
   "outputs": [
    {
     "name": "stdout",
     "output_type": "stream",
     "text": [
      "0.07836979208995758\n",
      "time: 5.07 s (started: 2021-12-16 17:28:07 +00:00)\n"
     ]
    }
   ],
   "source": [
    "import pandas as pd\n",
    "from sklearn.preprocessing import StandardScaler\n",
    "from sklearn.svm import SVR \n",
    "from sklearn.metrics import mean_squared_error\n",
    "\n",
    "train_df = pd.read_csv('task1_2021.training.csv')\n",
    "test_df = pd.read_csv('task1_2021.test.csv')\n",
    "train_y = train_df['target']\n",
    "train_x = train_df.drop(['target'], axis=1)\n",
    "\n",
    "scaler = StandardScaler()\n",
    "train_x = scaler.fit_transform(train_x)\n",
    "test_x = scaler.transform(test_df)\n",
    "\n",
    "svr_model = SVR(C=1, tol=1e-8)\n",
    "\n",
    "svr_model.fit(train_x, train_y)\n",
    "svr_pred = svr_model.predict(train_x)\n",
    "print(mean_squared_error(train_y, svr_pred, squared=True))"
   ]
  },
  {
   "cell_type": "code",
   "execution_count": 77,
   "id": "49dbb4a4-90b1-4e52-bd35-ddcfb58b5737",
   "metadata": {},
   "outputs": [
    {
     "name": "stdout",
     "output_type": "stream",
     "text": [
      "0.21069472024307412\n",
      "time: 3.94 s (started: 2021-12-16 17:20:14 +00:00)\n"
     ]
    }
   ],
   "source": [
    "from sklearn.ensemble import RandomForestRegressor\n",
    "\n",
    "rf_model = RandomForestRegressor(n_estimators=1000,n_jobs=-1)\n",
    "rf_model.fit(train_x, train_y)\n",
    "rf_pred = rf_model.predict(train_x)\n",
    "print(mean_squared_error(train_y, rf_pred, squared=True))"
   ]
  },
  {
   "cell_type": "code",
   "execution_count": 87,
   "id": "e7aa13d8-d5cb-4d07-be4f-6854364b8a80",
   "metadata": {},
   "outputs": [
    {
     "name": "stdout",
     "output_type": "stream",
     "text": [
      "2.8889545276495214e-09\n",
      "time: 6.73 ms (started: 2021-12-16 17:29:26 +00:00)\n"
     ]
    }
   ],
   "source": [
    "from sklearn.linear_model import LinearRegression\n",
    "\n",
    "\n",
    "lr_model = LinearRegression()\n",
    "lr_model.fit(train_x, train_y)\n",
    "lr_pred = lr_model.predict(train_x)\n",
    "print(mean_squared_error(train_y, lr_pred, squared=True))"
   ]
  },
  {
   "cell_type": "code",
   "execution_count": 84,
   "id": "cddd96e0-1005-4a6f-b5e5-dce4e5a46421",
   "metadata": {},
   "outputs": [
    {
     "name": "stdout",
     "output_type": "stream",
     "text": [
      "0.088159832234311\n",
      "time: 31.4 s (started: 2021-12-16 17:28:22 +00:00)\n"
     ]
    }
   ],
   "source": [
    "import xgboost as xgb\n",
    "# read in data\n",
    "dtrain = xgb.DMatrix(data=train_x, label=train_y)\n",
    "dtest = xgb.DMatrix(data=test_x)\n",
    "# specify parameters via map\n",
    "param = {'max_depth':6, 'eta':0.001, 'objective':'reg:squarederror'}\n",
    "num_round = 10000\n",
    "bst = xgb.train(param, dtrain, num_round)\n",
    "# make prediction\n",
    "preds = bst.predict(dtrain)\n",
    "print(mean_squared_error(train_y, preds, squared=True))"
   ]
  },
  {
   "cell_type": "code",
   "execution_count": 82,
   "id": "6e2fefe8-f096-4f25-8a0c-1c1fa9170c9a",
   "metadata": {},
   "outputs": [
    {
     "name": "stdout",
     "output_type": "stream",
     "text": [
      "time: 325 ms (started: 2021-12-16 17:24:49 +00:00)\n"
     ]
    }
   ],
   "source": [
    "from pandas import RangeIndex\n",
    "\n",
    "svr_pred = svr_model.predict(test_x)\n",
    "bst_pred = bst.predict(dtest)\n",
    "rf_pred = rf_model.predict(test_x)\n",
    "\n",
    "output = (svr_pred+bst_pred)/2\n",
    "pd.Series(output, index=RangeIndex(1, 2001), name='Predicted').to_csv('ans4.csv',index_label='id')"
   ]
  },
  {
   "cell_type": "code",
   "execution_count": null,
   "id": "94c64ac1-6b7e-4185-a9e6-558001cc2553",
   "metadata": {},
   "outputs": [],
   "source": []
  }
 ],
 "metadata": {
  "kernelspec": {
   "display_name": "Python 3 (ipykernel)",
   "language": "python",
   "name": "python3"
  },
  "language_info": {
   "codemirror_mode": {
    "name": "ipython",
    "version": 3
   },
   "file_extension": ".py",
   "mimetype": "text/x-python",
   "name": "python",
   "nbconvert_exporter": "python",
   "pygments_lexer": "ipython3",
   "version": "3.8.10"
  }
 },
 "nbformat": 4,
 "nbformat_minor": 5
}
