{
 "cells": [
  {
   "cell_type": "markdown",
   "metadata": {},
   "source": [
    "# Random Forest with Hyperparameter Tuning"
   ]
  },
  {
   "cell_type": "code",
   "execution_count": 1,
   "metadata": {},
   "outputs": [],
   "source": [
    "import pyspark\n",
    "import sys"
   ]
  },
  {
   "cell_type": "code",
   "execution_count": 2,
   "metadata": {},
   "outputs": [],
   "source": [
    "import pyspark.sql.functions as fn"
   ]
  },
  {
   "cell_type": "code",
   "execution_count": 3,
   "metadata": {},
   "outputs": [],
   "source": [
    "from pyspark.ml.classification import RandomForestClassifier\n",
    "from pyspark.ml.tuning import ParamGridBuilder, CrossValidator\n",
    "from pyspark.ml.evaluation import BinaryClassificationEvaluator, MulticlassClassificationEvaluator\n",
    "from pyspark.ml.feature import VectorAssembler, StringIndexer"
   ]
  },
  {
   "cell_type": "code",
   "execution_count": 4,
   "metadata": {},
   "outputs": [
    {
     "data": {
      "text/plain": [
       "'PySparkShell'"
      ]
     },
     "execution_count": 4,
     "metadata": {},
     "output_type": "execute_result"
    }
   ],
   "source": [
    "# Check spark app name\n",
    "spark.sparkContext.appName"
   ]
  },
  {
   "cell_type": "code",
   "execution_count": 5,
   "metadata": {},
   "outputs": [],
   "source": [
    "spark.conf.set(\"spark.sql.execution.arrow.pyspark.enabled\", True)"
   ]
  },
  {
   "cell_type": "code",
   "execution_count": 6,
   "metadata": {},
   "outputs": [
    {
     "data": {
      "text/plain": [
       "'3.8.10 (default, Mar 15 2022, 12:22:08) \\n[GCC 9.4.0]'"
      ]
     },
     "execution_count": 6,
     "metadata": {},
     "output_type": "execute_result"
    }
   ],
   "source": [
    "# print runtime versions\n",
    "# Python version\n",
    "sys.version"
   ]
  },
  {
   "cell_type": "code",
   "execution_count": 7,
   "metadata": {},
   "outputs": [
    {
     "data": {
      "text/plain": [
       "'3.2.1'"
      ]
     },
     "execution_count": 7,
     "metadata": {},
     "output_type": "execute_result"
    }
   ],
   "source": [
    "# Spark version\n",
    "spark.version"
   ]
  },
  {
   "cell_type": "markdown",
   "metadata": {},
   "source": [
    "### Exploring Data"
   ]
  },
  {
   "cell_type": "code",
   "execution_count": 8,
   "metadata": {},
   "outputs": [
    {
     "name": "stderr",
     "output_type": "stream",
     "text": [
      "                                                                                \r"
     ]
    }
   ],
   "source": [
    "# load classification_data.csv into Spark dataframe\n",
    "df = spark.read.csv('data/classification_data.csv', header=True, inferSchema=True)"
   ]
  },
  {
   "cell_type": "code",
   "execution_count": 9,
   "metadata": {},
   "outputs": [
    {
     "data": {
      "text/plain": [
       "(46751, 12)"
      ]
     },
     "execution_count": 9,
     "metadata": {},
     "output_type": "execute_result"
    }
   ],
   "source": [
    "# check the shape of the data \n",
    "df.count(),len(df.columns)"
   ]
  },
  {
   "cell_type": "code",
   "execution_count": 10,
   "metadata": {},
   "outputs": [
    {
     "name": "stdout",
     "output_type": "stream",
     "text": [
      "root\n",
      " |-- loan_id: string (nullable = true)\n",
      " |-- loan_purpose: string (nullable = true)\n",
      " |-- is_first_loan: integer (nullable = true)\n",
      " |-- total_credit_card_limit: integer (nullable = true)\n",
      " |-- avg_percentage_credit_card_limit_used_last_year: double (nullable = true)\n",
      " |-- saving_amount: integer (nullable = true)\n",
      " |-- checking_amount: integer (nullable = true)\n",
      " |-- is_employed: integer (nullable = true)\n",
      " |-- yearly_salary: integer (nullable = true)\n",
      " |-- age: integer (nullable = true)\n",
      " |-- dependent_number: integer (nullable = true)\n",
      " |-- label: integer (nullable = true)\n",
      "\n"
     ]
    }
   ],
   "source": [
    "df.printSchema()"
   ]
  },
  {
   "cell_type": "code",
   "execution_count": 11,
   "metadata": {},
   "outputs": [
    {
     "name": "stdout",
     "output_type": "stream",
     "text": [
      "+-------+------------+-------------+-----------------------+-----------------------------------------------+-------------+---------------+-----------+-------------+---+----------------+-----+\n",
      "|loan_id|loan_purpose|is_first_loan|total_credit_card_limit|avg_percentage_credit_card_limit_used_last_year|saving_amount|checking_amount|is_employed|yearly_salary|age|dependent_number|label|\n",
      "+-------+------------+-------------+-----------------------+-----------------------------------------------+-------------+---------------+-----------+-------------+---+----------------+-----+\n",
      "|    A_1|    personal|            1|                   7900|                                            0.8|         1103|           6393|          1|        16400| 42|               4|    0|\n",
      "|    A_2|    personal|            0|                   3300|                                           0.29|         2588|            832|          1|        75500| 56|               1|    0|\n",
      "|    A_3|    personal|            0|                   7600|                                            0.9|         1651|           8868|          1|        59000| 46|               1|    0|\n",
      "|    A_4|    personal|            1|                   3400|                                           0.38|         1269|           6863|          1|        26000| 55|               8|    0|\n",
      "|    A_5|   emergency|            0|                   2600|                                           0.89|         1310|           3423|          1|         9700| 41|               4|    1|\n",
      "+-------+------------+-------------+-----------------------+-----------------------------------------------+-------------+---------------+-----------+-------------+---+----------------+-----+\n",
      "only showing top 5 rows\n",
      "\n"
     ]
    },
    {
     "name": "stderr",
     "output_type": "stream",
     "text": [
      "                                                                                \r"
     ]
    }
   ],
   "source": [
    "# First 5 rows of Iris dataset\n",
    "df.show(5)"
   ]
  },
  {
   "cell_type": "code",
   "execution_count": 12,
   "metadata": {},
   "outputs": [
    {
     "name": "stderr",
     "output_type": "stream",
     "text": [
      "[Stage 6:>                                                          (0 + 1) / 1]\r"
     ]
    },
    {
     "name": "stdout",
     "output_type": "stream",
     "text": [
      "+-------+-------+------------+------------------+-----------------------+-----------------------------------------------+------------------+------------------+------------------+------------------+------------------+------------------+-------------------+\n",
      "|summary|loan_id|loan_purpose|     is_first_loan|total_credit_card_limit|avg_percentage_credit_card_limit_used_last_year|     saving_amount|   checking_amount|       is_employed|     yearly_salary|               age|  dependent_number|              label|\n",
      "+-------+-------+------------+------------------+-----------------------+-----------------------------------------------+------------------+------------------+------------------+------------------+------------------+------------------+-------------------+\n",
      "|  count|  46751|       46751|             46751|                  46751|                                          46751|             46751|             46751|             46751|             46751|             46751|             46751|              46751|\n",
      "|   mean|   null|        null|0.5414429637868708|      4615.304485465552|                              0.700091121045545| 2037.636585313683|3520.6714294881394|0.9173279715941905| 29527.62079955509| 41.53979594019379|3.7448396825736348|0.34653804196701676|\n",
      "| stddev|   null|        null|0.4982848498677868|      1890.194453628314|                             0.1777288093267152|1498.6710906030362|2160.9332423713727|0.2753887911928983|16149.757703029438|12.817646350266434|2.6191527902107667|0.47587211651314887|\n",
      "|    min|    A_1|   emergency|                 0|                    500|                                            0.0|                 0|                 0|                 0|                 0|                18|                 0|                  0|\n",
      "|    max| A_9999|    property|                 1|                  13500|                                           1.09|             10641|             13165|                 1|             97200|                79|                 8|                  1|\n",
      "+-------+-------+------------+------------------+-----------------------+-----------------------------------------------+------------------+------------------+------------------+------------------+------------------+------------------+-------------------+\n",
      "\n"
     ]
    },
    {
     "name": "stderr",
     "output_type": "stream",
     "text": [
      "                                                                                \r"
     ]
    }
   ],
   "source": [
    "# Exploratory Data Analysis\n",
    "df.describe().show()"
   ]
  },
  {
   "cell_type": "code",
   "execution_count": 13,
   "metadata": {},
   "outputs": [
    {
     "name": "stdout",
     "output_type": "stream",
     "text": [
      "+-----+-----+\n",
      "|label|count|\n",
      "+-----+-----+\n",
      "|    1|16201|\n",
      "|    0|30550|\n",
      "+-----+-----+\n",
      "\n"
     ]
    }
   ],
   "source": [
    "df.groupBy('label').count().show()"
   ]
  },
  {
   "cell_type": "code",
   "execution_count": 14,
   "metadata": {},
   "outputs": [
    {
     "name": "stdout",
     "output_type": "stream",
     "text": [
      "+------------+-----+\n",
      "|loan_purpose|count|\n",
      "+------------+-----+\n",
      "|      others| 6763|\n",
      "|   emergency| 7562|\n",
      "|    property|11388|\n",
      "|  operations|10580|\n",
      "|    personal|10458|\n",
      "+------------+-----+\n",
      "\n"
     ]
    }
   ],
   "source": [
    "df.groupBy('loan_purpose').count().show()"
   ]
  },
  {
   "cell_type": "markdown",
   "metadata": {},
   "source": [
    "### Feature Engineering"
   ]
  },
  {
   "cell_type": "code",
   "execution_count": 15,
   "metadata": {},
   "outputs": [
    {
     "name": "stderr",
     "output_type": "stream",
     "text": [
      "                                                                                \r"
     ]
    }
   ],
   "source": [
    "loan_purpose_indexer = StringIndexer(inputCol=\"loan_purpose\", outputCol=\"loan_index\").fit(df)\n",
    "df = loan_purpose_indexer.transform(df)"
   ]
  },
  {
   "cell_type": "code",
   "execution_count": 16,
   "metadata": {},
   "outputs": [
    {
     "name": "stdout",
     "output_type": "stream",
     "text": [
      "+------------+----------+\n",
      "|loan_purpose|loan_index|\n",
      "+------------+----------+\n",
      "|personal    |2.0       |\n",
      "|personal    |2.0       |\n",
      "|personal    |2.0       |\n",
      "|personal    |2.0       |\n",
      "|emergency   |3.0       |\n",
      "+------------+----------+\n",
      "only showing top 5 rows\n",
      "\n"
     ]
    }
   ],
   "source": [
    "df.select(['loan_purpose','loan_index']).show(5,False)"
   ]
  },
  {
   "cell_type": "code",
   "execution_count": 17,
   "metadata": {},
   "outputs": [
    {
     "data": {
      "text/plain": [
       "['loan_id',\n",
       " 'loan_purpose',\n",
       " 'is_first_loan',\n",
       " 'total_credit_card_limit',\n",
       " 'avg_percentage_credit_card_limit_used_last_year',\n",
       " 'saving_amount',\n",
       " 'checking_amount',\n",
       " 'is_employed',\n",
       " 'yearly_salary',\n",
       " 'age',\n",
       " 'dependent_number',\n",
       " 'label',\n",
       " 'loan_index']"
      ]
     },
     "execution_count": 17,
     "metadata": {},
     "output_type": "execute_result"
    }
   ],
   "source": [
    "df.columns"
   ]
  },
  {
   "cell_type": "code",
   "execution_count": 18,
   "metadata": {},
   "outputs": [
    {
     "data": {
      "text/plain": [
       "['is_first_loan',\n",
       " 'total_credit_card_limit',\n",
       " 'avg_percentage_credit_card_limit_used_last_year',\n",
       " 'saving_amount',\n",
       " 'checking_amount',\n",
       " 'is_employed',\n",
       " 'yearly_salary',\n",
       " 'age',\n",
       " 'dependent_number',\n",
       " 'loan_index']"
      ]
     },
     "execution_count": 18,
     "metadata": {},
     "output_type": "execute_result"
    }
   ],
   "source": [
    "feature_cols = df.columns[2:-2]\n",
    "feature_cols += ['loan_index']\n",
    "feature_cols"
   ]
  },
  {
   "cell_type": "code",
   "execution_count": 19,
   "metadata": {},
   "outputs": [],
   "source": [
    "df_assembler = VectorAssembler(inputCols=feature_cols, outputCol=\"features\")\n",
    "df = df_assembler.transform(df)"
   ]
  },
  {
   "cell_type": "code",
   "execution_count": 20,
   "metadata": {},
   "outputs": [
    {
     "name": "stdout",
     "output_type": "stream",
     "text": [
      "root\n",
      " |-- loan_id: string (nullable = true)\n",
      " |-- loan_purpose: string (nullable = true)\n",
      " |-- is_first_loan: integer (nullable = true)\n",
      " |-- total_credit_card_limit: integer (nullable = true)\n",
      " |-- avg_percentage_credit_card_limit_used_last_year: double (nullable = true)\n",
      " |-- saving_amount: integer (nullable = true)\n",
      " |-- checking_amount: integer (nullable = true)\n",
      " |-- is_employed: integer (nullable = true)\n",
      " |-- yearly_salary: integer (nullable = true)\n",
      " |-- age: integer (nullable = true)\n",
      " |-- dependent_number: integer (nullable = true)\n",
      " |-- label: integer (nullable = true)\n",
      " |-- loan_index: double (nullable = false)\n",
      " |-- features: vector (nullable = true)\n",
      "\n"
     ]
    }
   ],
   "source": [
    "df.printSchema()"
   ]
  },
  {
   "cell_type": "code",
   "execution_count": 21,
   "metadata": {},
   "outputs": [
    {
     "name": "stdout",
     "output_type": "stream",
     "text": [
      "+--------------------------------------------------------+-----+\n",
      "|features                                                |label|\n",
      "+--------------------------------------------------------+-----+\n",
      "|[1.0,7900.0,0.8,1103.0,6393.0,1.0,16400.0,42.0,4.0,2.0] |0    |\n",
      "|[0.0,3300.0,0.29,2588.0,832.0,1.0,75500.0,56.0,1.0,2.0] |0    |\n",
      "|[0.0,7600.0,0.9,1651.0,8868.0,1.0,59000.0,46.0,1.0,2.0] |0    |\n",
      "|[1.0,3400.0,0.38,1269.0,6863.0,1.0,26000.0,55.0,8.0,2.0]|0    |\n",
      "|[0.0,2600.0,0.89,1310.0,3423.0,1.0,9700.0,41.0,4.0,3.0] |1    |\n",
      "|[0.0,7600.0,0.51,1040.0,2406.0,1.0,22900.0,52.0,0.0,1.0]|0    |\n",
      "|[1.0,6900.0,0.82,2408.0,5556.0,1.0,34800.0,48.0,4.0,1.0]|0    |\n",
      "|[0.0,5700.0,0.56,1933.0,4139.0,1.0,32500.0,64.0,2.0,2.0]|0    |\n",
      "|[1.0,3400.0,0.95,3866.0,4131.0,1.0,13300.0,23.0,3.0,2.0]|0    |\n",
      "|[0.0,2900.0,0.91,88.0,2725.0,1.0,21100.0,52.0,1.0,2.0]  |1    |\n",
      "+--------------------------------------------------------+-----+\n",
      "only showing top 10 rows\n",
      "\n"
     ]
    }
   ],
   "source": [
    "df.select(['features','label']).show(10,False)"
   ]
  },
  {
   "cell_type": "code",
   "execution_count": 22,
   "metadata": {},
   "outputs": [],
   "source": [
    "# select data for building model\n",
    "model_df=df.select(['features','label'])"
   ]
  },
  {
   "cell_type": "markdown",
   "metadata": {},
   "source": [
    "### Split Data - Train & Test sets"
   ]
  },
  {
   "cell_type": "code",
   "execution_count": 23,
   "metadata": {},
   "outputs": [],
   "source": [
    "# use Random Forest to train on the training set\n",
    "train_df, test_df = model_df.randomSplit([0.70, 0.30], seed=42)"
   ]
  },
  {
   "cell_type": "code",
   "execution_count": 24,
   "metadata": {},
   "outputs": [
    {
     "data": {
      "text/plain": [
       "(32776, 2)"
      ]
     },
     "execution_count": 24,
     "metadata": {},
     "output_type": "execute_result"
    }
   ],
   "source": [
    "train_df.count(), len(train_df.columns)"
   ]
  },
  {
   "cell_type": "code",
   "execution_count": 25,
   "metadata": {},
   "outputs": [
    {
     "name": "stderr",
     "output_type": "stream",
     "text": [
      "                                                                                \r"
     ]
    },
    {
     "data": {
      "text/plain": [
       "(13975, 2)"
      ]
     },
     "execution_count": 25,
     "metadata": {},
     "output_type": "execute_result"
    }
   ],
   "source": [
    "test_df.count(), len(test_df.columns)"
   ]
  },
  {
   "cell_type": "markdown",
   "metadata": {},
   "source": [
    "### Build Random Forest Model"
   ]
  },
  {
   "cell_type": "code",
   "execution_count": 26,
   "metadata": {},
   "outputs": [
    {
     "name": "stderr",
     "output_type": "stream",
     "text": [
      "                                                                                \r"
     ]
    }
   ],
   "source": [
    "rf = RandomForestClassifier()\n",
    "rf_model = rf.fit(train_df)"
   ]
  },
  {
   "cell_type": "code",
   "execution_count": 27,
   "metadata": {},
   "outputs": [],
   "source": [
    "# predict on the test set\n",
    "model_predictions = rf_model.transform(test_df)"
   ]
  },
  {
   "cell_type": "code",
   "execution_count": 28,
   "metadata": {},
   "outputs": [
    {
     "name": "stdout",
     "output_type": "stream",
     "text": [
      "+--------------------+-----+--------------------+--------------------+----------+\n",
      "|            features|label|       rawPrediction|         probability|prediction|\n",
      "+--------------------+-----+--------------------+--------------------+----------+\n",
      "|(10,[1,2,3,4,7],[...|    0|[16.6838849289974...|[0.83419424644987...|       0.0|\n",
      "|(10,[1,2,3,4,7],[...|    0|[19.2409223242261...|[0.96204611621130...|       0.0|\n",
      "|(10,[1,2,3,4,7],[...|    1|[5.52256473103276...|[0.27612823655163...|       1.0|\n",
      "|(10,[1,2,3,4,7],[...|    0|[18.8323430040495...|[0.94161715020247...|       0.0|\n",
      "|[0.0,500.0,0.59,9...|    1|[3.64939484193013...|[0.18246974209650...|       1.0|\n",
      "|[0.0,500.0,0.64,1...|    1|[2.12679355088605...|[0.10633967754430...|       1.0|\n",
      "|[0.0,500.0,0.69,1...|    1|[3.23323701493719...|[0.16166185074685...|       1.0|\n",
      "|[0.0,500.0,0.76,5...|    1|[2.12679355088605...|[0.10633967754430...|       1.0|\n",
      "|[0.0,500.0,0.77,1...|    1|[3.31208121245175...|[0.16560406062258...|       1.0|\n",
      "|[0.0,500.0,0.78,1...|    1|[3.23323701493719...|[0.16166185074685...|       1.0|\n",
      "+--------------------+-----+--------------------+--------------------+----------+\n",
      "only showing top 10 rows\n",
      "\n"
     ]
    }
   ],
   "source": [
    "# print prediction\n",
    "model_predictions.show(10)"
   ]
  },
  {
   "cell_type": "markdown",
   "metadata": {},
   "source": [
    "### Evaluate Model"
   ]
  },
  {
   "cell_type": "code",
   "execution_count": 29,
   "metadata": {},
   "outputs": [],
   "source": [
    "# Select (prediction, true label) to compute AUC\n",
    "evaluator = BinaryClassificationEvaluator(\n",
    "    labelCol='label')\n",
    "rf_auc = evaluator.evaluate(model_predictions)"
   ]
  },
  {
   "cell_type": "code",
   "execution_count": 30,
   "metadata": {},
   "outputs": [
    {
     "data": {
      "text/plain": [
       "0.962829631887776"
      ]
     },
     "execution_count": 30,
     "metadata": {},
     "output_type": "execute_result"
    }
   ],
   "source": [
    "rf_auc"
   ]
  },
  {
   "cell_type": "code",
   "execution_count": 31,
   "metadata": {},
   "outputs": [],
   "source": [
    "rf_accuracy = MulticlassClassificationEvaluator(labelCol='label',\n",
    "               metricName='accuracy').evaluate(model_predictions)"
   ]
  },
  {
   "cell_type": "code",
   "execution_count": 32,
   "metadata": {},
   "outputs": [
    {
     "data": {
      "text/plain": [
       "'The accuracy of RF on test data is 90%'"
      ]
     },
     "execution_count": 32,
     "metadata": {},
     "output_type": "execute_result"
    }
   ],
   "source": [
    "'The accuracy of RF on test data is {0:.0%}'.format(rf_accuracy)"
   ]
  },
  {
   "cell_type": "markdown",
   "metadata": {},
   "source": [
    "### Hyperparameter Tuning"
   ]
  },
  {
   "cell_type": "code",
   "execution_count": 33,
   "metadata": {},
   "outputs": [],
   "source": [
    "evaluator = BinaryClassificationEvaluator()\n",
    "rf = RandomForestClassifier()"
   ]
  },
  {
   "cell_type": "code",
   "execution_count": 34,
   "metadata": {},
   "outputs": [],
   "source": [
    "#paramGrid = (ParamGridBuilder()\n",
    "#             .addGrid(rf.maxDepth, [5,10,20,25,30])\n",
    "#             .addGrid(rf.maxBins, [20,30,40 ])\n",
    "#             .addGrid(rf.numTrees, [5, 20,50])\n",
    "#             .build())"
   ]
  },
  {
   "cell_type": "code",
   "execution_count": 35,
   "metadata": {},
   "outputs": [],
   "source": [
    "paramGrid = (ParamGridBuilder()\n",
    "             .addGrid(rf.maxDepth, [10,20])\n",
    "             .addGrid(rf.maxBins, [20,30])\n",
    "             .addGrid(rf.numTrees, [5,20])\n",
    "             .build())"
   ]
  },
  {
   "cell_type": "code",
   "execution_count": 36,
   "metadata": {},
   "outputs": [],
   "source": [
    "cv = CrossValidator(estimator=rf, estimatorParamMaps=paramGrid, \n",
    "                    evaluator=evaluator, numFolds=5)"
   ]
  },
  {
   "cell_type": "code",
   "execution_count": 37,
   "metadata": {},
   "outputs": [
    {
     "name": "stderr",
     "output_type": "stream",
     "text": [
      "22/05/09 16:22:13 WARN DAGScheduler: Broadcasting large task binary with size 1079.8 KiB\n",
      "22/05/09 16:22:14 WARN DAGScheduler: Broadcasting large task binary with size 1639.7 KiB\n",
      "22/05/09 16:22:14 WARN DAGScheduler: Broadcasting large task binary with size 1109.6 KiB\n",
      "22/05/09 16:22:17 WARN DAGScheduler: Broadcasting large task binary with size 1084.8 KiB\n",
      "22/05/09 16:22:17 WARN DAGScheduler: Broadcasting large task binary with size 1626.3 KiB\n",
      "22/05/09 16:22:18 WARN DAGScheduler: Broadcasting large task binary with size 1124.8 KiB\n",
      "22/05/09 16:22:19 WARN DAGScheduler: Broadcasting large task binary with size 1096.8 KiB\n",
      "22/05/09 16:22:19 WARN DAGScheduler: Broadcasting large task binary with size 1345.8 KiB\n",
      "22/05/09 16:22:19 WARN DAGScheduler: Broadcasting large task binary with size 1582.0 KiB\n",
      "22/05/09 16:22:19 WARN DAGScheduler: Broadcasting large task binary with size 1789.5 KiB\n",
      "22/05/09 16:22:20 WARN DAGScheduler: Broadcasting large task binary with size 1971.5 KiB\n",
      "22/05/09 16:22:20 WARN DAGScheduler: Broadcasting large task binary with size 2.1 MiB\n",
      "22/05/09 16:22:20 WARN DAGScheduler: Broadcasting large task binary with size 2.2 MiB\n",
      "22/05/09 16:22:20 WARN DAGScheduler: Broadcasting large task binary with size 2.3 MiB\n",
      "22/05/09 16:22:20 WARN DAGScheduler: Broadcasting large task binary with size 1463.5 KiB\n",
      "22/05/09 16:22:22 WARN DAGScheduler: Broadcasting large task binary with size 1079.8 KiB\n",
      "22/05/09 16:22:22 WARN DAGScheduler: Broadcasting large task binary with size 1639.7 KiB\n",
      "22/05/09 16:22:22 WARN DAGScheduler: Broadcasting large task binary with size 2.3 MiB\n",
      "22/05/09 16:22:23 WARN DAGScheduler: Broadcasting large task binary with size 3.1 MiB\n",
      "22/05/09 16:22:23 WARN DAGScheduler: Broadcasting large task binary with size 4.0 MiB\n",
      "22/05/09 16:22:24 WARN DAGScheduler: Broadcasting large task binary with size 5.0 MiB\n",
      "22/05/09 16:22:24 WARN DAGScheduler: Broadcasting large task binary with size 5.9 MiB\n",
      "22/05/09 16:22:25 WARN DAGScheduler: Broadcasting large task binary with size 6.7 MiB\n",
      "22/05/09 16:22:26 WARN DAGScheduler: Broadcasting large task binary with size 7.4 MiB\n",
      "22/05/09 16:22:26 WARN DAGScheduler: Broadcasting large task binary with size 8.0 MiB\n",
      "22/05/09 16:22:27 WARN DAGScheduler: Broadcasting large task binary with size 8.4 MiB\n",
      "22/05/09 16:22:27 WARN DAGScheduler: Broadcasting large task binary with size 8.7 MiB\n",
      "22/05/09 16:22:28 WARN DAGScheduler: Broadcasting large task binary with size 5.3 MiB\n",
      "22/05/09 16:22:29 WARN DAGScheduler: Broadcasting large task binary with size 1071.4 KiB\n",
      "22/05/09 16:22:30 WARN DAGScheduler: Broadcasting large task binary with size 1303.6 KiB\n",
      "22/05/09 16:22:30 WARN DAGScheduler: Broadcasting large task binary with size 1526.8 KiB\n",
      "22/05/09 16:22:30 WARN DAGScheduler: Broadcasting large task binary with size 1726.1 KiB\n",
      "22/05/09 16:22:30 WARN DAGScheduler: Broadcasting large task binary with size 1894.8 KiB\n",
      "22/05/09 16:22:30 WARN DAGScheduler: Broadcasting large task binary with size 2032.8 KiB\n",
      "22/05/09 16:22:30 WARN DAGScheduler: Broadcasting large task binary with size 2.1 MiB\n",
      "22/05/09 16:22:30 WARN DAGScheduler: Broadcasting large task binary with size 2.2 MiB\n",
      "22/05/09 16:22:31 WARN DAGScheduler: Broadcasting large task binary with size 1413.3 KiB\n",
      "22/05/09 16:22:32 WARN DAGScheduler: Broadcasting large task binary with size 1084.8 KiB\n",
      "22/05/09 16:22:32 WARN DAGScheduler: Broadcasting large task binary with size 1626.3 KiB\n",
      "22/05/09 16:22:33 WARN DAGScheduler: Broadcasting large task binary with size 2.3 MiB\n",
      "22/05/09 16:22:33 WARN DAGScheduler: Broadcasting large task binary with size 3.0 MiB\n",
      "22/05/09 16:22:34 WARN DAGScheduler: Broadcasting large task binary with size 3.9 MiB\n",
      "22/05/09 16:22:34 WARN DAGScheduler: Broadcasting large task binary with size 4.8 MiB\n",
      "22/05/09 16:22:35 WARN DAGScheduler: Broadcasting large task binary with size 5.6 MiB\n",
      "22/05/09 16:22:35 WARN DAGScheduler: Broadcasting large task binary with size 6.3 MiB\n",
      "22/05/09 16:22:36 WARN DAGScheduler: Broadcasting large task binary with size 7.0 MiB\n",
      "22/05/09 16:22:36 WARN DAGScheduler: Broadcasting large task binary with size 7.5 MiB\n",
      "22/05/09 16:22:37 WARN DAGScheduler: Broadcasting large task binary with size 7.9 MiB\n",
      "22/05/09 16:22:37 WARN DAGScheduler: Broadcasting large task binary with size 8.2 MiB\n",
      "22/05/09 16:22:38 WARN DAGScheduler: Broadcasting large task binary with size 5.1 MiB\n",
      "22/05/09 16:22:41 WARN DAGScheduler: Broadcasting large task binary with size 1068.7 KiB\n",
      "22/05/09 16:22:42 WARN DAGScheduler: Broadcasting large task binary with size 1625.0 KiB\n",
      "22/05/09 16:22:42 WARN DAGScheduler: Broadcasting large task binary with size 1096.6 KiB\n",
      "22/05/09 16:22:45 WARN DAGScheduler: Broadcasting large task binary with size 1075.6 KiB\n",
      "22/05/09 16:22:45 WARN DAGScheduler: Broadcasting large task binary with size 1627.8 KiB\n",
      "22/05/09 16:22:45 WARN DAGScheduler: Broadcasting large task binary with size 1138.3 KiB\n",
      "22/05/09 16:22:47 WARN DAGScheduler: Broadcasting large task binary with size 1129.6 KiB\n",
      "22/05/09 16:22:47 WARN DAGScheduler: Broadcasting large task binary with size 1376.5 KiB\n",
      "22/05/09 16:22:47 WARN DAGScheduler: Broadcasting large task binary with size 1615.7 KiB\n",
      "22/05/09 16:22:47 WARN DAGScheduler: Broadcasting large task binary with size 1827.7 KiB\n",
      "22/05/09 16:22:47 WARN DAGScheduler: Broadcasting large task binary with size 2008.3 KiB\n",
      "22/05/09 16:22:47 WARN DAGScheduler: Broadcasting large task binary with size 2.1 MiB\n",
      "22/05/09 16:22:47 WARN DAGScheduler: Broadcasting large task binary with size 2.2 MiB\n",
      "22/05/09 16:22:48 WARN DAGScheduler: Broadcasting large task binary with size 2.3 MiB\n",
      "22/05/09 16:22:48 WARN DAGScheduler: Broadcasting large task binary with size 1472.0 KiB\n",
      "22/05/09 16:22:49 WARN DAGScheduler: Broadcasting large task binary with size 1068.7 KiB\n",
      "22/05/09 16:22:49 WARN DAGScheduler: Broadcasting large task binary with size 1625.0 KiB\n",
      "22/05/09 16:22:50 WARN DAGScheduler: Broadcasting large task binary with size 2.3 MiB\n",
      "22/05/09 16:22:50 WARN DAGScheduler: Broadcasting large task binary with size 3.2 MiB\n",
      "22/05/09 16:22:51 WARN DAGScheduler: Broadcasting large task binary with size 4.1 MiB\n",
      "22/05/09 16:22:51 WARN DAGScheduler: Broadcasting large task binary with size 5.1 MiB\n",
      "22/05/09 16:22:52 WARN DAGScheduler: Broadcasting large task binary with size 6.0 MiB\n",
      "22/05/09 16:22:52 WARN DAGScheduler: Broadcasting large task binary with size 6.8 MiB\n",
      "22/05/09 16:22:53 WARN DAGScheduler: Broadcasting large task binary with size 7.6 MiB\n",
      "22/05/09 16:22:54 WARN DAGScheduler: Broadcasting large task binary with size 8.1 MiB\n",
      "22/05/09 16:22:54 WARN DAGScheduler: Broadcasting large task binary with size 8.6 MiB\n",
      "22/05/09 16:22:55 WARN DAGScheduler: Broadcasting large task binary with size 8.9 MiB\n",
      "22/05/09 16:22:55 WARN DAGScheduler: Broadcasting large task binary with size 5.4 MiB\n",
      "22/05/09 16:22:57 WARN DAGScheduler: Broadcasting large task binary with size 1083.1 KiB\n",
      "22/05/09 16:22:57 WARN DAGScheduler: Broadcasting large task binary with size 1316.4 KiB\n",
      "22/05/09 16:22:57 WARN DAGScheduler: Broadcasting large task binary with size 1541.5 KiB\n",
      "22/05/09 16:22:57 WARN DAGScheduler: Broadcasting large task binary with size 1740.5 KiB\n",
      "22/05/09 16:22:57 WARN DAGScheduler: Broadcasting large task binary with size 1908.0 KiB\n",
      "22/05/09 16:22:57 WARN DAGScheduler: Broadcasting large task binary with size 2044.0 KiB\n",
      "22/05/09 16:22:57 WARN DAGScheduler: Broadcasting large task binary with size 2.1 MiB\n",
      "22/05/09 16:22:58 WARN DAGScheduler: Broadcasting large task binary with size 2.2 MiB\n",
      "22/05/09 16:22:58 WARN DAGScheduler: Broadcasting large task binary with size 1412.7 KiB\n",
      "22/05/09 16:22:59 WARN DAGScheduler: Broadcasting large task binary with size 1075.6 KiB\n",
      "22/05/09 16:23:00 WARN DAGScheduler: Broadcasting large task binary with size 1627.8 KiB\n",
      "22/05/09 16:23:00 WARN DAGScheduler: Broadcasting large task binary with size 2.3 MiB\n",
      "22/05/09 16:23:00 WARN DAGScheduler: Broadcasting large task binary with size 3.1 MiB\n",
      "22/05/09 16:23:01 WARN DAGScheduler: Broadcasting large task binary with size 4.0 MiB\n",
      "22/05/09 16:23:01 WARN DAGScheduler: Broadcasting large task binary with size 5.0 MiB\n",
      "22/05/09 16:23:02 WARN DAGScheduler: Broadcasting large task binary with size 5.8 MiB\n",
      "22/05/09 16:23:02 WARN DAGScheduler: Broadcasting large task binary with size 6.6 MiB\n",
      "22/05/09 16:23:03 WARN DAGScheduler: Broadcasting large task binary with size 7.3 MiB\n",
      "22/05/09 16:23:04 WARN DAGScheduler: Broadcasting large task binary with size 7.8 MiB\n",
      "22/05/09 16:23:04 WARN DAGScheduler: Broadcasting large task binary with size 8.2 MiB\n",
      "22/05/09 16:23:05 WARN DAGScheduler: Broadcasting large task binary with size 8.5 MiB\n",
      "22/05/09 16:23:05 WARN DAGScheduler: Broadcasting large task binary with size 5.2 MiB\n",
      "22/05/09 16:23:08 WARN DAGScheduler: Broadcasting large task binary with size 1084.4 KiB\n",
      "22/05/09 16:23:09 WARN DAGScheduler: Broadcasting large task binary with size 1647.0 KiB\n",
      "22/05/09 16:23:09 WARN DAGScheduler: Broadcasting large task binary with size 1116.8 KiB\n",
      "22/05/09 16:23:11 WARN DAGScheduler: Broadcasting large task binary with size 1077.5 KiB\n",
      "22/05/09 16:23:12 WARN DAGScheduler: Broadcasting large task binary with size 1629.2 KiB\n",
      "22/05/09 16:23:12 WARN DAGScheduler: Broadcasting large task binary with size 1135.7 KiB\n",
      "22/05/09 16:23:13 WARN DAGScheduler: Broadcasting large task binary with size 1116.2 KiB\n",
      "22/05/09 16:23:13 WARN DAGScheduler: Broadcasting large task binary with size 1363.7 KiB\n",
      "22/05/09 16:23:13 WARN DAGScheduler: Broadcasting large task binary with size 1598.7 KiB\n",
      "22/05/09 16:23:13 WARN DAGScheduler: Broadcasting large task binary with size 1806.5 KiB\n",
      "22/05/09 16:23:14 WARN DAGScheduler: Broadcasting large task binary with size 1987.6 KiB\n",
      "22/05/09 16:23:14 WARN DAGScheduler: Broadcasting large task binary with size 2.1 MiB\n",
      "22/05/09 16:23:14 WARN DAGScheduler: Broadcasting large task binary with size 2.2 MiB\n",
      "22/05/09 16:23:14 WARN DAGScheduler: Broadcasting large task binary with size 2.3 MiB\n",
      "22/05/09 16:23:14 WARN DAGScheduler: Broadcasting large task binary with size 1455.9 KiB\n",
      "22/05/09 16:23:16 WARN DAGScheduler: Broadcasting large task binary with size 1084.4 KiB\n",
      "22/05/09 16:23:16 WARN DAGScheduler: Broadcasting large task binary with size 1647.0 KiB\n",
      "22/05/09 16:23:16 WARN DAGScheduler: Broadcasting large task binary with size 2.3 MiB\n",
      "22/05/09 16:23:17 WARN DAGScheduler: Broadcasting large task binary with size 3.2 MiB\n",
      "22/05/09 16:23:17 WARN DAGScheduler: Broadcasting large task binary with size 4.1 MiB\n",
      "22/05/09 16:23:18 WARN DAGScheduler: Broadcasting large task binary with size 5.0 MiB\n",
      "22/05/09 16:23:18 WARN DAGScheduler: Broadcasting large task binary with size 5.9 MiB\n",
      "22/05/09 16:23:19 WARN DAGScheduler: Broadcasting large task binary with size 6.8 MiB\n",
      "22/05/09 16:23:19 WARN DAGScheduler: Broadcasting large task binary with size 7.5 MiB\n",
      "22/05/09 16:23:20 WARN DAGScheduler: Broadcasting large task binary with size 8.0 MiB\n",
      "22/05/09 16:23:20 WARN DAGScheduler: Broadcasting large task binary with size 8.4 MiB\n",
      "22/05/09 16:23:21 WARN DAGScheduler: Broadcasting large task binary with size 8.7 MiB\n",
      "22/05/09 16:23:22 WARN DAGScheduler: Broadcasting large task binary with size 5.4 MiB\n",
      "22/05/09 16:23:23 WARN DAGScheduler: Broadcasting large task binary with size 1055.6 KiB\n",
      "22/05/09 16:23:23 WARN DAGScheduler: Broadcasting large task binary with size 1279.2 KiB\n",
      "22/05/09 16:23:23 WARN DAGScheduler: Broadcasting large task binary with size 1494.9 KiB\n",
      "22/05/09 16:23:23 WARN DAGScheduler: Broadcasting large task binary with size 1692.8 KiB\n",
      "22/05/09 16:23:23 WARN DAGScheduler: Broadcasting large task binary with size 1863.1 KiB\n",
      "22/05/09 16:23:23 WARN DAGScheduler: Broadcasting large task binary with size 1999.7 KiB\n",
      "22/05/09 16:23:24 WARN DAGScheduler: Broadcasting large task binary with size 2.1 MiB\n",
      "22/05/09 16:23:24 WARN DAGScheduler: Broadcasting large task binary with size 2.1 MiB\n",
      "22/05/09 16:23:24 WARN DAGScheduler: Broadcasting large task binary with size 1387.2 KiB\n",
      "22/05/09 16:23:25 WARN DAGScheduler: Broadcasting large task binary with size 1077.5 KiB\n",
      "22/05/09 16:23:26 WARN DAGScheduler: Broadcasting large task binary with size 1629.2 KiB\n",
      "22/05/09 16:23:26 WARN DAGScheduler: Broadcasting large task binary with size 2.3 MiB\n",
      "22/05/09 16:23:26 WARN DAGScheduler: Broadcasting large task binary with size 3.1 MiB\n",
      "22/05/09 16:23:27 WARN DAGScheduler: Broadcasting large task binary with size 4.0 MiB\n",
      "22/05/09 16:23:27 WARN DAGScheduler: Broadcasting large task binary with size 4.8 MiB\n",
      "22/05/09 16:23:28 WARN DAGScheduler: Broadcasting large task binary with size 5.7 MiB\n",
      "22/05/09 16:23:28 WARN DAGScheduler: Broadcasting large task binary with size 6.4 MiB\n",
      "22/05/09 16:23:29 WARN DAGScheduler: Broadcasting large task binary with size 7.0 MiB\n",
      "22/05/09 16:23:29 WARN DAGScheduler: Broadcasting large task binary with size 7.5 MiB\n",
      "22/05/09 16:23:30 WARN DAGScheduler: Broadcasting large task binary with size 7.9 MiB\n",
      "22/05/09 16:23:30 WARN DAGScheduler: Broadcasting large task binary with size 8.2 MiB\n",
      "22/05/09 16:23:31 WARN DAGScheduler: Broadcasting large task binary with size 5.1 MiB\n",
      "22/05/09 16:23:34 WARN DAGScheduler: Broadcasting large task binary with size 1078.5 KiB\n",
      "22/05/09 16:23:34 WARN DAGScheduler: Broadcasting large task binary with size 1646.5 KiB\n",
      "22/05/09 16:23:35 WARN DAGScheduler: Broadcasting large task binary with size 1126.3 KiB\n",
      "22/05/09 16:23:37 WARN DAGScheduler: Broadcasting large task binary with size 1050.1 KiB\n",
      "22/05/09 16:23:37 WARN DAGScheduler: Broadcasting large task binary with size 1583.6 KiB\n",
      "22/05/09 16:23:38 WARN DAGScheduler: Broadcasting large task binary with size 1104.5 KiB\n",
      "22/05/09 16:23:39 WARN DAGScheduler: Broadcasting large task binary with size 1103.8 KiB\n",
      "22/05/09 16:23:39 WARN DAGScheduler: Broadcasting large task binary with size 1347.9 KiB\n",
      "22/05/09 16:23:39 WARN DAGScheduler: Broadcasting large task binary with size 1588.4 KiB\n",
      "22/05/09 16:23:39 WARN DAGScheduler: Broadcasting large task binary with size 1807.8 KiB\n",
      "22/05/09 16:23:39 WARN DAGScheduler: Broadcasting large task binary with size 2001.0 KiB\n",
      "22/05/09 16:23:39 WARN DAGScheduler: Broadcasting large task binary with size 2.1 MiB\n",
      "22/05/09 16:23:40 WARN DAGScheduler: Broadcasting large task binary with size 2.2 MiB\n",
      "22/05/09 16:23:40 WARN DAGScheduler: Broadcasting large task binary with size 2.3 MiB\n",
      "22/05/09 16:23:40 WARN DAGScheduler: Broadcasting large task binary with size 1461.0 KiB\n",
      "22/05/09 16:23:41 WARN DAGScheduler: Broadcasting large task binary with size 1078.5 KiB\n",
      "22/05/09 16:23:42 WARN DAGScheduler: Broadcasting large task binary with size 1646.5 KiB\n",
      "22/05/09 16:23:42 WARN DAGScheduler: Broadcasting large task binary with size 2.3 MiB\n",
      "22/05/09 16:23:42 WARN DAGScheduler: Broadcasting large task binary with size 3.2 MiB\n",
      "22/05/09 16:23:43 WARN DAGScheduler: Broadcasting large task binary with size 4.1 MiB\n",
      "22/05/09 16:23:43 WARN DAGScheduler: Broadcasting large task binary with size 5.1 MiB\n",
      "22/05/09 16:23:44 WARN DAGScheduler: Broadcasting large task binary with size 6.0 MiB\n",
      "22/05/09 16:23:44 WARN DAGScheduler: Broadcasting large task binary with size 6.9 MiB\n",
      "22/05/09 16:23:45 WARN DAGScheduler: Broadcasting large task binary with size 7.5 MiB\n",
      "22/05/09 16:23:45 WARN DAGScheduler: Broadcasting large task binary with size 8.1 MiB\n",
      "22/05/09 16:23:46 WARN DAGScheduler: Broadcasting large task binary with size 8.5 MiB\n",
      "22/05/09 16:23:47 WARN DAGScheduler: Broadcasting large task binary with size 8.8 MiB\n",
      "22/05/09 16:23:47 WARN DAGScheduler: Broadcasting large task binary with size 5.4 MiB\n",
      "22/05/09 16:23:48 WARN DAGScheduler: Broadcasting large task binary with size 1064.2 KiB\n",
      "22/05/09 16:23:48 WARN DAGScheduler: Broadcasting large task binary with size 1297.7 KiB\n",
      "22/05/09 16:23:49 WARN DAGScheduler: Broadcasting large task binary with size 1518.5 KiB\n",
      "22/05/09 16:23:49 WARN DAGScheduler: Broadcasting large task binary with size 1717.0 KiB\n",
      "22/05/09 16:23:49 WARN DAGScheduler: Broadcasting large task binary with size 1881.4 KiB\n",
      "22/05/09 16:23:49 WARN DAGScheduler: Broadcasting large task binary with size 2016.3 KiB\n",
      "22/05/09 16:23:49 WARN DAGScheduler: Broadcasting large task binary with size 2.1 MiB\n",
      "22/05/09 16:23:49 WARN DAGScheduler: Broadcasting large task binary with size 2.1 MiB\n",
      "22/05/09 16:23:49 WARN DAGScheduler: Broadcasting large task binary with size 1392.5 KiB\n",
      "22/05/09 16:23:51 WARN DAGScheduler: Broadcasting large task binary with size 1050.1 KiB\n",
      "22/05/09 16:23:51 WARN DAGScheduler: Broadcasting large task binary with size 1583.6 KiB\n",
      "22/05/09 16:23:51 WARN DAGScheduler: Broadcasting large task binary with size 2.2 MiB\n",
      "22/05/09 16:23:52 WARN DAGScheduler: Broadcasting large task binary with size 3.0 MiB\n",
      "22/05/09 16:23:52 WARN DAGScheduler: Broadcasting large task binary with size 3.9 MiB\n",
      "22/05/09 16:23:53 WARN DAGScheduler: Broadcasting large task binary with size 4.8 MiB\n",
      "22/05/09 16:23:53 WARN DAGScheduler: Broadcasting large task binary with size 5.6 MiB\n",
      "22/05/09 16:23:54 WARN DAGScheduler: Broadcasting large task binary with size 6.4 MiB\n",
      "22/05/09 16:23:54 WARN DAGScheduler: Broadcasting large task binary with size 7.1 MiB\n",
      "22/05/09 16:23:55 WARN DAGScheduler: Broadcasting large task binary with size 7.6 MiB\n",
      "22/05/09 16:23:55 WARN DAGScheduler: Broadcasting large task binary with size 8.0 MiB\n",
      "22/05/09 16:23:56 WARN DAGScheduler: Broadcasting large task binary with size 8.3 MiB\n",
      "22/05/09 16:23:57 WARN DAGScheduler: Broadcasting large task binary with size 5.1 MiB\n",
      "22/05/09 16:23:59 WARN DAGScheduler: Broadcasting large task binary with size 1058.2 KiB\n",
      "22/05/09 16:24:00 WARN DAGScheduler: Broadcasting large task binary with size 1610.8 KiB\n",
      "22/05/09 16:24:00 WARN DAGScheduler: Broadcasting large task binary with size 1089.5 KiB\n",
      "22/05/09 16:24:02 WARN DAGScheduler: Broadcasting large task binary with size 1063.4 KiB\n",
      "22/05/09 16:24:02 WARN DAGScheduler: Broadcasting large task binary with size 1611.2 KiB\n",
      "22/05/09 16:24:03 WARN DAGScheduler: Broadcasting large task binary with size 1113.0 KiB\n",
      "22/05/09 16:24:04 WARN DAGScheduler: Broadcasting large task binary with size 1130.3 KiB\n",
      "22/05/09 16:24:04 WARN DAGScheduler: Broadcasting large task binary with size 1382.1 KiB\n",
      "22/05/09 16:24:04 WARN DAGScheduler: Broadcasting large task binary with size 1613.8 KiB\n",
      "22/05/09 16:24:04 WARN DAGScheduler: Broadcasting large task binary with size 1820.9 KiB\n",
      "22/05/09 16:24:04 WARN DAGScheduler: Broadcasting large task binary with size 1997.2 KiB\n",
      "22/05/09 16:24:05 WARN DAGScheduler: Broadcasting large task binary with size 2.1 MiB\n",
      "22/05/09 16:24:05 WARN DAGScheduler: Broadcasting large task binary with size 2.2 MiB\n",
      "22/05/09 16:24:05 WARN DAGScheduler: Broadcasting large task binary with size 2.3 MiB\n",
      "22/05/09 16:24:05 WARN DAGScheduler: Broadcasting large task binary with size 1460.1 KiB\n",
      "22/05/09 16:24:06 WARN DAGScheduler: Broadcasting large task binary with size 1058.2 KiB\n",
      "22/05/09 16:24:07 WARN DAGScheduler: Broadcasting large task binary with size 1610.8 KiB\n",
      "22/05/09 16:24:07 WARN DAGScheduler: Broadcasting large task binary with size 2.3 MiB\n",
      "22/05/09 16:24:07 WARN DAGScheduler: Broadcasting large task binary with size 3.1 MiB\n",
      "22/05/09 16:24:08 WARN DAGScheduler: Broadcasting large task binary with size 4.1 MiB\n",
      "22/05/09 16:24:08 WARN DAGScheduler: Broadcasting large task binary with size 5.0 MiB\n",
      "22/05/09 16:24:09 WARN DAGScheduler: Broadcasting large task binary with size 5.9 MiB\n",
      "22/05/09 16:24:09 WARN DAGScheduler: Broadcasting large task binary with size 6.8 MiB\n",
      "22/05/09 16:24:10 WARN DAGScheduler: Broadcasting large task binary with size 7.5 MiB\n",
      "22/05/09 16:24:11 WARN DAGScheduler: Broadcasting large task binary with size 8.0 MiB\n",
      "22/05/09 16:24:11 WARN DAGScheduler: Broadcasting large task binary with size 8.4 MiB\n",
      "22/05/09 16:24:12 WARN DAGScheduler: Broadcasting large task binary with size 8.7 MiB\n",
      "22/05/09 16:24:12 WARN DAGScheduler: Broadcasting large task binary with size 5.4 MiB\n",
      "22/05/09 16:24:13 WARN DAGScheduler: Broadcasting large task binary with size 1097.8 KiB\n",
      "22/05/09 16:24:13 WARN DAGScheduler: Broadcasting large task binary with size 1332.1 KiB\n",
      "22/05/09 16:24:14 WARN DAGScheduler: Broadcasting large task binary with size 1553.0 KiB\n",
      "22/05/09 16:24:14 WARN DAGScheduler: Broadcasting large task binary with size 1747.7 KiB\n",
      "22/05/09 16:24:14 WARN DAGScheduler: Broadcasting large task binary with size 1917.7 KiB\n",
      "22/05/09 16:24:14 WARN DAGScheduler: Broadcasting large task binary with size 2.0 MiB\n",
      "22/05/09 16:24:14 WARN DAGScheduler: Broadcasting large task binary with size 2.1 MiB\n",
      "22/05/09 16:24:14 WARN DAGScheduler: Broadcasting large task binary with size 2.2 MiB\n",
      "22/05/09 16:24:14 WARN DAGScheduler: Broadcasting large task binary with size 1424.3 KiB\n",
      "22/05/09 16:24:16 WARN DAGScheduler: Broadcasting large task binary with size 1063.4 KiB\n",
      "22/05/09 16:24:16 WARN DAGScheduler: Broadcasting large task binary with size 1611.2 KiB\n",
      "22/05/09 16:24:16 WARN DAGScheduler: Broadcasting large task binary with size 2.3 MiB\n",
      "22/05/09 16:24:17 WARN DAGScheduler: Broadcasting large task binary with size 3.1 MiB\n",
      "22/05/09 16:24:17 WARN DAGScheduler: Broadcasting large task binary with size 3.9 MiB\n",
      "22/05/09 16:24:18 WARN DAGScheduler: Broadcasting large task binary with size 4.8 MiB\n",
      "22/05/09 16:24:18 WARN DAGScheduler: Broadcasting large task binary with size 5.7 MiB\n",
      "22/05/09 16:24:19 WARN DAGScheduler: Broadcasting large task binary with size 6.5 MiB\n",
      "22/05/09 16:24:19 WARN DAGScheduler: Broadcasting large task binary with size 7.1 MiB\n",
      "22/05/09 16:24:20 WARN DAGScheduler: Broadcasting large task binary with size 7.6 MiB\n",
      "22/05/09 16:24:20 WARN DAGScheduler: Broadcasting large task binary with size 8.1 MiB\n",
      "22/05/09 16:24:21 WARN DAGScheduler: Broadcasting large task binary with size 8.3 MiB\n",
      "22/05/09 16:24:22 WARN DAGScheduler: Broadcasting large task binary with size 5.1 MiB\n",
      "22/05/09 16:24:24 WARN DAGScheduler: Broadcasting large task binary with size 1106.7 KiB\n",
      "22/05/09 16:24:24 WARN DAGScheduler: Broadcasting large task binary with size 1719.1 KiB\n"
     ]
    },
    {
     "name": "stdout",
     "output_type": "stream",
     "text": [
      "CPU times: user 659 ms, sys: 223 ms, total: 882 ms\n",
      "Wall time: 2min 15s\n"
     ]
    }
   ],
   "source": [
    "%%time\n",
    "cv_model = cv.fit(train_df)"
   ]
  },
  {
   "cell_type": "code",
   "execution_count": 38,
   "metadata": {},
   "outputs": [],
   "source": [
    "best_rf_model = cv_model.bestModel"
   ]
  },
  {
   "cell_type": "code",
   "execution_count": 39,
   "metadata": {},
   "outputs": [
    {
     "data": {
      "text/plain": [
       "'Best Param(maxDepth): 10'"
      ]
     },
     "execution_count": 39,
     "metadata": {},
     "output_type": "execute_result"
    }
   ],
   "source": [
    "f'Best Param(maxDepth): {best_rf_model._java_obj.getMaxDepth()}'"
   ]
  },
  {
   "cell_type": "code",
   "execution_count": 40,
   "metadata": {},
   "outputs": [
    {
     "data": {
      "text/plain": [
       "'Best Param(maxBins): 30'"
      ]
     },
     "execution_count": 40,
     "metadata": {},
     "output_type": "execute_result"
    }
   ],
   "source": [
    "f'Best Param(maxBins): {best_rf_model._java_obj.getMaxBins()}'"
   ]
  },
  {
   "cell_type": "code",
   "execution_count": 41,
   "metadata": {},
   "outputs": [
    {
     "data": {
      "text/plain": [
       "'Best Param(NumTrees): 20'"
      ]
     },
     "execution_count": 41,
     "metadata": {},
     "output_type": "execute_result"
    }
   ],
   "source": [
    "f'Best Param(NumTrees): {best_rf_model._java_obj.getNumTrees()}'"
   ]
  },
  {
   "cell_type": "markdown",
   "metadata": {},
   "source": [
    "### Evaluate Tuned Model"
   ]
  },
  {
   "cell_type": "code",
   "execution_count": 42,
   "metadata": {},
   "outputs": [],
   "source": [
    "# Generate predictions for entire dataset\n",
    "model_predictions = best_rf_model.transform(test_df)"
   ]
  },
  {
   "cell_type": "code",
   "execution_count": 43,
   "metadata": {},
   "outputs": [
    {
     "name": "stderr",
     "output_type": "stream",
     "text": [
      "22/05/09 16:24:25 WARN DAGScheduler: Broadcasting large task binary with size 1172.3 KiB\n"
     ]
    }
   ],
   "source": [
    "best_rf_auc = evaluator.evaluate(model_predictions)"
   ]
  },
  {
   "cell_type": "code",
   "execution_count": 44,
   "metadata": {},
   "outputs": [
    {
     "data": {
      "text/plain": [
       "0.9690665508778045"
      ]
     },
     "execution_count": 44,
     "metadata": {},
     "output_type": "execute_result"
    }
   ],
   "source": [
    "best_rf_auc"
   ]
  },
  {
   "cell_type": "code",
   "execution_count": 45,
   "metadata": {},
   "outputs": [
    {
     "name": "stderr",
     "output_type": "stream",
     "text": [
      "22/05/09 16:24:25 WARN DAGScheduler: Broadcasting large task binary with size 1178.7 KiB\n"
     ]
    }
   ],
   "source": [
    "true_pos=model_predictions.filter(model_predictions['label']==1).filter(model_predictions['prediction']==1).count()"
   ]
  },
  {
   "cell_type": "code",
   "execution_count": 46,
   "metadata": {},
   "outputs": [],
   "source": [
    "actual_pos=model_predictions.filter(model_predictions['label']==1).count()"
   ]
  },
  {
   "cell_type": "code",
   "execution_count": 47,
   "metadata": {},
   "outputs": [
    {
     "name": "stderr",
     "output_type": "stream",
     "text": [
      "22/05/09 16:24:26 WARN DAGScheduler: Broadcasting large task binary with size 1180.8 KiB\n"
     ]
    }
   ],
   "source": [
    "pred_pos=model_predictions.filter(model_predictions['prediction']==1).count()"
   ]
  },
  {
   "cell_type": "code",
   "execution_count": 48,
   "metadata": {},
   "outputs": [
    {
     "data": {
      "text/plain": [
       "0.9105196982397318"
      ]
     },
     "execution_count": 48,
     "metadata": {},
     "output_type": "execute_result"
    }
   ],
   "source": [
    "#Recall \n",
    "float(true_pos)/(actual_pos)"
   ]
  },
  {
   "cell_type": "code",
   "execution_count": 49,
   "metadata": {},
   "outputs": [
    {
     "data": {
      "text/plain": [
       "0.849960876369327"
      ]
     },
     "execution_count": 49,
     "metadata": {},
     "output_type": "execute_result"
    }
   ],
   "source": [
    "#Precision on test Data \n",
    "float(true_pos)/(pred_pos)"
   ]
  }
 ],
 "metadata": {
  "kernelspec": {
   "display_name": "Python 3 (ipykernel)",
   "language": "python",
   "name": "python3"
  },
  "language_info": {
   "codemirror_mode": {
    "name": "ipython",
    "version": 3
   },
   "file_extension": ".py",
   "mimetype": "text/x-python",
   "name": "python",
   "nbconvert_exporter": "python",
   "pygments_lexer": "ipython3",
   "version": "3.8.10"
  }
 },
 "nbformat": 4,
 "nbformat_minor": 4
}
