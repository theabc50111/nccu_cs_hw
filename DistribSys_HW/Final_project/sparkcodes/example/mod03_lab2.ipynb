{
 "cells": [
  {
   "cell_type": "markdown",
   "metadata": {},
   "source": [
    "# Data Processing"
   ]
  },
  {
   "cell_type": "markdown",
   "metadata": {},
   "source": [
    "## Import modules"
   ]
  },
  {
   "cell_type": "code",
   "execution_count": 1,
   "metadata": {},
   "outputs": [],
   "source": [
    "# import SparkSession\n",
    "from pyspark.sql import SparkSession"
   ]
  },
  {
   "cell_type": "code",
   "execution_count": 2,
   "metadata": {},
   "outputs": [],
   "source": [
    "import pyspark.sql.functions as fn\n",
    "from pyspark.sql.types import StringType,DoubleType,IntegerType"
   ]
  },
  {
   "cell_type": "markdown",
   "metadata": {},
   "source": [
    "## Set spark session"
   ]
  },
  {
   "cell_type": "code",
   "execution_count": 3,
   "metadata": {},
   "outputs": [
    {
     "data": {
      "text/plain": [
       "'PySparkShell'"
      ]
     },
     "execution_count": 3,
     "metadata": {},
     "output_type": "execute_result"
    }
   ],
   "source": [
    "spark.sparkContext.appName"
   ]
  },
  {
   "cell_type": "markdown",
   "metadata": {},
   "source": [
    "## Load data"
   ]
  },
  {
   "cell_type": "code",
   "execution_count": 4,
   "metadata": {},
   "outputs": [
    {
     "name": "stderr",
     "output_type": "stream",
     "text": [
      "22/05/10 17:47:33 WARN TaskSchedulerImpl: Initial job has not accepted any resources; check your cluster UI to ensure that workers are registered and have sufficient resources\n",
      "22/05/10 17:47:48 WARN TaskSchedulerImpl: Initial job has not accepted any resources; check your cluster UI to ensure that workers are registered and have sufficient resources\n",
      "22/05/10 17:48:03 WARN TaskSchedulerImpl: Initial job has not accepted any resources; check your cluster UI to ensure that workers are registered and have sufficient resources\n",
      "22/05/10 17:48:18 WARN TaskSchedulerImpl: Initial job has not accepted any resources; check your cluster UI to ensure that workers are registered and have sufficient resources\n",
      "                                                                                \r"
     ]
    }
   ],
   "source": [
    "# Load csv Dataset \n",
    "df=spark.read.csv('data/sample_data.csv',inferSchema=True,header=True)\n",
    "df.createOrReplaceTempView(\"dfTable\")"
   ]
  },
  {
   "cell_type": "markdown",
   "metadata": {},
   "source": [
    "## Inspect data"
   ]
  },
  {
   "cell_type": "code",
   "execution_count": 5,
   "metadata": {},
   "outputs": [
    {
     "data": {
      "text/plain": [
       "['ratings', 'age', 'experience', 'family', 'mobile']"
      ]
     },
     "execution_count": 5,
     "metadata": {},
     "output_type": "execute_result"
    }
   ],
   "source": [
    "# columns of dataframe\n",
    "df.columns"
   ]
  },
  {
   "cell_type": "code",
   "execution_count": 6,
   "metadata": {},
   "outputs": [
    {
     "name": "stderr",
     "output_type": "stream",
     "text": [
      "                                                                                \r"
     ]
    },
    {
     "data": {
      "text/plain": [
       "(33, 5)"
      ]
     },
     "execution_count": 6,
     "metadata": {},
     "output_type": "execute_result"
    }
   ],
   "source": [
    "# shape of dataset\n",
    "df.count(),len(df.columns)"
   ]
  },
  {
   "cell_type": "code",
   "execution_count": 7,
   "metadata": {},
   "outputs": [
    {
     "name": "stdout",
     "output_type": "stream",
     "text": [
      "root\n",
      " |-- ratings: integer (nullable = true)\n",
      " |-- age: integer (nullable = true)\n",
      " |-- experience: double (nullable = true)\n",
      " |-- family: integer (nullable = true)\n",
      " |-- mobile: string (nullable = true)\n",
      "\n"
     ]
    }
   ],
   "source": [
    "# print dataframe schema\n",
    "df.printSchema()"
   ]
  },
  {
   "cell_type": "code",
   "execution_count": 8,
   "metadata": {},
   "outputs": [
    {
     "name": "stdout",
     "output_type": "stream",
     "text": [
      "+-------+---+----------+------+-------+\n",
      "|ratings|age|experience|family| mobile|\n",
      "+-------+---+----------+------+-------+\n",
      "|      3| 32|       9.0|     3|   Vivo|\n",
      "|      3| 27|      13.0|     3|  Apple|\n",
      "|      4| 22|       2.5|     0|Samsung|\n",
      "|      4| 37|      16.5|     4|  Apple|\n",
      "|      5| 27|       9.0|     1|     MI|\n",
      "|      4| 27|       9.0|     0|   Oppo|\n",
      "|      5| 37|      23.0|     5|   Vivo|\n",
      "|      5| 37|      23.0|     5|Samsung|\n",
      "|      3| 22|       2.5|     0|  Apple|\n",
      "|      3| 27|       6.0|     0|     MI|\n",
      "|      2| 27|       6.0|     2|   Oppo|\n",
      "|      5| 27|       6.0|     2|Samsung|\n",
      "|      3| 37|      16.5|     5|  Apple|\n",
      "|      5| 27|       6.0|     0|     MI|\n",
      "|      4| 22|       6.0|     1|   Oppo|\n",
      "|      4| 37|       9.0|     2|Samsung|\n",
      "|      4| 27|       6.0|     1|  Apple|\n",
      "|      1| 37|      23.0|     5|     MI|\n",
      "|      2| 42|      23.0|     2|   Oppo|\n",
      "|      4| 37|       6.0|     0|   Vivo|\n",
      "+-------+---+----------+------+-------+\n",
      "only showing top 20 rows\n",
      "\n"
     ]
    }
   ],
   "source": [
    "# display fisrt few rows of dataframe\n",
    "df.show()\n",
    "#df.show(10)"
   ]
  },
  {
   "cell_type": "markdown",
   "metadata": {},
   "source": [
    "## Grouping data"
   ]
  },
  {
   "cell_type": "code",
   "execution_count": 9,
   "metadata": {},
   "outputs": [
    {
     "name": "stdout",
     "output_type": "stream",
     "text": [
      "+-------+-----+\n",
      "| mobile|count|\n",
      "+-------+-----+\n",
      "|     MI|    8|\n",
      "|   Oppo|    7|\n",
      "|Samsung|    6|\n",
      "|   Vivo|    5|\n",
      "|  Apple|    7|\n",
      "+-------+-----+\n",
      "\n"
     ]
    }
   ],
   "source": [
    "# group by one column\n",
    "df.groupBy('mobile').count().show(5)"
   ]
  },
  {
   "cell_type": "code",
   "execution_count": 10,
   "metadata": {},
   "outputs": [
    {
     "name": "stdout",
     "output_type": "stream",
     "text": [
      "+-------+-----+\n",
      "| mobile|count|\n",
      "+-------+-----+\n",
      "|     MI|    8|\n",
      "|  Apple|    7|\n",
      "|   Oppo|    7|\n",
      "|Samsung|    6|\n",
      "|   Vivo|    5|\n",
      "+-------+-----+\n",
      "\n"
     ]
    }
   ],
   "source": [
    "# sort value counts\n",
    "df.groupBy('mobile').count().orderBy('count',ascending=False).show(5)"
   ]
  },
  {
   "cell_type": "code",
   "execution_count": 11,
   "metadata": {},
   "outputs": [
    {
     "name": "stdout",
     "output_type": "stream",
     "text": [
      "+-------+------------------+------------------+------------------+------------------+\n",
      "| mobile|      avg(ratings)|          avg(age)|   avg(experience)|       avg(family)|\n",
      "+-------+------------------+------------------+------------------+------------------+\n",
      "|     MI|               3.5|            30.125|           10.1875|             1.375|\n",
      "|   Oppo| 2.857142857142857|28.428571428571427|10.357142857142858|1.4285714285714286|\n",
      "|Samsung| 4.166666666666667|28.666666666666668| 8.666666666666666|1.8333333333333333|\n",
      "|   Vivo|               4.2|              36.0|              11.4|               1.8|\n",
      "|  Apple|3.4285714285714284|30.571428571428573|              11.0|2.7142857142857144|\n",
      "+-------+------------------+------------------+------------------+------------------+\n",
      "\n"
     ]
    }
   ],
   "source": [
    "# calculate statistical measures\n",
    "df.groupBy('mobile').mean().show(5)"
   ]
  },
  {
   "cell_type": "code",
   "execution_count": 12,
   "metadata": {},
   "outputs": [
    {
     "name": "stdout",
     "output_type": "stream",
     "text": [
      "+-------+------------+--------+---------------+-----------+\n",
      "| mobile|sum(ratings)|sum(age)|sum(experience)|sum(family)|\n",
      "+-------+------------+--------+---------------+-----------+\n",
      "|     MI|          28|     241|           81.5|         11|\n",
      "|   Oppo|          20|     199|           72.5|         10|\n",
      "|Samsung|          25|     172|           52.0|         11|\n",
      "|   Vivo|          21|     180|           57.0|          9|\n",
      "|  Apple|          24|     214|           77.0|         19|\n",
      "+-------+------------+--------+---------------+-----------+\n",
      "\n"
     ]
    }
   ],
   "source": [
    "# calculate statistical measures\n",
    "df.groupBy('mobile').sum().show()"
   ]
  },
  {
   "cell_type": "code",
   "execution_count": 13,
   "metadata": {},
   "outputs": [
    {
     "name": "stdout",
     "output_type": "stream",
     "text": [
      "+-------+------------+--------+---------------+-----------+\n",
      "| mobile|max(ratings)|max(age)|max(experience)|max(family)|\n",
      "+-------+------------+--------+---------------+-----------+\n",
      "|     MI|           5|      42|           23.0|          5|\n",
      "|   Oppo|           4|      42|           23.0|          2|\n",
      "|Samsung|           5|      37|           23.0|          5|\n",
      "|   Vivo|           5|      37|           23.0|          5|\n",
      "|  Apple|           4|      37|           16.5|          5|\n",
      "+-------+------------+--------+---------------+-----------+\n",
      "\n"
     ]
    }
   ],
   "source": [
    "# calculate statistical measures\n",
    "df.groupBy('mobile').max().show()"
   ]
  },
  {
   "cell_type": "code",
   "execution_count": 14,
   "metadata": {},
   "outputs": [
    {
     "name": "stdout",
     "output_type": "stream",
     "text": [
      "+-------+------------+--------+---------------+-----------+\n",
      "| mobile|min(ratings)|min(age)|min(experience)|min(family)|\n",
      "+-------+------------+--------+---------------+-----------+\n",
      "|     MI|           1|      27|            2.5|          0|\n",
      "|   Oppo|           2|      22|            6.0|          0|\n",
      "|Samsung|           2|      22|            2.5|          0|\n",
      "|   Vivo|           3|      32|            6.0|          0|\n",
      "|  Apple|           3|      22|            2.5|          0|\n",
      "+-------+------------+--------+---------------+-----------+\n",
      "\n"
     ]
    }
   ],
   "source": [
    "# calculate statistical measures\n",
    "df.groupBy('mobile').min().show()"
   ]
  },
  {
   "cell_type": "code",
   "execution_count": 15,
   "metadata": {},
   "outputs": [
    {
     "name": "stdout",
     "output_type": "stream",
     "text": [
      "+-------+-----+\n",
      "| mobile|count|\n",
      "+-------+-----+\n",
      "|     MI|    8|\n",
      "|   Oppo|    7|\n",
      "|Samsung|    6|\n",
      "|   Vivo|    5|\n",
      "|  Apple|    7|\n",
      "+-------+-----+\n",
      "\n"
     ]
    }
   ],
   "source": [
    "# use spark sql\n",
    "spark.sql('''select mobile, count(*) as count from dfTable\n",
    "        group by mobile''').show()"
   ]
  },
  {
   "cell_type": "code",
   "execution_count": 16,
   "metadata": {},
   "outputs": [
    {
     "name": "stdout",
     "output_type": "stream",
     "text": [
      "+-------+---------------+--------+\n",
      "| mobile|min(experience)|min(age)|\n",
      "+-------+---------------+--------+\n",
      "|     MI|            2.5|      27|\n",
      "|   Oppo|            6.0|      22|\n",
      "|Samsung|            2.5|      22|\n",
      "|   Vivo|            6.0|      32|\n",
      "|  Apple|            2.5|      22|\n",
      "+-------+---------------+--------+\n",
      "\n"
     ]
    }
   ],
   "source": [
    "# use spark sql\n",
    "spark.sql('''select mobile, min(experience), min(age) from dfTable\n",
    "        group by mobile''').show()"
   ]
  },
  {
   "cell_type": "code",
   "execution_count": 17,
   "metadata": {},
   "outputs": [
    {
     "name": "stdout",
     "output_type": "stream",
     "text": [
      "+-------+---------------+\n",
      "| mobile|sum(experience)|\n",
      "+-------+---------------+\n",
      "|     MI|           81.5|\n",
      "|   Oppo|           72.5|\n",
      "|Samsung|           52.0|\n",
      "|   Vivo|           57.0|\n",
      "|  Apple|           77.0|\n",
      "+-------+---------------+\n",
      "\n"
     ]
    }
   ],
   "source": [
    "# Aggregation\n",
    "df.groupBy('mobile').agg({'experience':'sum'}).show()"
   ]
  },
  {
   "cell_type": "markdown",
   "metadata": {},
   "source": [
    "## Load and Inspect data"
   ]
  },
  {
   "cell_type": "code",
   "execution_count": 18,
   "metadata": {},
   "outputs": [
    {
     "name": "stderr",
     "output_type": "stream",
     "text": [
      "                                                                                \r"
     ]
    }
   ],
   "source": [
    "# Load csv Dataset\n",
    "rtdf=spark.read.csv('data/online_retail_dataset.csv',inferSchema=True,header=True)\n",
    "rtdf.createOrReplaceTempView(\"rtTable\")"
   ]
  },
  {
   "cell_type": "code",
   "execution_count": 19,
   "metadata": {},
   "outputs": [
    {
     "data": {
      "text/plain": [
       "['InvoiceNo',\n",
       " 'StockCode',\n",
       " 'Description',\n",
       " 'Quantity',\n",
       " 'InvoiceDate',\n",
       " 'UnitPrice',\n",
       " 'CustomerID',\n",
       " 'Country']"
      ]
     },
     "execution_count": 19,
     "metadata": {},
     "output_type": "execute_result"
    }
   ],
   "source": [
    "# columns of dataframe\n",
    "rtdf.columns"
   ]
  },
  {
   "cell_type": "code",
   "execution_count": 20,
   "metadata": {},
   "outputs": [
    {
     "data": {
      "text/plain": [
       "(541909, 8)"
      ]
     },
     "execution_count": 20,
     "metadata": {},
     "output_type": "execute_result"
    }
   ],
   "source": [
    "# shape of dataset\n",
    "rtdf.count(),len(rtdf.columns)"
   ]
  },
  {
   "cell_type": "code",
   "execution_count": 21,
   "metadata": {},
   "outputs": [
    {
     "name": "stdout",
     "output_type": "stream",
     "text": [
      "root\n",
      " |-- InvoiceNo: string (nullable = true)\n",
      " |-- StockCode: string (nullable = true)\n",
      " |-- Description: string (nullable = true)\n",
      " |-- Quantity: integer (nullable = true)\n",
      " |-- InvoiceDate: string (nullable = true)\n",
      " |-- UnitPrice: double (nullable = true)\n",
      " |-- CustomerID: integer (nullable = true)\n",
      " |-- Country: string (nullable = true)\n",
      "\n"
     ]
    }
   ],
   "source": [
    "# print dataframe schema\n",
    "rtdf.printSchema()"
   ]
  },
  {
   "cell_type": "code",
   "execution_count": 22,
   "metadata": {},
   "outputs": [
    {
     "name": "stdout",
     "output_type": "stream",
     "text": [
      "+---------+---------+--------------------+--------+--------------+---------+----------+--------------+\n",
      "|InvoiceNo|StockCode|         Description|Quantity|   InvoiceDate|UnitPrice|CustomerID|       Country|\n",
      "+---------+---------+--------------------+--------+--------------+---------+----------+--------------+\n",
      "|   536365|   85123A|WHITE HANGING HEA...|       6|12/1/2010 8:26|     2.55|     17850|United Kingdom|\n",
      "|   536365|    71053| WHITE METAL LANTERN|       6|12/1/2010 8:26|     3.39|     17850|United Kingdom|\n",
      "|   536365|   84406B|CREAM CUPID HEART...|       8|12/1/2010 8:26|     2.75|     17850|United Kingdom|\n",
      "|   536365|   84029G|KNITTED UNION FLA...|       6|12/1/2010 8:26|     3.39|     17850|United Kingdom|\n",
      "|   536365|   84029E|RED WOOLLY HOTTIE...|       6|12/1/2010 8:26|     3.39|     17850|United Kingdom|\n",
      "|   536365|    22752|SET 7 BABUSHKA NE...|       2|12/1/2010 8:26|     7.65|     17850|United Kingdom|\n",
      "|   536365|    21730|GLASS STAR FROSTE...|       6|12/1/2010 8:26|     4.25|     17850|United Kingdom|\n",
      "|   536366|    22633|HAND WARMER UNION...|       6|12/1/2010 8:28|     1.85|     17850|United Kingdom|\n",
      "|   536366|    22632|HAND WARMER RED P...|       6|12/1/2010 8:28|     1.85|     17850|United Kingdom|\n",
      "|   536367|    84879|ASSORTED COLOUR B...|      32|12/1/2010 8:34|     1.69|     13047|United Kingdom|\n",
      "|   536367|    22745|POPPY'S PLAYHOUSE...|       6|12/1/2010 8:34|      2.1|     13047|United Kingdom|\n",
      "|   536367|    22748|POPPY'S PLAYHOUSE...|       6|12/1/2010 8:34|      2.1|     13047|United Kingdom|\n",
      "|   536367|    22749|FELTCRAFT PRINCES...|       8|12/1/2010 8:34|     3.75|     13047|United Kingdom|\n",
      "|   536367|    22310|IVORY KNITTED MUG...|       6|12/1/2010 8:34|     1.65|     13047|United Kingdom|\n",
      "|   536367|    84969|BOX OF 6 ASSORTED...|       6|12/1/2010 8:34|     4.25|     13047|United Kingdom|\n",
      "|   536367|    22623|BOX OF VINTAGE JI...|       3|12/1/2010 8:34|     4.95|     13047|United Kingdom|\n",
      "|   536367|    22622|BOX OF VINTAGE AL...|       2|12/1/2010 8:34|     9.95|     13047|United Kingdom|\n",
      "|   536367|    21754|HOME BUILDING BLO...|       3|12/1/2010 8:34|     5.95|     13047|United Kingdom|\n",
      "|   536367|    21755|LOVE BUILDING BLO...|       3|12/1/2010 8:34|     5.95|     13047|United Kingdom|\n",
      "|   536367|    21777|RECIPE BOX WITH M...|       4|12/1/2010 8:34|     7.95|     13047|United Kingdom|\n",
      "+---------+---------+--------------------+--------+--------------+---------+----------+--------------+\n",
      "only showing top 20 rows\n",
      "\n"
     ]
    }
   ],
   "source": [
    "# display fisrt few rows of dataframe\n",
    "rtdf.show()\n",
    "#rtdf.show(10)"
   ]
  },
  {
   "cell_type": "code",
   "execution_count": 23,
   "metadata": {},
   "outputs": [
    {
     "name": "stdout",
     "output_type": "stream",
     "text": [
      "+----------------+\n",
      "|count(StockCode)|\n",
      "+----------------+\n",
      "|          541909|\n",
      "+----------------+\n",
      "\n"
     ]
    }
   ],
   "source": [
    "# counting\n",
    "rtdf.select(fn.count('StockCode')).show() "
   ]
  },
  {
   "cell_type": "code",
   "execution_count": 24,
   "metadata": {},
   "outputs": [
    {
     "name": "stdout",
     "output_type": "stream",
     "text": [
      "+-------------------------+\n",
      "|count(DISTINCT StockCode)|\n",
      "+-------------------------+\n",
      "|                     4070|\n",
      "+-------------------------+\n",
      "\n"
     ]
    }
   ],
   "source": [
    "# distinct count\n",
    "rtdf.select(fn.countDistinct('StockCode')).show()"
   ]
  },
  {
   "cell_type": "code",
   "execution_count": 25,
   "metadata": {},
   "outputs": [
    {
     "name": "stdout",
     "output_type": "stream",
     "text": [
      "+-------------+-------------+\n",
      "|min(Quantity)|max(Quantity)|\n",
      "+-------------+-------------+\n",
      "|       -80995|        80995|\n",
      "+-------------+-------------+\n",
      "\n"
     ]
    }
   ],
   "source": [
    "# get minimun and maximun\n",
    "rtdf.select(fn.min(\"Quantity\"), fn.max(\"Quantity\")).show()"
   ]
  },
  {
   "cell_type": "code",
   "execution_count": 26,
   "metadata": {},
   "outputs": [
    {
     "name": "stdout",
     "output_type": "stream",
     "text": [
      "+-----------------+------------------+--------------------+---------------------+\n",
      "|var_pop(Quantity)|var_samp(Quantity)|stddev_pop(Quantity)|stddev_samp(Quantity)|\n",
      "+-----------------+------------------+--------------------+---------------------+\n",
      "|47559.30364660883| 47559.39140929852|  218.08095663447745|   218.08115785023364|\n",
      "+-----------------+------------------+--------------------+---------------------+\n",
      "\n"
     ]
    }
   ],
   "source": [
    "# Variance and Standard Deviation\n",
    "rtdf.select(fn.var_pop('Quantity'), fn.var_samp('Quantity'),\n",
    "        fn.stddev_pop('Quantity'), fn.stddev_samp('Quantity')).show()"
   ]
  },
  {
   "cell_type": "code",
   "execution_count": 27,
   "metadata": {},
   "outputs": [
    {
     "name": "stdout",
     "output_type": "stream",
     "text": [
      "+----------------+\n",
      "|count(StockCode)|\n",
      "+----------------+\n",
      "|          541909|\n",
      "+----------------+\n",
      "\n"
     ]
    }
   ],
   "source": [
    "# use sql\n",
    "spark.sql('''select count(StockCode) from rtTable''').show()"
   ]
  },
  {
   "cell_type": "code",
   "execution_count": 28,
   "metadata": {},
   "outputs": [
    {
     "name": "stdout",
     "output_type": "stream",
     "text": [
      "+-------------------------+-------------------------------+------------------------------+\n",
      "|corr(InvoiceNo, Quantity)|covar_samp(InvoiceNo, Quantity)|covar_pop(InvoiceNo, Quantity)|\n",
      "+-------------------------+-------------------------------+------------------------------+\n",
      "|     4.912186085646314E-4|             1052.7280543926051|             1052.726077876501|\n",
      "+-------------------------+-------------------------------+------------------------------+\n",
      "\n"
     ]
    }
   ],
   "source": [
    "# Covariance and Correlation\n",
    "rtdf.select(fn.corr('InvoiceNo', 'Quantity'), fn.covar_samp('InvoiceNo', 'Quantity'),\n",
    "        fn.covar_pop('InvoiceNo', 'Quantity')).show()"
   ]
  },
  {
   "cell_type": "code",
   "execution_count": 29,
   "metadata": {},
   "outputs": [
    {
     "name": "stdout",
     "output_type": "stream",
     "text": [
      "+---------+----------+-----+\n",
      "|InvoiceNo|CustomerId|count|\n",
      "+---------+----------+-----+\n",
      "|   545165|     16339|   20|\n",
      "|   545289|     14732|   30|\n",
      "|   545853|     16517|   17|\n",
      "|   546236|     12370|   48|\n",
      "|   546640|     14092|   13|\n",
      "+---------+----------+-----+\n",
      "only showing top 5 rows\n",
      "\n"
     ]
    }
   ],
   "source": [
    "# count with groupby\n",
    "rtdf.groupBy(\"InvoiceNo\", \"CustomerId\").count().show(5)"
   ]
  },
  {
   "cell_type": "code",
   "execution_count": 30,
   "metadata": {},
   "outputs": [
    {
     "name": "stdout",
     "output_type": "stream",
     "text": [
      "+---------+---------------+\n",
      "|InvoiceNo|count(Quantity)|\n",
      "+---------+---------------+\n",
      "|   536596|              6|\n",
      "|   536938|             14|\n",
      "|   537252|              1|\n",
      "|   537691|             20|\n",
      "|   538041|              1|\n",
      "+---------+---------------+\n",
      "only showing top 5 rows\n",
      "\n"
     ]
    }
   ],
   "source": [
    "# agg function\n",
    "rtdf.groupBy('InvoiceNo').agg({'Quantity':'count'}).show(5)"
   ]
  },
  {
   "cell_type": "code",
   "execution_count": 31,
   "metadata": {},
   "outputs": [
    {
     "name": "stdout",
     "output_type": "stream",
     "text": [
      "+---------+----+---------------+\n",
      "|InvoiceNo|quan|count(Quantity)|\n",
      "+---------+----+---------------+\n",
      "|   545583|  16|             16|\n",
      "|  C546174|   1|              1|\n",
      "|   547122|  16|             16|\n",
      "|   547557|   1|              1|\n",
      "|   548542|   8|              8|\n",
      "+---------+----+---------------+\n",
      "only showing top 5 rows\n",
      "\n"
     ]
    }
   ],
   "source": [
    "# agg function\n",
    "rtdf.groupBy('InvoiceNo').agg(fn.count('Quantity').alias('quan'),\n",
    "        fn.expr('count(Quantity)')).show(5)"
   ]
  },
  {
   "cell_type": "code",
   "execution_count": 32,
   "metadata": {},
   "outputs": [
    {
     "name": "stdout",
     "output_type": "stream",
     "text": [
      "+---------+--------------+-------------+\n",
      "|InvoiceNo|max(UnitPrice)|min(Quantity)|\n",
      "+---------+--------------+-------------+\n",
      "|  C540850|          1.25|           -1|\n",
      "|   540976|          18.0|            2|\n",
      "|   541432|          4.95|            3|\n",
      "|   541518|         14.95|            2|\n",
      "|   541783|         16.95|            1|\n",
      "+---------+--------------+-------------+\n",
      "only showing top 5 rows\n",
      "\n"
     ]
    }
   ],
   "source": [
    "# agg function\n",
    "rtdf.groupBy('InvoiceNo').agg({'Quantity':'min', 'UnitPrice':'max'}).show(5)"
   ]
  },
  {
   "cell_type": "code",
   "execution_count": 33,
   "metadata": {},
   "outputs": [
    {
     "name": "stdout",
     "output_type": "stream",
     "text": [
      "+---------+-------------+-------------+\n",
      "|InvoiceNo|max(Quantity)|min(Quantity)|\n",
      "+---------+-------------+-------------+\n",
      "|  C540850|           -1|           -1|\n",
      "|   540976|           24|            2|\n",
      "|   541432|           30|            3|\n",
      "|   541518|          120|            2|\n",
      "|   541783|           36|            1|\n",
      "+---------+-------------+-------------+\n",
      "only showing top 5 rows\n",
      "\n"
     ]
    }
   ],
   "source": [
    "# agg function\n",
    "rtdf.groupBy('InvoiceNo').agg(fn.max('Quantity'),\n",
    "        fn.min('Quantity')).show(5)"
   ]
  },
  {
   "cell_type": "markdown",
   "metadata": {},
   "source": [
    "## UDF"
   ]
  },
  {
   "cell_type": "code",
   "execution_count": 34,
   "metadata": {},
   "outputs": [],
   "source": [
    "# UDF\n",
    "from pyspark.sql.functions import udf"
   ]
  },
  {
   "cell_type": "code",
   "execution_count": 35,
   "metadata": {},
   "outputs": [],
   "source": [
    "# normal function \n",
    "def price_range(brand):\n",
    "    if brand in ['Samsung','Apple']:\n",
    "        return 'High Price'\n",
    "    elif brand =='MI':\n",
    "        return 'Mid Price'\n",
    "    else:\n",
    "        return 'Low Price'"
   ]
  },
  {
   "cell_type": "code",
   "execution_count": 36,
   "metadata": {},
   "outputs": [],
   "source": [
    "# create udf using python function\n",
    "brand_udf=udf(price_range,StringType())"
   ]
  },
  {
   "cell_type": "code",
   "execution_count": 37,
   "metadata": {},
   "outputs": [
    {
     "name": "stdout",
     "output_type": "stream",
     "text": [
      "+-------+---+----------+------+-------+-----------+\n",
      "|ratings|age|experience|family|mobile |price_range|\n",
      "+-------+---+----------+------+-------+-----------+\n",
      "|3      |32 |9.0       |3     |Vivo   |Low Price  |\n",
      "|3      |27 |13.0      |3     |Apple  |High Price |\n",
      "|4      |22 |2.5       |0     |Samsung|High Price |\n",
      "|4      |37 |16.5      |4     |Apple  |High Price |\n",
      "|5      |27 |9.0       |1     |MI     |Mid Price  |\n",
      "|4      |27 |9.0       |0     |Oppo   |Low Price  |\n",
      "|5      |37 |23.0      |5     |Vivo   |Low Price  |\n",
      "|5      |37 |23.0      |5     |Samsung|High Price |\n",
      "|3      |22 |2.5       |0     |Apple  |High Price |\n",
      "|3      |27 |6.0       |0     |MI     |Mid Price  |\n",
      "+-------+---+----------+------+-------+-----------+\n",
      "only showing top 10 rows\n",
      "\n"
     ]
    }
   ],
   "source": [
    "# apply udf on dataframe\n",
    "df.withColumn('price_range',brand_udf(df['mobile'])).show(10,False)"
   ]
  },
  {
   "cell_type": "code",
   "execution_count": 38,
   "metadata": {},
   "outputs": [],
   "source": [
    "# using lambda function\n",
    "age_udf = udf(lambda age: \"young\" if age <= 30 else \"senior\", StringType())"
   ]
  },
  {
   "cell_type": "code",
   "execution_count": 39,
   "metadata": {},
   "outputs": [
    {
     "name": "stdout",
     "output_type": "stream",
     "text": [
      "+-------+---+----------+------+-------+---------+\n",
      "|ratings|age|experience|family| mobile|age_group|\n",
      "+-------+---+----------+------+-------+---------+\n",
      "|      3| 32|       9.0|     3|   Vivo|   senior|\n",
      "|      3| 27|      13.0|     3|  Apple|    young|\n",
      "|      4| 22|       2.5|     0|Samsung|    young|\n",
      "|      4| 37|      16.5|     4|  Apple|   senior|\n",
      "|      5| 27|       9.0|     1|     MI|    young|\n",
      "|      4| 27|       9.0|     0|   Oppo|    young|\n",
      "|      5| 37|      23.0|     5|   Vivo|   senior|\n",
      "|      5| 37|      23.0|     5|Samsung|   senior|\n",
      "|      3| 22|       2.5|     0|  Apple|    young|\n",
      "|      3| 27|       6.0|     0|     MI|    young|\n",
      "+-------+---+----------+------+-------+---------+\n",
      "only showing top 10 rows\n",
      "\n"
     ]
    }
   ],
   "source": [
    "# apply udf on dataframe\n",
    "df.withColumn(\"age_group\", age_udf(df.age)).show(10)"
   ]
  },
  {
   "cell_type": "markdown",
   "metadata": {},
   "source": [
    "## Saving file"
   ]
  },
  {
   "cell_type": "code",
   "execution_count": 40,
   "metadata": {
    "scrolled": true
   },
   "outputs": [],
   "source": [
    "# save the dataframe as single csv \n",
    "df.coalesce(1).write.csv('data/df_data.csv', header='True', mode='overwrite')"
   ]
  },
  {
   "cell_type": "code",
   "execution_count": 41,
   "metadata": {},
   "outputs": [
    {
     "name": "stderr",
     "output_type": "stream",
     "text": [
      "                                                                                \r"
     ]
    }
   ],
   "source": [
    "# save the data into parquet format \n",
    "rtdf.write.parquet('data/retail_dataset_parquet', mode='overwrite')"
   ]
  },
  {
   "cell_type": "code",
   "execution_count": 42,
   "metadata": {},
   "outputs": [],
   "source": [
    "# read the data from parquet format \n",
    "rtdf2=spark.read.parquet('data/retail_dataset_parquet')"
   ]
  },
  {
   "cell_type": "code",
   "execution_count": 43,
   "metadata": {},
   "outputs": [
    {
     "name": "stdout",
     "output_type": "stream",
     "text": [
      "+---------+---------+--------------------+--------+---------------+---------+----------+--------------+\n",
      "|InvoiceNo|StockCode|         Description|Quantity|    InvoiceDate|UnitPrice|CustomerID|       Country|\n",
      "+---------+---------+--------------------+--------+---------------+---------+----------+--------------+\n",
      "|   554511|    23170|REGENCY TEA PLATE...|       1|5/24/2011 15:52|     3.29|      null|United Kingdom|\n",
      "|   554511|    23171|REGENCY TEA PLATE...|       6|5/24/2011 15:52|     3.29|      null|United Kingdom|\n",
      "|   554511|    23172|REGENCY TEA PLATE...|       2|5/24/2011 15:52|     3.29|      null|United Kingdom|\n",
      "|   554511|    23173|REGENCY TEAPOT RO...|       1|5/24/2011 15:52|    19.96|      null|United Kingdom|\n",
      "|   554511|    23174|REGENCY SUGAR BOW...|       2|5/24/2011 15:52|     8.29|      null|United Kingdom|\n",
      "|   554511|    23175|REGENCY MILK JUG ...|       1|5/24/2011 15:52|     7.46|      null|United Kingdom|\n",
      "|   554511|    23182|TOILET SIGN OCCUP...|       1|5/24/2011 15:52|     2.46|      null|United Kingdom|\n",
      "|   554511|    23199|    JUMBO BAG APPLES|       1|5/24/2011 15:52|     4.13|      null|United Kingdom|\n",
      "|   554511|    23200|     JUMBO BAG PEARS|       9|5/24/2011 15:52|     4.13|      null|United Kingdom|\n",
      "|   554511|    23201|  JUMBO BAG ALPHABET|       2|5/24/2011 15:52|     4.13|      null|United Kingdom|\n",
      "+---------+---------+--------------------+--------+---------------+---------+----------+--------------+\n",
      "only showing top 10 rows\n",
      "\n"
     ]
    }
   ],
   "source": [
    "rtdf2.show(10)"
   ]
  },
  {
   "cell_type": "markdown",
   "metadata": {},
   "source": [
    "## Outlier"
   ]
  },
  {
   "cell_type": "code",
   "execution_count": 44,
   "metadata": {},
   "outputs": [],
   "source": [
    "import numpy as np"
   ]
  },
  {
   "cell_type": "code",
   "execution_count": 45,
   "metadata": {},
   "outputs": [],
   "source": [
    "wdf = spark.read.csv('data/winequality_white.csv',sep=';',inferSchema=True,header=True)"
   ]
  },
  {
   "cell_type": "code",
   "execution_count": 46,
   "metadata": {},
   "outputs": [
    {
     "data": {
      "text/plain": [
       "['fixed_acidity',\n",
       " 'volatile_acidity',\n",
       " 'citric_acid',\n",
       " 'residual_sugar',\n",
       " 'chlorides',\n",
       " 'free_sulfur_ dioxide',\n",
       " 'total_sulfur_dioxide',\n",
       " 'density',\n",
       " 'pH',\n",
       " 'sulphates',\n",
       " 'alcohol',\n",
       " 'quality']"
      ]
     },
     "execution_count": 46,
     "metadata": {},
     "output_type": "execute_result"
    }
   ],
   "source": [
    "# columns of dataframe\n",
    "wdf.columns"
   ]
  },
  {
   "cell_type": "code",
   "execution_count": 47,
   "metadata": {},
   "outputs": [
    {
     "data": {
      "text/plain": [
       "(4898, 12)"
      ]
     },
     "execution_count": 47,
     "metadata": {},
     "output_type": "execute_result"
    }
   ],
   "source": [
    "# shape of dataset\n",
    "wdf.count(),len(wdf.columns)"
   ]
  },
  {
   "cell_type": "code",
   "execution_count": 48,
   "metadata": {},
   "outputs": [
    {
     "name": "stdout",
     "output_type": "stream",
     "text": [
      "root\n",
      " |-- fixed_acidity: double (nullable = true)\n",
      " |-- volatile_acidity: double (nullable = true)\n",
      " |-- citric_acid: double (nullable = true)\n",
      " |-- residual_sugar: double (nullable = true)\n",
      " |-- chlorides: double (nullable = true)\n",
      " |-- free_sulfur_ dioxide: double (nullable = true)\n",
      " |-- total_sulfur_dioxide: double (nullable = true)\n",
      " |-- density: double (nullable = true)\n",
      " |-- pH: double (nullable = true)\n",
      " |-- sulphates: double (nullable = true)\n",
      " |-- alcohol: double (nullable = true)\n",
      " |-- quality: integer (nullable = true)\n",
      "\n"
     ]
    }
   ],
   "source": [
    "# print dataframe schema\n",
    "wdf.printSchema()"
   ]
  },
  {
   "cell_type": "code",
   "execution_count": 49,
   "metadata": {},
   "outputs": [
    {
     "name": "stdout",
     "output_type": "stream",
     "text": [
      "+-------------+----------------+-----------+--------------+---------+--------------------+--------------------+-------+----+---------+-------+-------+\n",
      "|fixed_acidity|volatile_acidity|citric_acid|residual_sugar|chlorides|free_sulfur_ dioxide|total_sulfur_dioxide|density|  pH|sulphates|alcohol|quality|\n",
      "+-------------+----------------+-----------+--------------+---------+--------------------+--------------------+-------+----+---------+-------+-------+\n",
      "|          7.0|            0.27|       0.36|          20.7|    0.045|                45.0|               170.0|  1.001| 3.0|     0.45|    8.8|      6|\n",
      "|          6.3|             0.3|       0.34|           1.6|    0.049|                14.0|               132.0|  0.994| 3.3|     0.49|    9.5|      6|\n",
      "|          8.1|            0.28|        0.4|           6.9|     0.05|                30.0|                97.0| 0.9951|3.26|     0.44|   10.1|      6|\n",
      "|          7.2|            0.23|       0.32|           8.5|    0.058|                47.0|               186.0| 0.9956|3.19|      0.4|    9.9|      6|\n",
      "|          7.2|            0.23|       0.32|           8.5|    0.058|                47.0|               186.0| 0.9956|3.19|      0.4|    9.9|      6|\n",
      "|          8.1|            0.28|        0.4|           6.9|     0.05|                30.0|                97.0| 0.9951|3.26|     0.44|   10.1|      6|\n",
      "|          6.2|            0.32|       0.16|           7.0|    0.045|                30.0|               136.0| 0.9949|3.18|     0.47|    9.6|      6|\n",
      "|          7.0|            0.27|       0.36|          20.7|    0.045|                45.0|               170.0|  1.001| 3.0|     0.45|    8.8|      6|\n",
      "|          6.3|             0.3|       0.34|           1.6|    0.049|                14.0|               132.0|  0.994| 3.3|     0.49|    9.5|      6|\n",
      "|          8.1|            0.22|       0.43|           1.5|    0.044|                28.0|               129.0| 0.9938|3.22|     0.45|   11.0|      6|\n",
      "+-------------+----------------+-----------+--------------+---------+--------------------+--------------------+-------+----+---------+-------+-------+\n",
      "only showing top 10 rows\n",
      "\n"
     ]
    }
   ],
   "source": [
    "# display fisrt few rows of dataframe\n",
    "#wdf.show()\n",
    "wdf.show(10)"
   ]
  },
  {
   "cell_type": "code",
   "execution_count": 50,
   "metadata": {},
   "outputs": [
    {
     "name": "stdout",
     "output_type": "stream",
     "text": [
      "+-------+-------------------+-------------------+--------------------+\n",
      "|summary|                 pH|          sulphates|           chlorides|\n",
      "+-------+-------------------+-------------------+--------------------+\n",
      "|  count|               4898|               4898|                4898|\n",
      "|   mean| 3.1882666394446693| 0.4898468762760325|  0.0457723560636995|\n",
      "| stddev|0.15100059961506673|0.11412583394883222|0.021847968093728805|\n",
      "|    min|               2.72|               0.22|               0.009|\n",
      "|    25%|               3.09|               0.41|               0.036|\n",
      "|    50%|               3.18|               0.47|               0.043|\n",
      "|    75%|               3.28|               0.55|                0.05|\n",
      "|    max|               3.82|               1.08|               0.346|\n",
      "+-------+-------------------+-------------------+--------------------+\n",
      "\n"
     ]
    }
   ],
   "source": [
    "wdf.select('pH','sulphates','chlorides').summary().show()"
   ]
  },
  {
   "cell_type": "code",
   "execution_count": 51,
   "metadata": {},
   "outputs": [],
   "source": [
    "bounds = {\n",
    "    c: dict(\n",
    "        zip([\"q1\", \"q3\"], wdf.approxQuantile(c, [0.25, 0.75], 0))\n",
    "    )\n",
    "    for c in ['pH']\n",
    "}"
   ]
  },
  {
   "cell_type": "code",
   "execution_count": 52,
   "metadata": {},
   "outputs": [
    {
     "data": {
      "text/plain": [
       "{'pH': {'q1': 3.09, 'q3': 3.28}}"
      ]
     },
     "execution_count": 52,
     "metadata": {},
     "output_type": "execute_result"
    }
   ],
   "source": [
    "bounds"
   ]
  },
  {
   "cell_type": "code",
   "execution_count": 53,
   "metadata": {},
   "outputs": [],
   "source": [
    "for c in bounds:\n",
    "    iqr = bounds[c]['q3'] - bounds[c]['q1']\n",
    "    bounds[c]['lower'] = bounds[c]['q1'] - (iqr * 1.5)\n",
    "    bounds[c]['upper'] = bounds[c]['q3'] + (iqr * 1.5)"
   ]
  },
  {
   "cell_type": "code",
   "execution_count": 54,
   "metadata": {},
   "outputs": [
    {
     "data": {
      "text/plain": [
       "{'pH': {'q1': 3.09,\n",
       "  'q3': 3.28,\n",
       "  'lower': 2.8049999999999997,\n",
       "  'upper': 3.5649999999999995}}"
      ]
     },
     "execution_count": 54,
     "metadata": {},
     "output_type": "execute_result"
    }
   ],
   "source": [
    "bounds"
   ]
  },
  {
   "cell_type": "code",
   "execution_count": 55,
   "metadata": {},
   "outputs": [],
   "source": [
    "wdf2 = wdf.select(\n",
    "    '*',\n",
    "    *[\n",
    "        fn.when(\n",
    "            fn.col(c).between(bounds[c]['lower'], bounds[c]['upper']),\n",
    "            0\n",
    "        ).otherwise(1).alias(c+\"_out\") \n",
    "        for c in ['pH']\n",
    "    ]\n",
    ")"
   ]
  },
  {
   "cell_type": "code",
   "execution_count": 56,
   "metadata": {},
   "outputs": [
    {
     "name": "stdout",
     "output_type": "stream",
     "text": [
      "+----+------+\n",
      "|  pH|pH_out|\n",
      "+----+------+\n",
      "| 3.0|     0|\n",
      "| 3.3|     0|\n",
      "|3.26|     0|\n",
      "|3.19|     0|\n",
      "|3.19|     0|\n",
      "|3.26|     0|\n",
      "|3.18|     0|\n",
      "| 3.0|     0|\n",
      "| 3.3|     0|\n",
      "|3.22|     0|\n",
      "+----+------+\n",
      "only showing top 10 rows\n",
      "\n"
     ]
    }
   ],
   "source": [
    "wdf2.select('pH', 'pH_out').show(10)"
   ]
  },
  {
   "cell_type": "code",
   "execution_count": 57,
   "metadata": {},
   "outputs": [
    {
     "name": "stdout",
     "output_type": "stream",
     "text": [
      "+----+------+\n",
      "|  pH|pH_out|\n",
      "+----+------+\n",
      "|3.69|     1|\n",
      "|3.63|     1|\n",
      "|3.72|     1|\n",
      "|3.61|     1|\n",
      "|3.64|     1|\n",
      "|3.64|     1|\n",
      "|3.72|     1|\n",
      "|3.72|     1|\n",
      "|3.58|     1|\n",
      "|3.58|     1|\n",
      "+----+------+\n",
      "only showing top 10 rows\n",
      "\n"
     ]
    }
   ],
   "source": [
    "wdf2.select('pH','pH_out').filter('pH_out==1').show(10)"
   ]
  },
  {
   "cell_type": "code",
   "execution_count": 58,
   "metadata": {},
   "outputs": [
    {
     "data": {
      "text/plain": [
       "75"
      ]
     },
     "execution_count": 58,
     "metadata": {},
     "output_type": "execute_result"
    }
   ],
   "source": [
    "wdf2.select('pH','pH_out').where('pH_out == 1').count()"
   ]
  },
  {
   "cell_type": "code",
   "execution_count": 59,
   "metadata": {},
   "outputs": [],
   "source": [
    "wdf2.createOrReplaceTempView(\"wdf2Table\")"
   ]
  },
  {
   "cell_type": "code",
   "execution_count": 60,
   "metadata": {},
   "outputs": [
    {
     "name": "stdout",
     "output_type": "stream",
     "text": [
      "+----+------+\n",
      "|  pH|pH_out|\n",
      "+----+------+\n",
      "|3.69|     1|\n",
      "|3.63|     1|\n",
      "|3.72|     1|\n",
      "|3.61|     1|\n",
      "|3.64|     1|\n",
      "|3.64|     1|\n",
      "|3.72|     1|\n",
      "|3.72|     1|\n",
      "|3.58|     1|\n",
      "|3.58|     1|\n",
      "+----+------+\n",
      "\n"
     ]
    }
   ],
   "source": [
    "spark.sql('''select pH,pH_out from wdf2Table where pH_out=1 limit 10''').show()"
   ]
  },
  {
   "cell_type": "code",
   "execution_count": 61,
   "metadata": {},
   "outputs": [],
   "source": [
    "# save the data into parquet format \n",
    "wdf2.write.csv('data/wdf2', header='True', mode='overwrite')"
   ]
  },
  {
   "cell_type": "code",
   "execution_count": 62,
   "metadata": {},
   "outputs": [],
   "source": [
    "# Load csv Dataset\n",
    "wdf3=spark.read.csv('data/wdf2',inferSchema=True,header=True)\n",
    "wdf3.createOrReplaceTempView(\"wdf4Table\")"
   ]
  },
  {
   "cell_type": "code",
   "execution_count": 63,
   "metadata": {},
   "outputs": [
    {
     "name": "stdout",
     "output_type": "stream",
     "text": [
      "+-------------+----------------+-----------+--------------+---------+--------------------+--------------------+-------+----+---------+-------+-------+------+\n",
      "|fixed_acidity|volatile_acidity|citric_acid|residual_sugar|chlorides|free_sulfur_ dioxide|total_sulfur_dioxide|density|  pH|sulphates|alcohol|quality|pH_out|\n",
      "+-------------+----------------+-----------+--------------+---------+--------------------+--------------------+-------+----+---------+-------+-------+------+\n",
      "|          6.0|            0.27|       0.28|           4.8|    0.063|                31.0|               201.0| 0.9964|3.69|     0.71|   10.0|      5|     1|\n",
      "|          5.5|           0.485|        0.0|           1.5|    0.065|                 8.0|               103.0|  0.994|3.63|      0.4|    9.7|      4|     1|\n",
      "|          5.9|            0.21|       0.28|           4.6|    0.053|                40.0|               199.0| 0.9964|3.72|      0.7|   10.0|      4|     1|\n",
      "|          6.0|             0.1|       0.24|           1.1|    0.041|                15.0|                65.0| 0.9927|3.61|     0.61|   10.3|      7|     1|\n",
      "|          6.0|            0.24|       0.27|           1.9|    0.048|                40.0|               170.0| 0.9938|3.64|     0.54|   10.0|      7|     1|\n",
      "|          6.0|            0.24|       0.27|           1.9|    0.048|                40.0|               170.0| 0.9938|3.64|     0.54|   10.0|      7|     1|\n",
      "|          7.3|           0.205|       0.31|           1.7|     0.06|                34.0|               110.0| 0.9963|3.72|     0.69|   10.5|      6|     1|\n",
      "|          7.3|           0.205|       0.31|           1.7|     0.06|                34.0|               110.0| 0.9963|3.72|     0.69|   10.5|      6|     1|\n",
      "|          5.9|            0.26|        0.3|           1.0|    0.036|                38.0|               114.0| 0.9928|3.58|     0.48|    9.4|      5|     1|\n",
      "|          6.5|            0.25|       0.35|          12.0|    0.055|                47.0|               179.0|  0.998|3.58|     0.47|   10.0|      5|     1|\n",
      "|          6.1|            0.16|       0.27|          12.6|    0.064|                63.0|               162.0| 0.9994|3.66|     0.43|    8.9|      5|     1|\n",
      "|          5.3|            0.24|       0.33|           1.3|    0.033|                25.0|                97.0| 0.9906|3.59|     0.38|   11.0|      8|     1|\n",
      "|          9.7|            0.24|       0.45|           1.2|    0.033|                11.0|                59.0| 0.9926|2.74|     0.47|   10.8|      6|     1|\n",
      "|          5.3|            0.26|       0.23|          5.15|    0.034|                48.0|               160.0| 0.9952|3.82|     0.51|   10.5|      7|     1|\n",
      "|          6.4|            0.22|       0.34|           1.8|    0.057|                29.0|               104.0| 0.9959|3.81|     0.57|   10.3|      6|     1|\n",
      "+-------------+----------------+-----------+--------------+---------+--------------------+--------------------+-------+----+---------+-------+-------+------+\n",
      "only showing top 15 rows\n",
      "\n"
     ]
    }
   ],
   "source": [
    "wdf3.filter('pH_out==1').show(15)"
   ]
  }
 ],
 "metadata": {
  "kernelspec": {
   "display_name": "Python 3 (ipykernel)",
   "language": "python",
   "name": "python3"
  },
  "language_info": {
   "codemirror_mode": {
    "name": "ipython",
    "version": 3
   },
   "file_extension": ".py",
   "mimetype": "text/x-python",
   "name": "python",
   "nbconvert_exporter": "python",
   "pygments_lexer": "ipython3",
   "version": "3.8.10"
  }
 },
 "nbformat": 4,
 "nbformat_minor": 4
}
