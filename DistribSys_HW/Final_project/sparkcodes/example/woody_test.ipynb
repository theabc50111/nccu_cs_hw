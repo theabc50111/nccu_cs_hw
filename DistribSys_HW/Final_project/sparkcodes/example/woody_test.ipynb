{
 "cells": [
  {
   "cell_type": "code",
   "execution_count": null,
   "id": "13eb9b23-6198-4c72-95c8-22f8ef765994",
   "metadata": {},
   "outputs": [],
   "source": [
    "# import SparkSession\n",
    "from pyspark.sql import SparkSession"
   ]
  },
  {
   "cell_type": "code",
   "execution_count": null,
   "id": "2ca0e132-63af-4f3a-a06a-54d35343c5d0",
   "metadata": {},
   "outputs": [],
   "source": [
    "spark.sparkContext.applicationId"
   ]
  },
  {
   "cell_type": "code",
   "execution_count": null,
   "id": "7d63b61d-533a-46fb-99d5-81a2b01cf6ed",
   "metadata": {},
   "outputs": [],
   "source": [
    "# Load training data\n",
    "training = spark.read.format(\"libsvm\").load(\"data/sample_linear_regression_data.txt\")\n",
    "training.show()"
   ]
  },
  {
   "cell_type": "code",
   "execution_count": null,
   "id": "3681184c-c713-410b-938a-c74aff8dab6e",
   "metadata": {},
   "outputs": [],
   "source": [
    "from pyspark.ml.regression import LinearRegression\n",
    "\n",
    "lr = LinearRegression(maxIter=10, regParam=0.3, elasticNetParam=0.8)\n",
    "\n",
    "# Fit the model\n",
    "lrModel = lr.fit(training)\n",
    "\n",
    "# Print the coefficients and intercept for linear regression\n",
    "print(\"Coefficients: %s\" % str(lrModel.coefficients))\n",
    "print(\"Intercept: %s\" % str(lrModel.intercept))\n",
    "\n",
    "# Summarize the model over the training set and print out some metrics\n",
    "trainingSummary = lrModel.summary\n",
    "print(\"numIterations: %d\" % trainingSummary.totalIterations)\n",
    "print(\"objectiveHistory: %s\" % str(trainingSummary.objectiveHistory))\n",
    "trainingSummary.residuals.show()\n",
    "print(\"RMSE: %f\" % trainingSummary.rootMeanSquaredError)\n",
    "print(\"r2: %f\" % trainingSummary.r2)"
   ]
  },
  {
   "cell_type": "code",
   "execution_count": null,
   "id": "9aab1ca8-0c0c-4a55-bacf-3bfe504a52d8",
   "metadata": {},
   "outputs": [],
   "source": [
    "spark.sparkContext.applicationId"
   ]
  },
  {
   "cell_type": "code",
   "execution_count": null,
   "id": "86d02ddb-f186-46dd-b98a-2794428457bb",
   "metadata": {},
   "outputs": [],
   "source": [
    "from pyspark.conf import SparkConf"
   ]
  },
  {
   "cell_type": "code",
   "execution_count": null,
   "id": "a59261c7-21ba-4f7b-ada9-159f75d37468",
   "metadata": {},
   "outputs": [],
   "source": [
    "spark.sparkContext.getConf().getAll() "
   ]
  },
  {
   "cell_type": "code",
   "execution_count": null,
   "id": "dd989d7e-c070-488c-b2b0-ecb595d00a3c",
   "metadata": {},
   "outputs": [],
   "source": [
    "spark.conf.set(\"spark.sql.legacy.setCommandRejectsSparkCoreConfs\",\"false\")"
   ]
  },
  {
   "cell_type": "code",
   "execution_count": null,
   "id": "046735d3-6f37-4665-8833-68b9af08230b",
   "metadata": {
    "tags": []
   },
   "outputs": [],
   "source": [
    "spark.conf.set('spark.driver.cores', '3')"
   ]
  },
  {
   "cell_type": "code",
   "execution_count": null,
   "id": "7385d5a5-ec0f-461c-a275-74a0f3174d86",
   "metadata": {},
   "outputs": [],
   "source": [
    "spark.sparkContext.getConf().getAll() "
   ]
  },
  {
   "cell_type": "code",
   "execution_count": 2,
   "id": "cf0a6ac2-6a58-488e-94bd-f26d31d70fc9",
   "metadata": {},
   "outputs": [],
   "source": [
    "from pyspark.sql import SparkSession\n",
    "import pyspark\n",
    "\n",
    "\n",
    "sc = SparkSession\\\n",
    "        .builder\\\n",
    "        .appName(\"test\")\\\n",
    "        .getOrCreate()\n",
    "\n"
   ]
  },
  {
   "cell_type": "code",
   "execution_count": null,
   "id": "a74cd906-fbf3-401c-a4f7-1138e26e48d7",
   "metadata": {},
   "outputs": [],
   "source": [
    "spark_conf = SparkConf().set('spark.driver.cores', '3').setAppName('test')"
   ]
  },
  {
   "cell_type": "code",
   "execution_count": null,
   "id": "7fd36c5c-fc31-44de-852a-5c1c3f5cadce",
   "metadata": {},
   "outputs": [],
   "source": [
    "spark_conf.getAll() "
   ]
  },
  {
   "cell_type": "code",
   "execution_count": null,
   "id": "53b41391-88bb-4cc8-b024-ebe5608fc0b5",
   "metadata": {},
   "outputs": [],
   "source": [
    "spark.sparkContext.getConf().getAll() \n",
    "#sc.getConf().getAll()"
   ]
  },
  {
   "cell_type": "code",
   "execution_count": 3,
   "id": "4162d22b-200f-4a7b-8999-d529d43dfc82",
   "metadata": {},
   "outputs": [
    {
     "data": {
      "text/plain": [
       "[('spark.app.startTime', '1653441979996'),\n",
       " ('spark.driver.extraJavaOptions',\n",
       "  '\"-Dio.netty.tryReflectionSetAccessible=true\"'),\n",
       " ('spark.executor.id', 'driver'),\n",
       " ('spark.app.id', 'app-20220525092620-0022'),\n",
       " ('spark.driver.memory', '1g'),\n",
       " ('spark.executor.cores', '2'),\n",
       " ('spark.master', 'spark://eb6b917c950b:7077'),\n",
       " ('spark.driver.cores', '3'),\n",
       " ('spark.driver.host', 'eb6b917c950b'),\n",
       " ('spark.executor.extraJavaOptions',\n",
       "  '\"-Dio.netty.tryReflectionSetAccessible=true\"'),\n",
       " ('spark.executor.memory', '1g'),\n",
       " ('spark.rdd.compress', 'True'),\n",
       " ('spark.app.name', 'test2'),\n",
       " ('spark.driver.port', '33487'),\n",
       " ('spark.serializer.objectStreamReset', '100'),\n",
       " ('spark.submit.pyFiles', ''),\n",
       " ('spark.submit.deployMode', 'client'),\n",
       " ('spark.ui.showConsoleProgress', 'true')]"
      ]
     },
     "execution_count": 3,
     "metadata": {},
     "output_type": "execute_result"
    }
   ],
   "source": [
    "config = pyspark.SparkConf().setAll([('spark.executor.memory', '1g'), ('spark.driver.cores', '3'),  ('spark.driver.memory','1g'), ('spark.app.id','123'), ('spark.app.name','test2')])\n",
    "spark.sparkContext.stop()\n",
    "sc = pyspark.SparkContext(conf=config)\n",
    "sc.getConf().getAll()"
   ]
  },
  {
   "cell_type": "code",
   "execution_count": null,
   "id": "9366f4df-c410-48db-8380-59d65dd3e790",
   "metadata": {},
   "outputs": [],
   "source": [
    "spark.stop()"
   ]
  },
  {
   "cell_type": "code",
   "execution_count": null,
   "id": "3fc1f665-3020-4485-89dd-30d7e2432a2a",
   "metadata": {},
   "outputs": [],
   "source": [
    "sc.getConf().getAll()"
   ]
  },
  {
   "cell_type": "code",
   "execution_count": null,
   "id": "42e103c3-8426-4b91-85d6-00597f6bb349",
   "metadata": {},
   "outputs": [],
   "source": []
  }
 ],
 "metadata": {
  "kernelspec": {
   "display_name": "Python 3 (ipykernel)",
   "language": "python",
   "name": "python3"
  },
  "language_info": {
   "codemirror_mode": {
    "name": "ipython",
    "version": 3
   },
   "file_extension": ".py",
   "mimetype": "text/x-python",
   "name": "python",
   "nbconvert_exporter": "python",
   "pygments_lexer": "ipython3",
   "version": "3.8.10"
  }
 },
 "nbformat": 4,
 "nbformat_minor": 5
}
