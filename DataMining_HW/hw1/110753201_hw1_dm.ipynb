{
 "cells": [
  {
   "cell_type": "code",
   "execution_count": 42,
   "id": "8208b293-236a-475a-85ab-69fe7e76e70d",
   "metadata": {},
   "outputs": [
    {
     "name": "stdout",
     "output_type": "stream",
     "text": [
      "time: 105 ms (started: 2022-01-03 17:11:37 +00:00)\n"
     ]
    }
   ],
   "source": [
    "import pandas as pd\n",
    "from sklearn.preprocessing import OneHotEncoder\n",
    "\n",
    "sales_fact_1998_df = pd.read_csv(\"./hw1_data/sales_fact_1998.csv\")\n",
    "sales_fact_dec_1998_df = pd.read_csv(\"./hw1_data/sales_fact_dec_1998.csv\")"
   ]
  },
  {
   "cell_type": "code",
   "execution_count": 43,
   "id": "4e182554-ac38-4160-a129-59189483f621",
   "metadata": {},
   "outputs": [
    {
     "name": "stdout",
     "output_type": "stream",
     "text": [
      "time: 760 ms (started: 2022-01-03 17:11:37 +00:00)\n"
     ]
    }
   ],
   "source": [
    "transaction1 = sales_fact_1998_df.groupby(['time_id','customer_id'])['product_id'].apply(lambda x:set(x))\n",
    "transaction2 = sales_fact_dec_1998_df.groupby(['time_id','customer_id'])['product_id'].apply(lambda x:set(x))"
   ]
  },
  {
   "cell_type": "code",
   "execution_count": 45,
   "id": "7b5a016b-c738-43d9-908c-c226e2fc9b6e",
   "metadata": {},
   "outputs": [
    {
     "data": {
      "text/plain": [
       "9"
      ]
     },
     "execution_count": 45,
     "metadata": {},
     "output_type": "execute_result"
    },
    {
     "name": "stdout",
     "output_type": "stream",
     "text": [
      "time: 4.24 ms (started: 2022-01-03 17:11:51 +00:00)\n"
     ]
    }
   ],
   "source": [
    "tmp = transaction1[:5].apply(lambda x:len(x)).max()\n",
    "tmp\n",
    "# oh_enc = OneHotEncoder()\n",
    "# oh_tmp = oh_enc.fit_transform(tmp)\n"
   ]
  },
  {
   "cell_type": "code",
   "execution_count": null,
   "id": "30966e87-1308-4722-a84d-d3eb0e7406fe",
   "metadata": {},
   "outputs": [],
   "source": []
  }
 ],
 "metadata": {
  "kernelspec": {
   "display_name": "Python 3 (ipykernel)",
   "language": "python",
   "name": "python3"
  },
  "language_info": {
   "codemirror_mode": {
    "name": "ipython",
    "version": 3
   },
   "file_extension": ".py",
   "mimetype": "text/x-python",
   "name": "python",
   "nbconvert_exporter": "python",
   "pygments_lexer": "ipython3",
   "version": "3.8.10"
  }
 },
 "nbformat": 4,
 "nbformat_minor": 5
}
