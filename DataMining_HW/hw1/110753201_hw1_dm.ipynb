{
 "cells": [
  {
   "cell_type": "code",
   "execution_count": 57,
   "id": "8208b293-236a-475a-85ab-69fe7e76e70d",
   "metadata": {},
   "outputs": [
    {
     "name": "stdout",
     "output_type": "stream",
     "text": [
      "time: 261 ms (started: 2022-01-04 07:01:15 +00:00)\n"
     ]
    }
   ],
   "source": [
    "# ! pip install mlxtend\n",
    "import pandas as pd\n",
    "import numpy as np\n",
    "from mlxtend.frequent_patterns import apriori\n",
    "from mlxtend.frequent_patterns import association_rules\n",
    "\n",
    "sales_fact_1998_ori_df = pd.read_csv(\"./hw1_data/sales_fact_1998.csv\")\n",
    "sales_fact_dec_1998_ori_df = pd.read_csv(\"./hw1_data/sales_fact_dec_1998.csv\")\n",
    "product_ori_df = pd.read_csv(\"./hw1_data/product.csv\")\n",
    "# display(sales_fact_1998_ori_df.info(), sales_fact_dec_1998_ori_df.info(), product_ori_df.info())"
   ]
  },
  {
   "cell_type": "code",
   "execution_count": 58,
   "id": "814b120d-16ff-4a24-8d0c-19dc583e386b",
   "metadata": {},
   "outputs": [
    {
     "name": "stdout",
     "output_type": "stream",
     "text": [
      "time: 57.3 s (started: 2022-01-04 07:01:15 +00:00)\n"
     ]
    }
   ],
   "source": [
    "transaction_ori_df = pd.concat([sales_fact_1998_ori_df, sales_fact_dec_1998_ori_df]).reset_index()\n",
    "transaction_df = transaction_ori_df.copy().drop(['promotion_id', 'unit_sales', 'index', 'store_sales', 'store_cost'], axis=1)\n",
    "transaction_df['product_id'] = transaction_ori_df['product_id'].apply(lambda x:product_ori_df.loc[product_ori_df['product_id']==x, 'product_name'].values[0])\n",
    "transaction_df = pd.concat([transaction_df, pd.get_dummies(transaction_df['product_id'])], axis=1).drop(['product_id'],axis=1)\n",
    "transaction_df = transaction_df.groupby(['time_id', 'customer_id', 'store_id']).sum()"
   ]
  },
  {
   "cell_type": "code",
   "execution_count": 123,
   "id": "86884dfd-1526-4eaa-81e9-626784f3613f",
   "metadata": {},
   "outputs": [
    {
     "data": {
      "text/plain": [
       "[40558,\n",
       " 41077,\n",
       " 56547,\n",
       " 74245,\n",
       " 10986,\n",
       " 43894,\n",
       " 75705,\n",
       " 35470,\n",
       " 146929,\n",
       " 118179,\n",
       " 45966,\n",
       " 125466,\n",
       " 20492,\n",
       " 47093,\n",
       " 59781,\n",
       " 21256,\n",
       " 46514,\n",
       " 79656,\n",
       " 37111,\n",
       " 22443,\n",
       " 126118,\n",
       " 80105,\n",
       " 150058,\n",
       " 110529,\n",
       " 22943,\n",
       " 22653,\n",
       " 50889,\n",
       " 82142]"
      ]
     },
     "execution_count": 123,
     "metadata": {},
     "output_type": "execute_result"
    },
    {
     "name": "stdout",
     "output_type": "stream",
     "text": [
      "time: 326 ms (started: 2022-01-04 11:30:01 +00:00)\n"
     ]
    }
   ],
   "source": [
    "an_col = [col for col in transaction_df.columns if (set(transaction_df[col].unique().tolist()) != {0,1})]\n",
    "duplicate_ind = []\n",
    "for ind in transaction_df.loc[(transaction_df==2).any(axis=1),an_col].index:\n",
    "    cond = np.logical_and(np.logical_and(transaction_ori_df['time_id']==ind[0], transaction_ori_df['customer_id']==ind[1]), transaction_ori_df['store_id']==ind[2])\n",
    "    tmp = transaction_ori_df.loc[cond , 'product_id'].duplicated()\n",
    "    duplicate_ind.append(tmp.loc[tmp==1].index.values[0])\n",
    "    \n",
    "duplicate_ind"
   ]
  },
  {
   "cell_type": "code",
   "execution_count": 48,
   "id": "fa1f4e92-a24f-4b65-9d0c-efb89311ce49",
   "metadata": {},
   "outputs": [
    {
     "ename": "ValueError",
     "evalue": "The allowed values for a DataFrame are True, False, 0, 1. Found value 2",
     "output_type": "error",
     "traceback": [
      "\u001b[0;31m---------------------------------------------------------------------------\u001b[0m",
      "\u001b[0;31mValueError\u001b[0m                                Traceback (most recent call last)",
      "\u001b[0;32m/tmp/ipykernel_499/1588678058.py\u001b[0m in \u001b[0;36m<module>\u001b[0;34m\u001b[0m\n\u001b[0;32m----> 1\u001b[0;31m \u001b[0mfreq_itemset\u001b[0m \u001b[0;34m=\u001b[0m \u001b[0mapriori\u001b[0m\u001b[0;34m(\u001b[0m\u001b[0mtransaction_df\u001b[0m\u001b[0;34m,\u001b[0m \u001b[0mmin_support\u001b[0m\u001b[0;34m=\u001b[0m\u001b[0;36m0.0001\u001b[0m\u001b[0;34m,\u001b[0m \u001b[0muse_colnames\u001b[0m\u001b[0;34m=\u001b[0m\u001b[0;32mTrue\u001b[0m\u001b[0;34m)\u001b[0m\u001b[0;34m\u001b[0m\u001b[0;34m\u001b[0m\u001b[0m\n\u001b[0m\u001b[1;32m      2\u001b[0m \u001b[0mrules\u001b[0m \u001b[0;34m=\u001b[0m \u001b[0massociation_rules\u001b[0m\u001b[0;34m(\u001b[0m\u001b[0mfreq_itemset\u001b[0m\u001b[0;34m,\u001b[0m \u001b[0mmetric\u001b[0m\u001b[0;34m=\u001b[0m\u001b[0;34m'confidence'\u001b[0m\u001b[0;34m,\u001b[0m \u001b[0mmin_threshold\u001b[0m\u001b[0;34m=\u001b[0m\u001b[0;36m0.9\u001b[0m\u001b[0;34m)\u001b[0m\u001b[0;34m\u001b[0m\u001b[0;34m\u001b[0m\u001b[0m\n\u001b[1;32m      3\u001b[0m \u001b[0mdisplay\u001b[0m\u001b[0;34m(\u001b[0m\u001b[0mfreq_itemset\u001b[0m\u001b[0;34m.\u001b[0m\u001b[0msort_values\u001b[0m\u001b[0;34m(\u001b[0m\u001b[0mby\u001b[0m \u001b[0;34m=\u001b[0m \u001b[0;34m'support'\u001b[0m\u001b[0;34m)\u001b[0m\u001b[0;34m)\u001b[0m\u001b[0;34m\u001b[0m\u001b[0;34m\u001b[0m\u001b[0m\n\u001b[1;32m      4\u001b[0m \u001b[0mdisplay\u001b[0m\u001b[0;34m(\u001b[0m\u001b[0mrules\u001b[0m\u001b[0;34m)\u001b[0m\u001b[0;34m\u001b[0m\u001b[0;34m\u001b[0m\u001b[0m\n",
      "\u001b[0;32m/usr/local/lib/python3.8/dist-packages/mlxtend/frequent_patterns/apriori.py\u001b[0m in \u001b[0;36mapriori\u001b[0;34m(df, min_support, use_colnames, max_len, verbose, low_memory)\u001b[0m\n\u001b[1;32m    236\u001b[0m                          'Got %s.' % min_support)\n\u001b[1;32m    237\u001b[0m \u001b[0;34m\u001b[0m\u001b[0m\n\u001b[0;32m--> 238\u001b[0;31m     \u001b[0mfpc\u001b[0m\u001b[0;34m.\u001b[0m\u001b[0mvalid_input_check\u001b[0m\u001b[0;34m(\u001b[0m\u001b[0mdf\u001b[0m\u001b[0;34m)\u001b[0m\u001b[0;34m\u001b[0m\u001b[0;34m\u001b[0m\u001b[0m\n\u001b[0m\u001b[1;32m    239\u001b[0m \u001b[0;34m\u001b[0m\u001b[0m\n\u001b[1;32m    240\u001b[0m     \u001b[0;32mif\u001b[0m \u001b[0mhasattr\u001b[0m\u001b[0;34m(\u001b[0m\u001b[0mdf\u001b[0m\u001b[0;34m,\u001b[0m \u001b[0;34m\"sparse\"\u001b[0m\u001b[0;34m)\u001b[0m\u001b[0;34m:\u001b[0m\u001b[0;34m\u001b[0m\u001b[0;34m\u001b[0m\u001b[0m\n",
      "\u001b[0;32m/usr/local/lib/python3.8/dist-packages/mlxtend/frequent_patterns/fpcommon.py\u001b[0m in \u001b[0;36mvalid_input_check\u001b[0;34m(df)\u001b[0m\n\u001b[1;32m    114\u001b[0m             s = ('The allowed values for a DataFrame'\n\u001b[1;32m    115\u001b[0m                  ' are True, False, 0, 1. Found value %s' % (val))\n\u001b[0;32m--> 116\u001b[0;31m             \u001b[0;32mraise\u001b[0m \u001b[0mValueError\u001b[0m\u001b[0;34m(\u001b[0m\u001b[0ms\u001b[0m\u001b[0;34m)\u001b[0m\u001b[0;34m\u001b[0m\u001b[0;34m\u001b[0m\u001b[0m\n\u001b[0m\u001b[1;32m    117\u001b[0m \u001b[0;34m\u001b[0m\u001b[0m\n\u001b[1;32m    118\u001b[0m \u001b[0;34m\u001b[0m\u001b[0m\n",
      "\u001b[0;31mValueError\u001b[0m: The allowed values for a DataFrame are True, False, 0, 1. Found value 2"
     ]
    },
    {
     "name": "stdout",
     "output_type": "stream",
     "text": [
      "time: 378 ms (started: 2022-01-04 06:50:02 +00:00)\n"
     ]
    }
   ],
   "source": [
    "freq_itemset = apriori(transaction_df, min_support=0.0001, use_colnames=True)\n",
    "rules = association_rules(freq_itemset, metric='confidence', min_threshold=0.9)\n",
    "display(freq_itemset.sort_values(by = 'support'))\n",
    "display(rules)"
   ]
  },
  {
   "cell_type": "code",
   "execution_count": null,
   "id": "2d8ab851-5324-46b5-a5ca-1943471bab42",
   "metadata": {},
   "outputs": [],
   "source": []
  },
  {
   "cell_type": "code",
   "execution_count": null,
   "id": "4e182554-ac38-4160-a129-59189483f621",
   "metadata": {},
   "outputs": [],
   "source": [
    "transaction1_tuple_sereis = sales_fact_1998_df[:50].groupby(['time_id','customer_id'])['product_id'].apply(lambda x:tuple(x.astype(str)))\n",
    "# transaction2 = sales_fact_dec_1998_df.groupby(['time_id','customer_id'])['product_id'].apply(lambda x:set(x))\n",
    "tmp_1 = pd.DataFrame(transaction1_tuple_sereis.tolist(), index=transaction1_tuple_sereis.index)\n",
    "tmp_1 = tmp_1.fillna(\"null\")\n",
    "display(np.unique(tmp_1.values), np.unique(tmp_1.values).shape)"
   ]
  },
  {
   "cell_type": "code",
   "execution_count": null,
   "id": "8b08eab1-5530-4e61-8d12-60f90dfcebe2",
   "metadata": {},
   "outputs": [],
   "source": [
    "sales_fact_1998_df[:50].groupby(['time_id','customer_id'])['product_id'].unique()"
   ]
  },
  {
   "cell_type": "code",
   "execution_count": null,
   "id": "10153bfd-2eb6-43b0-aba0-2455bbe733e4",
   "metadata": {},
   "outputs": [],
   "source": [
    "dir(sales_fact_1998_df[:50].groupby(['time_id','customer_id'])['product_id'])"
   ]
  },
  {
   "cell_type": "code",
   "execution_count": null,
   "id": "ee20e0ff-cf4f-40bc-9593-24fab42d9551",
   "metadata": {},
   "outputs": [],
   "source": []
  },
  {
   "cell_type": "code",
   "execution_count": null,
   "id": "83cb66e0-616d-4a9a-8b5d-4877bc9d7bab",
   "metadata": {},
   "outputs": [],
   "source": []
  },
  {
   "cell_type": "code",
   "execution_count": 82,
   "id": "7b5a016b-c738-43d9-908c-c226e2fc9b6e",
   "metadata": {},
   "outputs": [
    {
     "data": {
      "text/plain": [
       "RangeIndex(start=0, stop=3, step=1)"
      ]
     },
     "execution_count": 82,
     "metadata": {},
     "output_type": "execute_result"
    },
    {
     "name": "stdout",
     "output_type": "stream",
     "text": [
      "time: 2.99 ms (started: 2022-01-04 07:22:42 +00:00)\n"
     ]
    }
   ],
   "source": [
    "tmp_df = pd.DataFrame(np.arange(12).reshape(3,4))\n",
    "(tmp_df>5).any(axis=1).index"
   ]
  },
  {
   "cell_type": "code",
   "execution_count": null,
   "id": "30966e87-1308-4722-a84d-d3eb0e7406fe",
   "metadata": {},
   "outputs": [],
   "source": [
    "oh_enc = OneHotEncoder()\n",
    "X = [['Male', 1], ['Female', 3], ['Female', 2]]\n",
    "oh_tmp = oh_enc.fit(X)\n",
    "oh_enc.categories_"
   ]
  },
  {
   "cell_type": "code",
   "execution_count": null,
   "id": "d21b62d9-4cf5-4b3b-82e6-77c51465b5ab",
   "metadata": {},
   "outputs": [],
   "source": []
  },
  {
   "cell_type": "code",
   "execution_count": null,
   "id": "1295e7ad-b158-4e5a-af5f-3057344c7aeb",
   "metadata": {},
   "outputs": [],
   "source": []
  }
 ],
 "metadata": {
  "kernelspec": {
   "display_name": "Python 3 (ipykernel)",
   "language": "python",
   "name": "python3"
  },
  "language_info": {
   "codemirror_mode": {
    "name": "ipython",
    "version": 3
   },
   "file_extension": ".py",
   "mimetype": "text/x-python",
   "name": "python",
   "nbconvert_exporter": "python",
   "pygments_lexer": "ipython3",
   "version": "3.8.10"
  }
 },
 "nbformat": 4,
 "nbformat_minor": 5
}
